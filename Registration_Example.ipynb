{
 "cells": [
  {
   "cell_type": "markdown",
   "metadata": {},
   "source": [
    "## Arkouda Registration Example\n",
    "In this example we will:\n",
    "- Create random pdarrays and Strings\n",
    "- Register these objects\n",
    "- Verify their registration status using `ak.list_registry`, `.is_registered`, and `.info`\n",
    "- Convert `ak.information`'s JSON return string into a python object \n",
    "- Remove all non-registered objects from the symbol table using `ak.clear`\n",
    "- Disconnect from the arkouda server\n",
    "- Reconnect to the arkouda server\n",
    "- Attach to all registered objects\n",
    "- Unregister everything\n",
    "- Shutdown the server\n",
    "\n",
    "Arkouda functions used:\n",
    "- `ak.connect`\n",
    "- `ak.randint`\n",
    "- `ak.random_strings_uniform`\n",
    "- `ak.pdarray.register`\n",
    "- `ak.Strings.register`\n",
    "- `ak.list_registry`\n",
    "- `ak.pdarray.is_registered`\n",
    "- `ak.Strings.is_registered`\n",
    "- `ak.Strings.info`\n",
    "- `ak.Strings.pretty_print_info`\n",
    "- `ak.infomation`\n",
    "- `ak.pretty_print_information`\n",
    "- `ak.clear`\n",
    "- `ak.disconnect`\n",
    "- `ak.pdarray.attach`\n",
    "- `ak.Strings.attach`\n",
    "- `ak.pdarray.unregister`\n",
    "- `ak.Strings.unregister`\n",
    "- `ak.shutdown`\n"
   ]
  },
  {
   "cell_type": "markdown",
   "metadata": {},
   "source": [
    "#### Launching and Connecting to Arkounda Server\n",
    "Be sure to follow the installation instructions on the [Arkouda README](https://github.com/mhmerrill/arkouda#readme) before running this notebook"
   ]
  },
  {
   "cell_type": "code",
   "execution_count": null,
   "metadata": {},
   "outputs": [],
   "source": [
    "import arkouda as ak"
   ]
  },
  {
   "cell_type": "markdown",
   "metadata": {},
   "source": [
    "The arkouda server must be running before connecting with `ak.connect`. The server can be launched by navigating to the arkouda directory and running `./arkouda_server -nl 1`. For more info, refer to [Running arkouda_server](https://github.com/mhmerrill/arkouda#running-arkouda_server-toc)"
   ]
  },
  {
   "cell_type": "code",
   "execution_count": null,
   "metadata": {},
   "outputs": [],
   "source": [
    "# connect to the arkouda server using the connect_url which the server prints out\n",
    "ak.connect(connect_url=\"tcp://localhost:5555\")"
   ]
  },
  {
   "cell_type": "markdown",
   "metadata": {},
   "source": [
    "#### Intializing and Registering Variables\n",
    "We create random `pdarray` and `Strings` objects and register them using in place `.register` functions"
   ]
  },
  {
   "cell_type": "code",
   "execution_count": null,
   "metadata": {},
   "outputs": [],
   "source": [
    "pda1 = ak.randint(0,10,100)\n",
    "pda2 = ak.randint(0,10,100)\n",
    "str1 = ak.random_strings_uniform(2, 5, 100)\n",
    "str2 = ak.random_strings_uniform(2, 5, 100)"
   ]
  },
  {
   "cell_type": "code",
   "execution_count": null,
   "metadata": {},
   "outputs": [],
   "source": [
    "pda1.register('pda1')\n",
    "str1.register('str1')"
   ]
  },
  {
   "cell_type": "markdown",
   "metadata": {},
   "source": [
    "#### Verifying Registration and Using Information Methods\n",
    "We have just registered `pdarray pda1` and `String str1`. Note that `pdarray pda2` and `String str2` have not been registered. We can verify this using `ak.list_registry`, `.is_registered`, or `.info`"
   ]
  },
  {
   "cell_type": "code",
   "execution_count": null,
   "metadata": {},
   "outputs": [],
   "source": [
    "# ak.list_registry returns a python list of all registered object names\n",
    "print(ak.list_registry())"
   ]
  },
  {
   "cell_type": "code",
   "execution_count": null,
   "metadata": {},
   "outputs": [],
   "source": [
    "# Class level .is_registered() returns a boolean indicating the object's registration status\n",
    "print(f'pda1 is registered: {pda1.is_registered()}')\n",
    "print(f'pda2 is registered: {pda2.is_registered()}')\n",
    "print(f'str1 is registered: {str1.is_registered()}')\n",
    "print(f'str2 is registered: {str2.is_registered()}')"
   ]
  },
  {
   "cell_type": "code",
   "execution_count": null,
   "metadata": {},
   "outputs": [],
   "source": [
    "# Class level .info returns all attributes of an object in a JSON formatted string\n",
    "\n",
    "print(\"str1.info():\")\n",
    "print(str1.info())"
   ]
  },
  {
   "cell_type": "code",
   "execution_count": null,
   "metadata": {},
   "outputs": [],
   "source": [
    "# Class level .pretty_print_info returns all the attributes from .info in human readable form\n",
    "\n",
    "print(\"str1.pretty_print_info():\")\n",
    "str1.pretty_print_info()"
   ]
  },
  {
   "cell_type": "markdown",
   "metadata": {},
   "source": [
    "Using `ak.information` and `ak.pretty_print_information` it's easy to get attributes of all objects in the registry/symbol table"
   ]
  },
  {
   "cell_type": "code",
   "execution_count": null,
   "metadata": {},
   "outputs": [],
   "source": [
    "# ak.information returns all attributes of an object in a JSON formatted string\n",
    "# ak.information can be called with a single object, all registered objects, or all objects\n",
    "\n",
    "print(\"ak.information('registered_object_name'):\")\n",
    "print(ak.information('pda1'))\n",
    "\n",
    "print('\\nak.information(ak.RegisteredSymbols):')\n",
    "print(ak.information(ak.RegisteredSymbols))\n",
    "\n",
    "print('\\nak.information(ak.AllSymbols):')\n",
    "print(ak.information(ak.AllSymbols))"
   ]
  },
  {
   "cell_type": "code",
   "execution_count": null,
   "metadata": {},
   "outputs": [],
   "source": [
    "# all the same arguments can be passed into ak.pretty_print_information for human readable output\n",
    "print(\"ak.pretty_print_information('registered_object_name'):\")\n",
    "ak.pretty_print_information('pda1')\n",
    "\n",
    "print('\\nak.pretty_print_information(ak.RegisteredSymbols):')\n",
    "ak.pretty_print_information(ak.RegisteredSymbols)\n",
    "\n",
    "print('\\nak.pretty_print_information(ak.AllSymbols):')\n",
    "ak.pretty_print_information(ak.AllSymbols)"
   ]
  },
  {
   "cell_type": "markdown",
   "metadata": {},
   "source": [
    "We can see `ak.pretty_print_information(ak.RegisteredSymbols)` only contains references to objects related to `pda1` and `str1`"
   ]
  },
  {
   "cell_type": "markdown",
   "metadata": {},
   "source": [
    "The JSON formmated string that's returned by `ak.information` and class level `.info` functions can be turned into a list of dictionaries in python using `json.loads` from the `json` library"
   ]
  },
  {
   "cell_type": "code",
   "execution_count": null,
   "metadata": {},
   "outputs": [],
   "source": [
    "# The JSON output of ak.information and .info can be parsed into python using the JSON library\n",
    "import json\n",
    "\n",
    "uint8_list = [symbol for symbol in json.loads(ak.information(ak.AllSymbols)) if symbol['dtype'] == 'uint8']\n",
    "for sym in uint8_list:\n",
    "    print(sym)"
   ]
  },
  {
   "cell_type": "markdown",
   "metadata": {},
   "source": [
    "`ak.clear()` removes all non-registered objects from the symbol table, so `ak.pretty_print_information(ak.AllSymbols)` is different after a clear"
   ]
  },
  {
   "cell_type": "code",
   "execution_count": null,
   "metadata": {},
   "outputs": [],
   "source": [
    "print('Before clear:')\n",
    "ak.pretty_print_information(ak.AllSymbols)\n",
    "\n",
    "ak.clear()\n",
    "\n",
    "print('\\nAfter clear:')\n",
    "ak.pretty_print_information(ak.AllSymbols)"
   ]
  },
  {
   "cell_type": "markdown",
   "metadata": {},
   "source": [
    "#### Disconnecting from Arkouda Server and Attaching Registered Objects\n",
    "Users can `attach` to objects registered with the server after a disconnect. This enables access to registered objects even if the original python object is lost  "
   ]
  },
  {
   "cell_type": "markdown",
   "metadata": {},
   "source": [
    "We are going to simulate the python client dying. To do this, we set references for `pda1` and `str1` to `None` and disconnect from the server"
   ]
  },
  {
   "cell_type": "code",
   "execution_count": null,
   "metadata": {},
   "outputs": [],
   "source": [
    "pda1 = None\n",
    "str1 = None"
   ]
  },
  {
   "cell_type": "code",
   "execution_count": null,
   "metadata": {},
   "outputs": [],
   "source": [
    "ak.disconnect()"
   ]
  },
  {
   "cell_type": "markdown",
   "metadata": {},
   "source": [
    "Now we come back and reconnect to the server. We attempt to access `pda1` and `str1` but no longer have the objects in python"
   ]
  },
  {
   "cell_type": "code",
   "execution_count": null,
   "metadata": {},
   "outputs": [],
   "source": [
    "# connect to the arkouda server using the connect_url which the server prints out\n",
    "ak.connect(\"localhost\")"
   ]
  },
  {
   "cell_type": "code",
   "execution_count": null,
   "metadata": {},
   "outputs": [],
   "source": [
    "print(f'pda1:{pda1}')\n",
    "print(f'str1:{str1}')"
   ]
  },
  {
   "cell_type": "markdown",
   "metadata": {},
   "source": [
    "However the server still has these objects registered"
   ]
  },
  {
   "cell_type": "code",
   "execution_count": null,
   "metadata": {},
   "outputs": [],
   "source": [
    "print('After reconnect to server:')\n",
    "# ak.pretty_print_information and ak.information without arguments defaults to ak.RegisteredSymbols\n",
    "ak.pretty_print_information()"
   ]
  },
  {
   "cell_type": "markdown",
   "metadata": {},
   "source": [
    "We want to attach to these objects on the server to regain access to them"
   ]
  },
  {
   "cell_type": "code",
   "execution_count": null,
   "metadata": {},
   "outputs": [],
   "source": [
    "pda1 = ak.pdarray.attach('pda1')\n",
    "str1 = ak.Strings.attach('str1')"
   ]
  },
  {
   "cell_type": "code",
   "execution_count": null,
   "metadata": {},
   "outputs": [],
   "source": [
    "print(f'pda1:{pda1}')\n",
    "print(f'str1:{str1}')"
   ]
  },
  {
   "cell_type": "markdown",
   "metadata": {},
   "source": [
    "We restored our access to `pda1` and `str1` using the `attach` functionality. Now we unregister everything and shutdown the arkouda server "
   ]
  },
  {
   "cell_type": "code",
   "execution_count": null,
   "metadata": {},
   "outputs": [],
   "source": [
    "pda1.unregister()\n",
    "str1.unregister()\n",
    "ak.clear()"
   ]
  },
  {
   "cell_type": "code",
   "execution_count": null,
   "metadata": {},
   "outputs": [],
   "source": [
    "print(ak.information(ak.AllSymbols))"
   ]
  },
  {
   "cell_type": "code",
   "execution_count": null,
   "metadata": {},
   "outputs": [],
   "source": [
    "ak.shutdown()"
   ]
  }
 ],
 "metadata": {
  "kernelspec": {
   "display_name": "Python 3",
   "language": "python",
   "name": "python3"
  },
  "language_info": {
   "codemirror_mode": {
    "name": "ipython",
    "version": 3
   },
   "file_extension": ".py",
   "mimetype": "text/x-python",
   "name": "python",
   "nbconvert_exporter": "python",
   "pygments_lexer": "ipython3",
   "version": "3.7.9"
  }
 },
 "nbformat": 4,
 "nbformat_minor": 4
}
