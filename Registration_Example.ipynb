{
 "cells": [
  {
   "cell_type": "markdown",
   "metadata": {},
   "source": [
    "## Arkouda Registration Example\n",
    "In this example we will:\n",
    "- Create random pdarrays, Strings, Categoricals, SegArrays, and GroupBys\n",
    "- Register these objects\n",
    "- Verify their registration status using `ak.list_registry`, `.is_registered`, and `.info`\n",
    "- Convert `ak.information`'s JSON return string into a python object \n",
    "- Remove all non-registered objects from the symbol table using `ak.clear`\n",
    "- Disconnect from the arkouda server\n",
    "- Reconnect to the arkouda server\n",
    "- Attach to all registered objects\n",
    "- Unregister everything\n",
    "- Shutdown the server\n",
    "\n",
    "Arkouda functions used:\n",
    "- `ak.connect`\n",
    "- `ak.randint`\n",
    "- `ak.random_strings_uniform`\n",
    "- `ak.pdarray.register`\n",
    "- `ak.Strings.register`\n",
    "- `ak.Categorical.register`\n",
    "- `ak.SegArray.register`\n",
    "- `ak.GroupBy.register`\n",
    "- `ak.list_registry`\n",
    "- `ak.pdarray.is_registered`\n",
    "- `ak.Strings.is_registered`\n",
    "- `ak.Categorical.is_registered`\n",
    "- `ak.SegArray.is_registered`\n",
    "- `ak.GroupBy.is_registered`\n",
    "- `ak.Strings.info`\n",
    "- `ak.Strings.pretty_print_info`\n",
    "- `ak.infomation`\n",
    "- `ak.pretty_print_information`\n",
    "- `ak.clear`\n",
    "- `ak.disconnect`\n",
    "- `ak.attach`\n",
    "- `ak.GroupBy.attach`\n",
    "- `ak.pdarray.unregister`\n",
    "- `ak.Strings.unregister`\n",
    "- `ak.Categorical.unregister`\n",
    "- `ak.SegArray.unregister`\n",
    "- `ak.GroupBy.unregister`\n",
    "- `ak.shutdown`\n"
   ]
  },
  {
   "cell_type": "markdown",
   "metadata": {},
   "source": [
    "#### Launching and Connecting to Arkounda Server\n",
    "Be sure to follow the installation instructions on the [Arkouda README](https://github.com/mhmerrill/arkouda#readme) before running this notebook"
   ]
  },
  {
   "cell_type": "code",
   "execution_count": 1,
   "metadata": {},
   "outputs": [
    {
     "name": "stdout",
     "output_type": "stream",
     "text": [
      "    _         _                   _       \n",
      "   / \\   _ __| | _____  _   _  __| | __ _ \n",
      "  / _ \\ | '__| |/ / _ \\| | | |/ _` |/ _` |\n",
      " / ___ \\| |  |   < (_) | |_| | (_| | (_| |\n",
      "/_/   \\_\\_|  |_|\\_\\___/ \\__,_|\\__,_|\\__,_|\n",
      "                                          \n",
      "\n",
      "Client Version: v2022.05.09+19.g81249870\n"
     ]
    }
   ],
   "source": [
    "import arkouda as ak"
   ]
  },
  {
   "cell_type": "markdown",
   "metadata": {},
   "source": [
    "The arkouda server must be running before connecting with `ak.connect`. The server can be launched by navigating to the arkouda directory and running `./arkouda_server -nl 1`. For more info, refer to [Running arkouda_server](https://github.com/mhmerrill/arkouda#running-arkouda_server-toc)"
   ]
  },
  {
   "cell_type": "code",
   "execution_count": 2,
   "metadata": {},
   "outputs": [
    {
     "name": "stderr",
     "output_type": "stream",
     "text": [
      "/home/josh/git/arkouda/arkouda/client.py:147: RuntimeWarning: Version mismatch between client (v2022.05.09+19.g81249870) and server (v2022.05.09+15.g8ea55dba.dirty); this may cause some commands to fail or behave incorrectly! Updating arkouda is strongly recommended.\n",
      "  warnings.warn(('Version mismatch between client ({}) and server ({}); ' +\n",
      "connected to arkouda server tcp://*:5555\n"
     ]
    }
   ],
   "source": [
    "# connect to the arkouda server using the connect_url which the server prints out\n",
    "ak.connect(connect_url=\"tcp://localhost:5555\")"
   ]
  },
  {
   "cell_type": "markdown",
   "metadata": {},
   "source": [
    "#### Intializing and Registering Variables\n",
    "We create random `pdarray`, `Strings`, `Categorical`, `SegArray`, and `GroupBy` objects and register them using in place `.register` functions"
   ]
  },
  {
   "cell_type": "code",
   "execution_count": 3,
   "metadata": {},
   "outputs": [],
   "source": [
    "pda1 = ak.randint(0,10,100)\n",
    "pda2 = ak.randint(0,10,100)\n",
    "str1 = ak.random_strings_uniform(2, 5, 100)\n",
    "str2 = ak.random_strings_uniform(2, 5, 100)\n"
   ]
  },
  {
   "cell_type": "markdown",
   "metadata": {},
   "source": [
    "`Categorical` is built from `Strings` objects, so here we're using our `Strings` objects to create our `Categorical` objects"
   ]
  },
  {
   "cell_type": "code",
   "execution_count": 4,
   "metadata": {},
   "outputs": [],
   "source": [
    "cat1 = ak.Categorical(str1)\n",
    "cat2 = ak.Categorical(str2)"
   ]
  },
  {
   "cell_type": "markdown",
   "metadata": {},
   "source": [
    "`SegArray` is a segmented array built from multiple `pdarray`s of varying length"
   ]
  },
  {
   "cell_type": "code",
   "execution_count": 5,
   "metadata": {},
   "outputs": [],
   "source": [
    "# First, we generate three lists that are then flattened into a single list\n",
    "a = [10, 11, 12, 13, 14, 15]\n",
    "b = [20, 21]\n",
    "c = [30, 31, 32, 33]\n",
    "flat = a + b + c\n",
    "\n",
    "# Then, we turn this flattened list into a pdarray\n",
    "akflat = ak.array(flat)\n",
    "\n",
    "# Next, we create a pdarray for the segments, which can be thought of as the starting index in the flattened array for each of the three intial lists\n",
    "# In this case, 0 is the start of the first segment, list a; the length of list a, 6, is the start of the second segment, list b; and the combined length\n",
    "# of lists a and b, 8, is the starting index of list c\n",
    "segments = ak.array([0, len(a), len(a)+len(b)])\n",
    "\n",
    "# Finally, we create our SegArry using the segments and akflat pdarrays\n",
    "segarr = ak.SegArray(segments, akflat)"
   ]
  },
  {
   "cell_type": "markdown",
   "metadata": {},
   "source": [
    "`GroupBy` is a grouping object that can group together multiple `groupable` objects (`pdarray`, `Strings`, and `Categorical`) or a list of these types. Each component can have multiple registered entries, so to keep things simple we will create two `GroupBy`s using a `pdarray` and `Strings` object"
   ]
  },
  {
   "cell_type": "code",
   "execution_count": 6,
   "metadata": {},
   "outputs": [],
   "source": [
    "group1 = ak.GroupBy(ak.randint(0,10,100))\n",
    "group2 = ak.GroupBy(str1)"
   ]
  },
  {
   "cell_type": "code",
   "execution_count": 7,
   "metadata": {},
   "outputs": [
    {
     "data": {
      "text/plain": [
       "<arkouda.groupbyclass.GroupBy at 0x7efc0051f4f0>"
      ]
     },
     "execution_count": 7,
     "metadata": {},
     "output_type": "execute_result"
    }
   ],
   "source": [
    "pda1.register('pda1')\n",
    "str1.register('str1')\n",
    "cat1.register('cat1')\n",
    "segarr.register('segarr')\n",
    "group1.register('group1')"
   ]
  },
  {
   "cell_type": "markdown",
   "metadata": {},
   "source": [
    "#### Verifying Registration and Using Information Methods\n",
    "We have just registered `pdarray pda1`, `String str1`, `Categorical cat1`, `SegArray segarr`, and `GroupBy group1`. Note that `pdarray pda2`, `String str2`, `Categorical cat2`, and `GroupBy group2` have not been registered. We can verify this using `ak.list_registry`, `.is_registered`, or `.info`"
   ]
  },
  {
   "cell_type": "code",
   "execution_count": 8,
   "metadata": {},
   "outputs": [
    {
     "name": "stdout",
     "output_type": "stream",
     "text": [
      "['segarr_segments', 'pda1', 'str1', 'segarr_lengths', 'cat1.codes', 'segarr_values', 'group1.permutation', 'group1.segments', 'group1_pdarray.keys', 'cat1.categories', 'cat1._akNAcode', 'cat1.segments', 'cat1.permutation', 'group1_pdarray.unique_keys']\n"
     ]
    }
   ],
   "source": [
    "# ak.list_registry returns a python list of all registered object names\n",
    "print(ak.list_registry())"
   ]
  },
  {
   "cell_type": "markdown",
   "metadata": {},
   "source": [
    "Note that `SegArray` does not currently have a `.is_registered` method, so it is not included here"
   ]
  },
  {
   "cell_type": "code",
   "execution_count": 9,
   "metadata": {},
   "outputs": [
    {
     "name": "stdout",
     "output_type": "stream",
     "text": [
      "pda1 is registered: True\n",
      "pda2 is registered: False\n",
      "str1 is registered: True\n",
      "str2 is registered: False\n",
      "cat1 is registered: True\n",
      "cat2 is registered: False\n",
      "group1 is registered: True\n",
      "group2 is registered: False\n"
     ]
    }
   ],
   "source": [
    "# Class level .is_registered() returns a boolean indicating the object's registration status\n",
    "print(f'pda1 is registered: {pda1.is_registered()}')\n",
    "print(f'pda2 is registered: {pda2.is_registered()}')\n",
    "print(f'str1 is registered: {str1.is_registered()}')\n",
    "print(f'str2 is registered: {str2.is_registered()}')\n",
    "print(f'cat1 is registered: {cat1.is_registered()}')\n",
    "print(f'cat2 is registered: {cat2.is_registered()}')\n",
    "print(f'group1 is registered: {group1.is_registered()}')\n",
    "print(f'group2 is registered: {group2.is_registered()}')"
   ]
  },
  {
   "cell_type": "code",
   "execution_count": 10,
   "metadata": {},
   "outputs": [
    {
     "name": "stdout",
     "output_type": "stream",
     "text": [
      "str1.info():\n",
      "[{\"name\":\"str1\", \"dtype\":\"str\", \"size\":100, \"ndim\":1, \"shape\":[100], \"itemsize\":1, \"registered\":true}]\n",
      "cat1.info():\n",
      "[{\"name\":\"cat1.categories\", \"dtype\":\"str\", \"size\":99, \"ndim\":1, \"shape\":[99], \"itemsize\":1, \"registered\":true},{\"name\":\"cat1.segments\", \"dtype\":\"int64\", \"size\":98, \"ndim\":1, \"shape\":[98], \"itemsize\":8, \"registered\":true},{\"name\":\"cat1._akNAcode\", \"dtype\":\"int64\", \"size\":1, \"ndim\":1, \"shape\":[1], \"itemsize\":8, \"registered\":true},{\"name\":\"cat1.codes\", \"dtype\":\"int64\", \"size\":100, \"ndim\":1, \"shape\":[100], \"itemsize\":8, \"registered\":true},{\"name\":\"cat1.permutation\", \"dtype\":\"int64\", \"size\":100, \"ndim\":1, \"shape\":[100], \"itemsize\":8, \"registered\":true}]\n"
     ]
    }
   ],
   "source": [
    "# Class level .info returns all attributes of an object in a JSON formatted string\n",
    "\n",
    "print(\"str1.info():\")\n",
    "print(str1.info())\n",
    "\n",
    "print(\"cat1.info():\")\n",
    "print(cat1.info())"
   ]
  },
  {
   "cell_type": "code",
   "execution_count": 11,
   "metadata": {},
   "outputs": [
    {
     "name": "stdout",
     "output_type": "stream",
     "text": [
      "str1.pretty_print_info():\n",
      "InfoEntry(name=str1, dtype=str, size=100, ndim=1, shape=[100], itemsize=1, registered=True)\n",
      "cat1.pretty_print_info():\n",
      "InfoEntry(name=cat1.categories, dtype=str, size=99, ndim=1, shape=[99], itemsize=1, registered=True)\n",
      "InfoEntry(name=cat1.segments, dtype=int64, size=98, ndim=1, shape=[98], itemsize=8, registered=True)\n",
      "InfoEntry(name=cat1._akNAcode, dtype=int64, size=1, ndim=1, shape=[1], itemsize=8, registered=True)\n",
      "InfoEntry(name=cat1.codes, dtype=int64, size=100, ndim=1, shape=[100], itemsize=8, registered=True)\n",
      "InfoEntry(name=cat1.permutation, dtype=int64, size=100, ndim=1, shape=[100], itemsize=8, registered=True)\n",
      "None\n"
     ]
    }
   ],
   "source": [
    "# Class level .pretty_print_info returns all the attributes from .info in human readable form\n",
    "\n",
    "print(\"str1.pretty_print_info():\")\n",
    "str1.pretty_print_info()\n",
    "\n",
    "print(\"cat1.pretty_print_info():\")\n",
    "print(cat1.pretty_print_info())"
   ]
  },
  {
   "cell_type": "markdown",
   "metadata": {},
   "source": [
    "Using `ak.information` and `ak.pretty_print_information` it's easy to get attributes of all objects in the registry/symbol table"
   ]
  },
  {
   "cell_type": "code",
   "execution_count": 12,
   "metadata": {},
   "outputs": [
    {
     "name": "stdout",
     "output_type": "stream",
     "text": [
      "ak.information('registered_object_name'):\n",
      "[{\"name\":\"pda1\", \"dtype\":\"int64\", \"size\":100, \"ndim\":1, \"shape\":[100], \"itemsize\":8, \"registered\":true}]\n",
      "\n",
      "ak.information(ak.RegisteredSymbols):\n",
      "[{\"name\":\"segarr_segments\", \"dtype\":\"int64\", \"size\":3, \"ndim\":1, \"shape\":[3], \"itemsize\":8, \"registered\":true},{\"name\":\"pda1\", \"dtype\":\"int64\", \"size\":100, \"ndim\":1, \"shape\":[100], \"itemsize\":8, \"registered\":true},{\"name\":\"str1\", \"dtype\":\"str\", \"size\":100, \"ndim\":1, \"shape\":[100], \"itemsize\":1, \"registered\":true},{\"name\":\"segarr_lengths\", \"dtype\":\"int64\", \"size\":3, \"ndim\":1, \"shape\":[3], \"itemsize\":8, \"registered\":true},{\"name\":\"cat1.codes\", \"dtype\":\"int64\", \"size\":100, \"ndim\":1, \"shape\":[100], \"itemsize\":8, \"registered\":true},{\"name\":\"segarr_values\", \"dtype\":\"int64\", \"size\":12, \"ndim\":1, \"shape\":[12], \"itemsize\":8, \"registered\":true},{\"name\":\"group1.permutation\", \"dtype\":\"int64\", \"size\":100, \"ndim\":1, \"shape\":[100], \"itemsize\":8, \"registered\":true},{\"name\":\"group1.segments\", \"dtype\":\"int64\", \"size\":10, \"ndim\":1, \"shape\":[10], \"itemsize\":8, \"registered\":true},{\"name\":\"group1_pdarray.keys\", \"dtype\":\"int64\", \"size\":100, \"ndim\":1, \"shape\":[100], \"itemsize\":8, \"registered\":true},{\"name\":\"cat1.categories\", \"dtype\":\"str\", \"size\":99, \"ndim\":1, \"shape\":[99], \"itemsize\":1, \"registered\":true},{\"name\":\"cat1._akNAcode\", \"dtype\":\"int64\", \"size\":1, \"ndim\":1, \"shape\":[1], \"itemsize\":8, \"registered\":true},{\"name\":\"cat1.segments\", \"dtype\":\"int64\", \"size\":98, \"ndim\":1, \"shape\":[98], \"itemsize\":8, \"registered\":true},{\"name\":\"cat1.permutation\", \"dtype\":\"int64\", \"size\":100, \"ndim\":1, \"shape\":[100], \"itemsize\":8, \"registered\":true},{\"name\":\"group1_pdarray.unique_keys\", \"dtype\":\"int64\", \"size\":10, \"ndim\":1, \"shape\":[10], \"itemsize\":8, \"registered\":true}]\n",
      "\n",
      "ak.information(ak.AllSymbols):\n",
      "[{\"name\":\"segarr_lengths\", \"dtype\":\"int64\", \"size\":3, \"ndim\":1, \"shape\":[3], \"itemsize\":8, \"registered\":true},{\"name\":\"id_DH8F69g_46\", \"dtype\":\"int64\", \"size\":12, \"ndim\":1, \"shape\":[12], \"itemsize\":8, \"registered\":false},{\"name\":\"segarr_values\", \"dtype\":\"int64\", \"size\":12, \"ndim\":1, \"shape\":[12], \"itemsize\":8, \"registered\":true},{\"name\":\"id_DH8F69g_43\", \"dtype\":\"bool\", \"size\":3, \"ndim\":1, \"shape\":[3], \"itemsize\":1, \"registered\":false},{\"name\":\"cat1.permutation\", \"dtype\":\"int64\", \"size\":100, \"ndim\":1, \"shape\":[100], \"itemsize\":8, \"registered\":true},{\"name\":\"segarr_segments\", \"dtype\":\"int64\", \"size\":3, \"ndim\":1, \"shape\":[3], \"itemsize\":8, \"registered\":true},{\"name\":\"id_DH8F69g_48\", \"dtype\":\"int64\", \"size\":12, \"ndim\":1, \"shape\":[12], \"itemsize\":8, \"registered\":false},{\"name\":\"id_DH8F69g_49\", \"dtype\":\"int64\", \"size\":3, \"ndim\":1, \"shape\":[3], \"itemsize\":8, \"registered\":false},{\"name\":\"id_DH8F69g_30\", \"dtype\":\"str\", \"size\":100, \"ndim\":1, \"shape\":[100], \"itemsize\":1, \"registered\":false},{\"name\":\"group1_pdarray.keys\", \"dtype\":\"int64\", \"size\":100, \"ndim\":1, \"shape\":[100], \"itemsize\":8, \"registered\":true},{\"name\":\"id_DH8F69g_35\", \"dtype\":\"str\", \"size\":101, \"ndim\":1, \"shape\":[101], \"itemsize\":1, \"registered\":false},{\"name\":\"id_DH8F69g_36\", \"dtype\":\"int64\", \"size\":1, \"ndim\":1, \"shape\":[1], \"itemsize\":8, \"registered\":false},{\"name\":\"id_DH8F69g_64\", \"dtype\":\"str\", \"size\":98, \"ndim\":1, \"shape\":[98], \"itemsize\":1, \"registered\":false},{\"name\":\"id_DH8F69g_24\", \"dtype\":\"int64\", \"size\":100, \"ndim\":1, \"shape\":[100], \"itemsize\":8, \"registered\":false},{\"name\":\"id_DH8F69g_25\", \"dtype\":\"int64\", \"size\":100, \"ndim\":1, \"shape\":[100], \"itemsize\":8, \"registered\":false},{\"name\":\"id_DH8F69g_61\", \"dtype\":\"int64\", \"size\":100, \"ndim\":1, \"shape\":[100], \"itemsize\":8, \"registered\":false},{\"name\":\"id_DH8F69g_62\", \"dtype\":\"int64\", \"size\":98, \"ndim\":1, \"shape\":[98], \"itemsize\":8, \"registered\":false},{\"name\":\"id_DH8F69g_29\", \"dtype\":\"int64\", \"size\":100, \"ndim\":1, \"shape\":[100], \"itemsize\":8, \"registered\":false},{\"name\":\"cat1._akNAcode\", \"dtype\":\"int64\", \"size\":1, \"ndim\":1, \"shape\":[1], \"itemsize\":8, \"registered\":true},{\"name\":\"group1_pdarray.unique_keys\", \"dtype\":\"int64\", \"size\":10, \"ndim\":1, \"shape\":[10], \"itemsize\":8, \"registered\":true},{\"name\":\"id_DH8F69g_2\", \"dtype\":\"int64\", \"size\":100, \"ndim\":1, \"shape\":[100], \"itemsize\":8, \"registered\":false},{\"name\":\"str1\", \"dtype\":\"str\", \"size\":100, \"ndim\":1, \"shape\":[100], \"itemsize\":1, \"registered\":true},{\"name\":\"pda1\", \"dtype\":\"int64\", \"size\":100, \"ndim\":1, \"shape\":[100], \"itemsize\":8, \"registered\":true},{\"name\":\"id_DH8F69g_4\", \"dtype\":\"str\", \"size\":100, \"ndim\":1, \"shape\":[100], \"itemsize\":1, \"registered\":false},{\"name\":\"group1.permutation\", \"dtype\":\"int64\", \"size\":100, \"ndim\":1, \"shape\":[100], \"itemsize\":8, \"registered\":true},{\"name\":\"id_DH8F69g_51\", \"dtype\":\"int64\", \"size\":3, \"ndim\":1, \"shape\":[3], \"itemsize\":8, \"registered\":false},{\"name\":\"id_DH8F69g_14\", \"dtype\":\"str\", \"size\":98, \"ndim\":1, \"shape\":[98], \"itemsize\":1, \"registered\":false},{\"name\":\"cat1.codes\", \"dtype\":\"int64\", \"size\":100, \"ndim\":1, \"shape\":[100], \"itemsize\":8, \"registered\":true},{\"name\":\"cat1.categories\", \"dtype\":\"str\", \"size\":99, \"ndim\":1, \"shape\":[99], \"itemsize\":1, \"registered\":true},{\"name\":\"group1.segments\", \"dtype\":\"int64\", \"size\":10, \"ndim\":1, \"shape\":[10], \"itemsize\":8, \"registered\":true},{\"name\":\"cat1.segments\", \"dtype\":\"int64\", \"size\":98, \"ndim\":1, \"shape\":[98], \"itemsize\":8, \"registered\":true}]\n"
     ]
    }
   ],
   "source": [
    "# ak.information returns all attributes of an object in a JSON formatted string\n",
    "# ak.information can be called with a single object, all registered objects, or all objects\n",
    "\n",
    "print(\"ak.information('registered_object_name'):\")\n",
    "print(ak.information('pda1'))\n",
    "\n",
    "print('\\nak.information(ak.RegisteredSymbols):')\n",
    "print(ak.information(ak.RegisteredSymbols))\n",
    "\n",
    "print('\\nak.information(ak.AllSymbols):')\n",
    "print(ak.information(ak.AllSymbols))"
   ]
  },
  {
   "cell_type": "code",
   "execution_count": 13,
   "metadata": {},
   "outputs": [
    {
     "name": "stdout",
     "output_type": "stream",
     "text": [
      "ak.pretty_print_information('registered_object_name'):\n",
      "InfoEntry(name=pda1, dtype=int64, size=100, ndim=1, shape=[100], itemsize=8, registered=True)\n",
      "\n",
      "ak.pretty_print_information(ak.RegisteredSymbols):\n",
      "InfoEntry(name=segarr_segments, dtype=int64, size=3, ndim=1, shape=[3], itemsize=8, registered=True)\n",
      "InfoEntry(name=pda1, dtype=int64, size=100, ndim=1, shape=[100], itemsize=8, registered=True)\n",
      "InfoEntry(name=str1, dtype=str, size=100, ndim=1, shape=[100], itemsize=1, registered=True)\n",
      "InfoEntry(name=segarr_lengths, dtype=int64, size=3, ndim=1, shape=[3], itemsize=8, registered=True)\n",
      "InfoEntry(name=cat1.codes, dtype=int64, size=100, ndim=1, shape=[100], itemsize=8, registered=True)\n",
      "InfoEntry(name=segarr_values, dtype=int64, size=12, ndim=1, shape=[12], itemsize=8, registered=True)\n",
      "InfoEntry(name=group1.permutation, dtype=int64, size=100, ndim=1, shape=[100], itemsize=8, registered=True)\n",
      "InfoEntry(name=group1.segments, dtype=int64, size=10, ndim=1, shape=[10], itemsize=8, registered=True)\n",
      "InfoEntry(name=group1_pdarray.keys, dtype=int64, size=100, ndim=1, shape=[100], itemsize=8, registered=True)\n",
      "InfoEntry(name=cat1.categories, dtype=str, size=99, ndim=1, shape=[99], itemsize=1, registered=True)\n",
      "InfoEntry(name=cat1._akNAcode, dtype=int64, size=1, ndim=1, shape=[1], itemsize=8, registered=True)\n",
      "InfoEntry(name=cat1.segments, dtype=int64, size=98, ndim=1, shape=[98], itemsize=8, registered=True)\n",
      "InfoEntry(name=cat1.permutation, dtype=int64, size=100, ndim=1, shape=[100], itemsize=8, registered=True)\n",
      "InfoEntry(name=group1_pdarray.unique_keys, dtype=int64, size=10, ndim=1, shape=[10], itemsize=8, registered=True)\n",
      "\n",
      "ak.pretty_print_information(ak.AllSymbols):\n",
      "InfoEntry(name=segarr_lengths, dtype=int64, size=3, ndim=1, shape=[3], itemsize=8, registered=True)\n",
      "InfoEntry(name=id_DH8F69g_46, dtype=int64, size=12, ndim=1, shape=[12], itemsize=8, registered=False)\n",
      "InfoEntry(name=segarr_values, dtype=int64, size=12, ndim=1, shape=[12], itemsize=8, registered=True)\n",
      "InfoEntry(name=id_DH8F69g_43, dtype=bool, size=3, ndim=1, shape=[3], itemsize=1, registered=False)\n",
      "InfoEntry(name=cat1.permutation, dtype=int64, size=100, ndim=1, shape=[100], itemsize=8, registered=True)\n",
      "InfoEntry(name=segarr_segments, dtype=int64, size=3, ndim=1, shape=[3], itemsize=8, registered=True)\n",
      "InfoEntry(name=id_DH8F69g_48, dtype=int64, size=12, ndim=1, shape=[12], itemsize=8, registered=False)\n",
      "InfoEntry(name=id_DH8F69g_49, dtype=int64, size=3, ndim=1, shape=[3], itemsize=8, registered=False)\n",
      "InfoEntry(name=id_DH8F69g_30, dtype=str, size=100, ndim=1, shape=[100], itemsize=1, registered=False)\n",
      "InfoEntry(name=group1_pdarray.keys, dtype=int64, size=100, ndim=1, shape=[100], itemsize=8, registered=True)\n",
      "InfoEntry(name=id_DH8F69g_35, dtype=str, size=101, ndim=1, shape=[101], itemsize=1, registered=False)\n",
      "InfoEntry(name=id_DH8F69g_36, dtype=int64, size=1, ndim=1, shape=[1], itemsize=8, registered=False)\n",
      "InfoEntry(name=id_DH8F69g_64, dtype=str, size=98, ndim=1, shape=[98], itemsize=1, registered=False)\n",
      "InfoEntry(name=id_DH8F69g_24, dtype=int64, size=100, ndim=1, shape=[100], itemsize=8, registered=False)\n",
      "InfoEntry(name=id_DH8F69g_25, dtype=int64, size=100, ndim=1, shape=[100], itemsize=8, registered=False)\n",
      "InfoEntry(name=id_DH8F69g_61, dtype=int64, size=100, ndim=1, shape=[100], itemsize=8, registered=False)\n",
      "InfoEntry(name=id_DH8F69g_62, dtype=int64, size=98, ndim=1, shape=[98], itemsize=8, registered=False)\n",
      "InfoEntry(name=id_DH8F69g_29, dtype=int64, size=100, ndim=1, shape=[100], itemsize=8, registered=False)\n",
      "InfoEntry(name=cat1._akNAcode, dtype=int64, size=1, ndim=1, shape=[1], itemsize=8, registered=True)\n",
      "InfoEntry(name=group1_pdarray.unique_keys, dtype=int64, size=10, ndim=1, shape=[10], itemsize=8, registered=True)\n",
      "InfoEntry(name=id_DH8F69g_2, dtype=int64, size=100, ndim=1, shape=[100], itemsize=8, registered=False)\n",
      "InfoEntry(name=str1, dtype=str, size=100, ndim=1, shape=[100], itemsize=1, registered=True)\n",
      "InfoEntry(name=pda1, dtype=int64, size=100, ndim=1, shape=[100], itemsize=8, registered=True)\n",
      "InfoEntry(name=id_DH8F69g_4, dtype=str, size=100, ndim=1, shape=[100], itemsize=1, registered=False)\n",
      "InfoEntry(name=group1.permutation, dtype=int64, size=100, ndim=1, shape=[100], itemsize=8, registered=True)\n",
      "InfoEntry(name=id_DH8F69g_51, dtype=int64, size=3, ndim=1, shape=[3], itemsize=8, registered=False)\n",
      "InfoEntry(name=id_DH8F69g_14, dtype=str, size=98, ndim=1, shape=[98], itemsize=1, registered=False)\n",
      "InfoEntry(name=cat1.codes, dtype=int64, size=100, ndim=1, shape=[100], itemsize=8, registered=True)\n",
      "InfoEntry(name=cat1.categories, dtype=str, size=99, ndim=1, shape=[99], itemsize=1, registered=True)\n",
      "InfoEntry(name=group1.segments, dtype=int64, size=10, ndim=1, shape=[10], itemsize=8, registered=True)\n",
      "InfoEntry(name=cat1.segments, dtype=int64, size=98, ndim=1, shape=[98], itemsize=8, registered=True)\n"
     ]
    }
   ],
   "source": [
    "# all the same arguments can be passed into ak.pretty_print_information for human readable output\n",
    "print(\"ak.pretty_print_information('registered_object_name'):\")\n",
    "ak.pretty_print_information('pda1')\n",
    "\n",
    "print('\\nak.pretty_print_information(ak.RegisteredSymbols):')\n",
    "ak.pretty_print_information(ak.RegisteredSymbols)\n",
    "\n",
    "print('\\nak.pretty_print_information(ak.AllSymbols):')\n",
    "ak.pretty_print_information(ak.AllSymbols)"
   ]
  },
  {
   "cell_type": "markdown",
   "metadata": {},
   "source": [
    "We can see `ak.pretty_print_information(ak.RegisteredSymbols)` only contains references to objects related to `pda1` and `str1`"
   ]
  },
  {
   "cell_type": "markdown",
   "metadata": {},
   "source": [
    "The JSON formmated string that's returned by `ak.information` and class level `.info` functions can be turned into a list of dictionaries in python using `json.loads` from the `json` library"
   ]
  },
  {
   "cell_type": "code",
   "execution_count": 14,
   "metadata": {},
   "outputs": [],
   "source": [
    "# The JSON output of ak.information and .info can be parsed into python using the JSON library\n",
    "import json\n",
    "\n",
    "uint8_list = [symbol for symbol in json.loads(ak.information(ak.AllSymbols)) if symbol['dtype'] == 'uint8']\n",
    "for sym in uint8_list:\n",
    "    print(sym)"
   ]
  },
  {
   "cell_type": "markdown",
   "metadata": {},
   "source": [
    "`ak.clear()` removes all non-registered objects from the symbol table, so `ak.pretty_print_information(ak.AllSymbols)` is different after a clear"
   ]
  },
  {
   "cell_type": "code",
   "execution_count": 15,
   "metadata": {},
   "outputs": [
    {
     "name": "stdout",
     "output_type": "stream",
     "text": [
      "Before clear:\n",
      "InfoEntry(name=segarr_lengths, dtype=int64, size=3, ndim=1, shape=[3], itemsize=8, registered=True)\n",
      "InfoEntry(name=id_DH8F69g_46, dtype=int64, size=12, ndim=1, shape=[12], itemsize=8, registered=False)\n",
      "InfoEntry(name=segarr_values, dtype=int64, size=12, ndim=1, shape=[12], itemsize=8, registered=True)\n",
      "InfoEntry(name=id_DH8F69g_43, dtype=bool, size=3, ndim=1, shape=[3], itemsize=1, registered=False)\n",
      "InfoEntry(name=cat1.permutation, dtype=int64, size=100, ndim=1, shape=[100], itemsize=8, registered=True)\n",
      "InfoEntry(name=segarr_segments, dtype=int64, size=3, ndim=1, shape=[3], itemsize=8, registered=True)\n",
      "InfoEntry(name=id_DH8F69g_48, dtype=int64, size=12, ndim=1, shape=[12], itemsize=8, registered=False)\n",
      "InfoEntry(name=id_DH8F69g_49, dtype=int64, size=3, ndim=1, shape=[3], itemsize=8, registered=False)\n",
      "InfoEntry(name=id_DH8F69g_30, dtype=str, size=100, ndim=1, shape=[100], itemsize=1, registered=False)\n",
      "InfoEntry(name=group1_pdarray.keys, dtype=int64, size=100, ndim=1, shape=[100], itemsize=8, registered=True)\n",
      "InfoEntry(name=id_DH8F69g_35, dtype=str, size=101, ndim=1, shape=[101], itemsize=1, registered=False)\n",
      "InfoEntry(name=id_DH8F69g_36, dtype=int64, size=1, ndim=1, shape=[1], itemsize=8, registered=False)\n",
      "InfoEntry(name=id_DH8F69g_64, dtype=str, size=98, ndim=1, shape=[98], itemsize=1, registered=False)\n",
      "InfoEntry(name=id_DH8F69g_24, dtype=int64, size=100, ndim=1, shape=[100], itemsize=8, registered=False)\n",
      "InfoEntry(name=id_DH8F69g_25, dtype=int64, size=100, ndim=1, shape=[100], itemsize=8, registered=False)\n",
      "InfoEntry(name=id_DH8F69g_61, dtype=int64, size=100, ndim=1, shape=[100], itemsize=8, registered=False)\n",
      "InfoEntry(name=id_DH8F69g_62, dtype=int64, size=98, ndim=1, shape=[98], itemsize=8, registered=False)\n",
      "InfoEntry(name=id_DH8F69g_29, dtype=int64, size=100, ndim=1, shape=[100], itemsize=8, registered=False)\n",
      "InfoEntry(name=cat1._akNAcode, dtype=int64, size=1, ndim=1, shape=[1], itemsize=8, registered=True)\n",
      "InfoEntry(name=group1_pdarray.unique_keys, dtype=int64, size=10, ndim=1, shape=[10], itemsize=8, registered=True)\n",
      "InfoEntry(name=id_DH8F69g_2, dtype=int64, size=100, ndim=1, shape=[100], itemsize=8, registered=False)\n",
      "InfoEntry(name=str1, dtype=str, size=100, ndim=1, shape=[100], itemsize=1, registered=True)\n",
      "InfoEntry(name=pda1, dtype=int64, size=100, ndim=1, shape=[100], itemsize=8, registered=True)\n",
      "InfoEntry(name=id_DH8F69g_4, dtype=str, size=100, ndim=1, shape=[100], itemsize=1, registered=False)\n",
      "InfoEntry(name=group1.permutation, dtype=int64, size=100, ndim=1, shape=[100], itemsize=8, registered=True)\n",
      "InfoEntry(name=id_DH8F69g_51, dtype=int64, size=3, ndim=1, shape=[3], itemsize=8, registered=False)\n",
      "InfoEntry(name=id_DH8F69g_14, dtype=str, size=98, ndim=1, shape=[98], itemsize=1, registered=False)\n",
      "InfoEntry(name=cat1.codes, dtype=int64, size=100, ndim=1, shape=[100], itemsize=8, registered=True)\n",
      "InfoEntry(name=cat1.categories, dtype=str, size=99, ndim=1, shape=[99], itemsize=1, registered=True)\n",
      "InfoEntry(name=group1.segments, dtype=int64, size=10, ndim=1, shape=[10], itemsize=8, registered=True)\n",
      "InfoEntry(name=cat1.segments, dtype=int64, size=98, ndim=1, shape=[98], itemsize=8, registered=True)\n",
      "\n",
      "After clear:\n",
      "InfoEntry(name=segarr_lengths, dtype=int64, size=3, ndim=1, shape=[3], itemsize=8, registered=True)\n",
      "InfoEntry(name=segarr_values, dtype=int64, size=12, ndim=1, shape=[12], itemsize=8, registered=True)\n",
      "InfoEntry(name=cat1.permutation, dtype=int64, size=100, ndim=1, shape=[100], itemsize=8, registered=True)\n",
      "InfoEntry(name=segarr_segments, dtype=int64, size=3, ndim=1, shape=[3], itemsize=8, registered=True)\n",
      "InfoEntry(name=cat1._akNAcode, dtype=int64, size=1, ndim=1, shape=[1], itemsize=8, registered=True)\n",
      "InfoEntry(name=group1_pdarray.unique_keys, dtype=int64, size=10, ndim=1, shape=[10], itemsize=8, registered=True)\n",
      "InfoEntry(name=str1, dtype=str, size=100, ndim=1, shape=[100], itemsize=1, registered=True)\n",
      "InfoEntry(name=pda1, dtype=int64, size=100, ndim=1, shape=[100], itemsize=8, registered=True)\n",
      "InfoEntry(name=cat1.codes, dtype=int64, size=100, ndim=1, shape=[100], itemsize=8, registered=True)\n",
      "InfoEntry(name=group1_pdarray.keys, dtype=int64, size=100, ndim=1, shape=[100], itemsize=8, registered=True)\n",
      "InfoEntry(name=group1.permutation, dtype=int64, size=100, ndim=1, shape=[100], itemsize=8, registered=True)\n",
      "InfoEntry(name=group1.segments, dtype=int64, size=10, ndim=1, shape=[10], itemsize=8, registered=True)\n",
      "InfoEntry(name=cat1.categories, dtype=str, size=99, ndim=1, shape=[99], itemsize=1, registered=True)\n",
      "InfoEntry(name=cat1.segments, dtype=int64, size=98, ndim=1, shape=[98], itemsize=8, registered=True)\n"
     ]
    }
   ],
   "source": [
    "print('Before clear:')\n",
    "ak.pretty_print_information(ak.AllSymbols)\n",
    "\n",
    "ak.clear()\n",
    "\n",
    "print('\\nAfter clear:')\n",
    "ak.pretty_print_information(ak.AllSymbols)"
   ]
  },
  {
   "cell_type": "markdown",
   "metadata": {},
   "source": [
    "#### Disconnecting from Arkouda Server and Attaching Registered Objects\n",
    "Users can `attach` to objects registered with the server after a disconnect. This enables access to registered objects even if the original python object is lost  "
   ]
  },
  {
   "cell_type": "markdown",
   "metadata": {},
   "source": [
    "We are going to simulate the python client dying. To do this, we set references for `pda1` and `str1` to `None` and disconnect from the server"
   ]
  },
  {
   "cell_type": "code",
   "execution_count": 16,
   "metadata": {},
   "outputs": [],
   "source": [
    "pda1 = None\n",
    "str1 = None\n",
    "cat1 = None\n",
    "segarr = None\n",
    "group1 = None"
   ]
  },
  {
   "cell_type": "code",
   "execution_count": 17,
   "metadata": {},
   "outputs": [
    {
     "name": "stderr",
     "output_type": "stream",
     "text": [
      "disconnected from arkouda server tcp://*:5555\n"
     ]
    }
   ],
   "source": [
    "ak.disconnect()"
   ]
  },
  {
   "cell_type": "markdown",
   "metadata": {},
   "source": [
    "Now we come back and reconnect to the server. We attempt to access `pda1` and `str1` but no longer have the objects in python"
   ]
  },
  {
   "cell_type": "code",
   "execution_count": 18,
   "metadata": {},
   "outputs": [
    {
     "name": "stderr",
     "output_type": "stream",
     "text": [
      "connected to arkouda server tcp://*:5555\n"
     ]
    }
   ],
   "source": [
    "# connect to the arkouda server using the connect_url which the server prints out\n",
    "ak.connect(\"localhost\")"
   ]
  },
  {
   "cell_type": "code",
   "execution_count": 19,
   "metadata": {},
   "outputs": [
    {
     "name": "stdout",
     "output_type": "stream",
     "text": [
      "pda1:None\n",
      "str1:None\n",
      "cat1:None\n",
      "segarr:None\n",
      "group1:None\n"
     ]
    }
   ],
   "source": [
    "print(f'pda1:{pda1}')\n",
    "print(f'str1:{str1}')\n",
    "print(f'cat1:{cat1}')\n",
    "print(f'segarr:{segarr}')\n",
    "print(f'group1:{group1}')"
   ]
  },
  {
   "cell_type": "markdown",
   "metadata": {},
   "source": [
    "However the server still has these objects registered"
   ]
  },
  {
   "cell_type": "code",
   "execution_count": 20,
   "metadata": {},
   "outputs": [
    {
     "name": "stdout",
     "output_type": "stream",
     "text": [
      "After reconnect to server:\n",
      "InfoEntry(name=segarr_segments, dtype=int64, size=3, ndim=1, shape=[3], itemsize=8, registered=True)\n",
      "InfoEntry(name=pda1, dtype=int64, size=100, ndim=1, shape=[100], itemsize=8, registered=True)\n",
      "InfoEntry(name=str1, dtype=str, size=100, ndim=1, shape=[100], itemsize=1, registered=True)\n",
      "InfoEntry(name=segarr_lengths, dtype=int64, size=3, ndim=1, shape=[3], itemsize=8, registered=True)\n",
      "InfoEntry(name=cat1.codes, dtype=int64, size=100, ndim=1, shape=[100], itemsize=8, registered=True)\n",
      "InfoEntry(name=segarr_values, dtype=int64, size=12, ndim=1, shape=[12], itemsize=8, registered=True)\n",
      "InfoEntry(name=group1.permutation, dtype=int64, size=100, ndim=1, shape=[100], itemsize=8, registered=True)\n",
      "InfoEntry(name=group1.segments, dtype=int64, size=10, ndim=1, shape=[10], itemsize=8, registered=True)\n",
      "InfoEntry(name=group1_pdarray.keys, dtype=int64, size=100, ndim=1, shape=[100], itemsize=8, registered=True)\n",
      "InfoEntry(name=cat1.categories, dtype=str, size=99, ndim=1, shape=[99], itemsize=1, registered=True)\n",
      "InfoEntry(name=cat1._akNAcode, dtype=int64, size=1, ndim=1, shape=[1], itemsize=8, registered=True)\n",
      "InfoEntry(name=cat1.segments, dtype=int64, size=98, ndim=1, shape=[98], itemsize=8, registered=True)\n",
      "InfoEntry(name=cat1.permutation, dtype=int64, size=100, ndim=1, shape=[100], itemsize=8, registered=True)\n",
      "InfoEntry(name=group1_pdarray.unique_keys, dtype=int64, size=10, ndim=1, shape=[10], itemsize=8, registered=True)\n"
     ]
    }
   ],
   "source": [
    "print('After reconnect to server:')\n",
    "# ak.pretty_print_information and ak.information without arguments defaults to ak.RegisteredSymbols\n",
    "ak.pretty_print_information()"
   ]
  },
  {
   "cell_type": "markdown",
   "metadata": {},
   "source": [
    "We want to attach to these objects on the server to regain access to them"
   ]
  },
  {
   "cell_type": "code",
   "execution_count": 21,
   "metadata": {},
   "outputs": [],
   "source": [
    "pda1 = ak.util.attach('pda1')\n",
    "str1 = ak.util.attach('str1')\n",
    "cat1 = ak.util.attach('cat1', 'categorical')\n",
    "segarr = ak.util.attach('segarr', 'segarray')\n",
    "group1 = ak.GroupBy.attach('group1')\n"
   ]
  },
  {
   "cell_type": "code",
   "execution_count": 22,
   "metadata": {},
   "outputs": [
    {
     "name": "stdout",
     "output_type": "stream",
     "text": [
      "pda1:[0 3 1 ... 2 4 8]\n",
      "str1:['GNQE', 'CM', 'MBA', 'LVP', 'YX', 'JHHU', 'GIOQ', 'XJCM', 'NPNG', 'GZRW', 'JCBK', 'YVJZ', 'MMZ', 'QHR', 'SR', 'BU', 'IYLV', 'IC', 'WG', 'RO', 'MH', 'XBK', 'RCF', 'FUZ', 'KTMG', 'LXAI', 'FU', 'KNA', 'HZ', 'UUV', 'CNMG', 'EX', 'YA', 'QL', 'OQQJ', 'RX', 'RU', 'VMCU', 'FJM', 'YIJA', 'PMEL', 'ZZVQ', 'RT', 'YA', 'DPRM', 'BELD', 'EPJ', 'PTQ', 'MM', 'LSV', 'CPA', 'MUWH', 'VGB', 'JJDH', 'XD', 'NJZH', 'OGK', 'AWGM', 'ZL', 'BFA', 'JXV', 'SR', 'PA', 'TGF', 'JEE', 'CWH', 'NIV', 'PGEC', 'UEO', 'ZZND', 'MTWO', 'KON', 'UW', 'ID', 'JER', 'NVF', 'OP', 'THZF', 'EGSG', 'HR', 'NP', 'DFUU', 'CC', 'XQFZ', 'AK', 'XPR', 'AYCI', 'GOEO', 'LBWJ', 'MVGO', 'PAH', 'MSEA', 'CU', 'SVV', 'FW', 'MDXJ', 'BJZ', 'TGVJ', 'HKIG', 'VU']\n",
      "cat1:['GNQE', 'CM', 'MBA', 'LVP', 'YX', 'JHHU', 'GIOQ', 'XJCM', 'NPNG', 'GZRW', 'JCBK', 'YVJZ', 'MMZ', 'QHR', 'SR', 'BU', 'IYLV', 'IC', 'WG', 'RO', 'MH', 'XBK', 'RCF', 'FUZ', 'KTMG', 'LXAI', 'FU', 'KNA', 'HZ', 'UUV', 'CNMG', 'EX', 'YA', 'QL', 'OQQJ', 'RX', 'RU', 'VMCU', 'FJM', 'YIJA', 'PMEL', 'ZZVQ', 'RT', 'YA', 'DPRM', 'BELD', 'EPJ', 'PTQ', 'MM', 'LSV', 'CPA', 'MUWH', 'VGB', 'JJDH', 'XD', 'NJZH', 'OGK', 'AWGM', 'ZL', 'BFA', 'JXV', 'SR', 'PA', 'TGF', 'JEE', 'CWH', 'NIV', 'PGEC', 'UEO', 'ZZND', 'MTWO', 'KON', 'UW', 'ID', 'JER', 'NVF', 'OP', 'THZF', 'EGSG', 'HR', 'NP', 'DFUU', 'CC', 'XQFZ', 'AK', 'XPR', 'AYCI', 'GOEO', 'LBWJ', 'MVGO', 'PAH', 'MSEA', 'CU', 'SVV', 'FW', 'MDXJ', 'BJZ', 'TGVJ', 'HKIG', 'VU']\n",
      "segarr:SegArray([\n",
      "[10 11 12 13 14 15]\n",
      "[20 21]\n",
      "[30 31 32 33]\n",
      "])\n",
      "group1:<arkouda.groupbyclass.GroupBy object at 0x7efbc72a11c0>\n"
     ]
    }
   ],
   "source": [
    "print(f'pda1:{pda1}')\n",
    "print(f'str1:{str1}')\n",
    "print(f'cat1:{cat1}')\n",
    "print(f'segarr:{segarr}')\n",
    "print(f'group1:{group1}')"
   ]
  },
  {
   "cell_type": "markdown",
   "metadata": {},
   "source": [
    "We restored our access to `pda1` and `str1` using the `attach` functionality. Now we unregister everything and shutdown the arkouda server "
   ]
  },
  {
   "cell_type": "code",
   "execution_count": 23,
   "metadata": {},
   "outputs": [],
   "source": [
    "pda1.unregister()\n",
    "str1.unregister()\n",
    "cat1.unregister()\n",
    "segarr.unregister()\n",
    "group1.unregister()\n",
    "ak.clear()"
   ]
  },
  {
   "cell_type": "code",
   "execution_count": 24,
   "metadata": {},
   "outputs": [
    {
     "name": "stdout",
     "output_type": "stream",
     "text": [
      "[{\"name\":\"cat1._akNAcode\", \"dtype\":\"int64\", \"size\":1, \"ndim\":1, \"shape\":[1], \"itemsize\":8, \"registered\":true},{\"name\":\"cat1.segments\", \"dtype\":\"int64\", \"size\":98, \"ndim\":1, \"shape\":[98], \"itemsize\":8, \"registered\":true}]\n"
     ]
    }
   ],
   "source": [
    "print(ak.information(ak.AllSymbols))"
   ]
  },
  {
   "cell_type": "code",
   "execution_count": 25,
   "metadata": {},
   "outputs": [],
   "source": [
    "ak.shutdown()"
   ]
  }
 ],
 "metadata": {
  "interpreter": {
   "hash": "ee1fbf9983315a0ac5f6fc85414702271de8c5a8d740b4149bd7f5bb1b490f8e"
  },
  "kernelspec": {
   "display_name": "Python 3 (ipykernel)",
   "language": "python",
   "name": "python3"
  },
  "language_info": {
   "codemirror_mode": {
    "name": "ipython",
    "version": 3
   },
   "file_extension": ".py",
   "mimetype": "text/x-python",
   "name": "python",
   "nbconvert_exporter": "python",
   "pygments_lexer": "ipython3",
   "version": "3.9.12"
  }
 },
 "nbformat": 4,
 "nbformat_minor": 4
}
