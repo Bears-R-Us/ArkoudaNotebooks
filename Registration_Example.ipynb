{
 "cells": [
  {
   "cell_type": "markdown",
   "metadata": {},
   "source": [
    "## Arkouda Registration Example\n",
    "In this example we will:\n",
    "- Create random pdarrays and Strings\n",
    "- Register these objects\n",
    "- Verify their registration status using `ak.list_registry`, `is_registered`, and `ak.info`\n",
    "- Remove all non-register objects from the symbol table using `ak.clear`\n",
    "- Disconnect from the arkouda server\n",
    "- Reconnect to the arkouda server\n",
    "- Attach to all registered objects\n",
    "- Unregister everything\n",
    "- Shutdown the server\n",
    "\n",
    "Arkouda functions used:\n",
    "- `ak.connect`\n",
    "- `ak.randint`\n",
    "- `ak.random_strings_uniform`\n",
    "- `ak.pdarray.register`\n",
    "- `ak.Strings.register`\n",
    "- `ak.list_registry`\n",
    "- `ak.pdarray.is_registered`\n",
    "- `ak.Strings.is_registered`\n",
    "- `ak.info`\n",
    "- `ak.clear`\n",
    "- `ak.disconnect`\n",
    "- `ak.pdarray.attach`\n",
    "- `ak.Strings.attach`\n",
    "- `ak.pdarray.unregister`\n",
    "- `ak.Strings.unregister`\n",
    "- `ak.shutdown`\n"
   ]
  },
  {
   "cell_type": "markdown",
   "metadata": {},
   "source": [
    "#### Launching and Connecting to Arkounda Server\n",
    "Be sure to follow the installation instructions on the [Arkouda README](https://github.com/mhmerrill/arkouda#readme) before running this notebook"
   ]
  },
  {
   "cell_type": "code",
   "execution_count": null,
   "metadata": {},
   "outputs": [],
   "source": [
    "import arkouda as ak"
   ]
  },
  {
   "cell_type": "markdown",
   "metadata": {},
   "source": [
    "The arkouda server must be running before connecting with `ak.connect`. The server can be launched by navigating to the arkouda directory and running `./arkouda_server -nl 1`. For more info, refer to [Running arkouda_server](https://github.com/mhmerrill/arkouda#running-arkouda_server-toc)"
   ]
  },
  {
   "cell_type": "code",
   "execution_count": null,
   "metadata": {},
   "outputs": [],
   "source": [
    "# connect to the arkouda server using the connect_url which the server prints out\n",
    "ak.connect(connect_url=\"tcp://localhost:5555\")"
   ]
  },
  {
   "cell_type": "markdown",
   "metadata": {},
   "source": [
    "#### Intializing and Registering Variables\n",
    "We create random `pdarray` and `Strings` objects and register them using in place `register` functions"
   ]
  },
  {
   "cell_type": "code",
   "execution_count": null,
   "metadata": {},
   "outputs": [],
   "source": [
    "pda1 = ak.randint(0,10,100)\n",
    "pda2 = ak.randint(0,10,100)\n",
    "str1 = ak.random_strings_uniform(2, 5, 100)\n",
    "str2 = ak.random_strings_uniform(2, 5, 100)"
   ]
  },
  {
   "cell_type": "code",
   "execution_count": null,
   "metadata": {},
   "outputs": [],
   "source": [
    "pda1.register('pda1')\n",
    "str1.register('str1')"
   ]
  },
  {
   "cell_type": "markdown",
   "metadata": {},
   "source": [
    "#### Verifying Registration\n",
    "We have just registered `pdarray pda1` and `String str1`. Note that `pdarray pda2` and `String str2` have not been registered. We can verify this using `ak.list_registry`, `is_registered`, or `ak.info`"
   ]
  },
  {
   "cell_type": "code",
   "execution_count": null,
   "metadata": {},
   "outputs": [],
   "source": [
    "# ak.list_registry returns a python list of all registered object names\n",
    "print(ak.list_registry())"
   ]
  },
  {
   "cell_type": "code",
   "execution_count": null,
   "metadata": {},
   "outputs": [],
   "source": [
    "# Object.is_registered() returns a boolean indicating the objects registration status\n",
    "print(f'pda1 is registered: {pda1.is_registered()}')\n",
    "print(f'pda2 is registered: {pda2.is_registered()}')\n",
    "print(f'str1 is registered: {str1.is_registered()}')\n",
    "print(f'str2 is registered: {str2.is_registered()}')"
   ]
  },
  {
   "cell_type": "code",
   "execution_count": null,
   "metadata": {},
   "outputs": [],
   "source": [
    "# ak.info returns all attributes of an object\n",
    "# ak.info can be called with a single object, all registered objects, or all objects\n",
    "\n",
    "print(\"ak.info('registered_object_name'):\")\n",
    "print(ak.info('pda1'))\n",
    "\n",
    "print('ak.info(ak.RegisteredSymbols):')\n",
    "print(ak.info(ak.RegisteredSymbols))\n",
    "\n",
    "print('ak.info(ak.AllSymbols):')\n",
    "print(ak.info(ak.AllSymbols))"
   ]
  },
  {
   "cell_type": "markdown",
   "metadata": {},
   "source": [
    "We can see `ak.info(ak.RegisteredSymbols)` only contains references to objects related to `pda1` and `str1`"
   ]
  },
  {
   "cell_type": "markdown",
   "metadata": {},
   "source": [
    "`ak.clear()` removes all non-registered objects from the symbol table, so `ak.info(ak.AllSymbols)` is different after a clear"
   ]
  },
  {
   "cell_type": "code",
   "execution_count": null,
   "metadata": {},
   "outputs": [],
   "source": [
    "print('Before clear:')\n",
    "print(ak.info(ak.AllSymbols))\n",
    "ak.clear()\n",
    "print('After clear:')\n",
    "print(ak.info(ak.AllSymbols))\n"
   ]
  },
  {
   "cell_type": "markdown",
   "metadata": {},
   "source": [
    "#### Disconnecting from Arkouda Server and Attaching Registered Objects\n",
    "Users can `attach` to objects registered with the server after a disconnect. This enables access to registered objects even if the original python object is lost  "
   ]
  },
  {
   "cell_type": "code",
   "execution_count": null,
   "metadata": {},
   "outputs": [],
   "source": [
    "ak.disconnect()"
   ]
  },
  {
   "cell_type": "code",
   "execution_count": null,
   "metadata": {},
   "outputs": [],
   "source": [
    "# connect to the arkouda server using the connect_url which the server prints out\n",
    "ak.connect(connect_url=\"tcp://localhost:5555\")"
   ]
  },
  {
   "cell_type": "code",
   "execution_count": null,
   "metadata": {},
   "outputs": [],
   "source": [
    "print('After reconnect to server:')\n",
    "print(ak.info(ak.AllSymbols))"
   ]
  },
  {
   "cell_type": "code",
   "execution_count": null,
   "metadata": {},
   "outputs": [],
   "source": [
    "pda3 = ak.pdarray.attach('pda1')\n",
    "str3 = ak.Strings.attach('str1')"
   ]
  },
  {
   "cell_type": "code",
   "execution_count": null,
   "metadata": {},
   "outputs": [],
   "source": [
    "print(pda3)\n",
    "print(str3)"
   ]
  },
  {
   "cell_type": "code",
   "execution_count": null,
   "metadata": {},
   "outputs": [],
   "source": [
    "print(f'pda3 is registered: {pda3.is_registered()}')\n",
    "print(f'str3 is registered: {str3.is_registered()}')"
   ]
  },
  {
   "cell_type": "markdown",
   "metadata": {},
   "source": [
    "Note the `name` remains the original registration name"
   ]
  },
  {
   "cell_type": "code",
   "execution_count": null,
   "metadata": {},
   "outputs": [],
   "source": [
    "print(ak.info(ak.RegisteredSymbols))"
   ]
  },
  {
   "cell_type": "code",
   "execution_count": null,
   "metadata": {},
   "outputs": [],
   "source": [
    "pda3.unregister()\n",
    "str3.unregister()\n",
    "ak.clear()"
   ]
  },
  {
   "cell_type": "code",
   "execution_count": null,
   "metadata": {},
   "outputs": [],
   "source": [
    "print(ak.info(ak.AllSymbols))"
   ]
  },
  {
   "cell_type": "code",
   "execution_count": null,
   "metadata": {},
   "outputs": [],
   "source": [
    "ak.shutdown()"
   ]
  }
 ],
 "metadata": {
  "kernelspec": {
   "display_name": "Python 3",
   "language": "python",
   "name": "python3"
  },
  "language_info": {
   "codemirror_mode": {
    "name": "ipython",
    "version": 3
   },
   "file_extension": ".py",
   "mimetype": "text/x-python",
   "name": "python",
   "nbconvert_exporter": "python",
   "pygments_lexer": "ipython3",
   "version": "3.7.9"
  }
 },
 "nbformat": 4,
 "nbformat_minor": 4
}
