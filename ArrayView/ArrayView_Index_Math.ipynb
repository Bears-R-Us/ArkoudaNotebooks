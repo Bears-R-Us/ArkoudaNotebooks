{
 "cells": [
  {
   "cell_type": "markdown",
   "id": "3a0747e8",
   "metadata": {},
   "source": [
    "# ArrayView Index Math\n",
    "The math behind `ArrayView` indexing in arkouda"
   ]
  },
  {
   "cell_type": "code",
   "execution_count": null,
   "id": "1f13813b",
   "metadata": {},
   "outputs": [],
   "source": [
    "import numpy as np\n",
    "from itertools import product"
   ]
  },
  {
   "cell_type": "markdown",
   "id": "7d1f248c",
   "metadata": {},
   "source": [
    "Say we have a $m \\times n$ matrix $A$\n",
    "\n",
    "$$\\mathbf{A} := \\underbrace{\\begin{bmatrix}\n",
    "  a_{11} & a_{12} & \\cdots & a_{1n} \\\\\n",
    "  a_{21} & a_{22} & \\cdots & a_{2n} \\\\\n",
    "  \\vdots & \\vdots & \\ddots & \\vdots \\\\\n",
    "  a_{m1} & a_{m2} & \\cdots & a_{mn} \\\\\n",
    "  \\end{bmatrix}}_{\\displaystyle n}\n",
    "\\left.\\vphantom{\\begin{bmatrix}\n",
    "  a_{11} & a_{12} & \\cdots & a_{1n} \\\\\n",
    "  a_{21} & a_{22} & \\cdots & a_{2n} \\\\\n",
    "  \\vdots & \\vdots & \\ddots & \\vdots \\\\\n",
    "  a_{m1} & a_{m2} & \\cdots & a_{mn} \\\\\n",
    "\\end{bmatrix}}\\right\\}m\n",
    "$$\n",
    "\n",
    "We are logically treating $A$ as if it is multi-dimensional, but it's being stored in memory as a flat array\n",
    "\n",
    "$$A_{\\text{flat}} = \\underbrace{\\begin{bmatrix}  a_{11}, & \\cdots & a_{1n}, & a_{21}, & \\cdots & a_{2n}, & \\cdots &\n",
    "  a_{m1}, & \\cdots & a_{mn} \\end{bmatrix}}_{\\displaystyle m \\times n}$$\n",
    "\n",
    "What is actually being provided is a multi-dimensional view of a 1-d array. So we need to convert multi-dimensional coordinates into the corresponding coordinate in the flat array."
   ]
  },
  {
   "cell_type": "markdown",
   "id": "3e654af3",
   "metadata": {},
   "source": [
    "## Integer only indexing"
   ]
  },
  {
   "cell_type": "markdown",
   "id": "1c5419e5",
   "metadata": {},
   "source": [
    "Let's saying we have the following: (Note Numpy is row-major by default)\n",
    "```python\n",
    ">>> a = np.arange(15).reshape(3,5)\n",
    "array([[ 0,  1,  2,  3,  4],\n",
    "       [ 5,  6,  7,  8,  9],\n",
    "       [10, 11, 12, 13, 14]])\n",
    ">>> a.base\n",
    "array([ 0,  1,  2,  3,  4,  5,  6,  7,  8,  9, 10, 11, 12, 13, 14])\n",
    "```\n",
    "\n",
    "We see that a single step in the first dimension of `a`, increases the corresponding index into the flat array by $1$\n",
    "\n",
    "$$\n",
    "a = \\begin{bmatrix}\n",
    "  0 & \\color{red}{1} & 2 & 3 & 4 \\\\\n",
    "  5 & 6 & 7 & 8 & 9 \\\\\n",
    "  10 & 11 & 12 & 13 & 14 \\\\\n",
    "\\end{bmatrix}$$\n",
    "\n",
    "$$\n",
    "\\text{a.base} = \\begin{bmatrix}\n",
    "  0 & \\color{red}{1} & 2 & 3 & 4 & 5 & 6 & 7 & 8 & 9 & 10 & 11 & 12 & 13 & 14 \\\\\n",
    "\\end{bmatrix}\n",
    "$$\n",
    "\n",
    "```python\n",
    ">>> a[0,1]\n",
    "1\n",
    ">>> a.base[1]\n",
    "1\n",
    "```\n",
    "But taking a single step in the second dimension `a`, increases the corresponding index into the flat array by $5$ because we are skipping an $n$ long row\n",
    "\n",
    "$$\n",
    "a = \\overbrace{\\begin{bmatrix}\n",
    "  0 & 1 & 2 & 3 & 4 \\\\\n",
    "  \\color{red}{5} & 6 & 7 & 8 & 9 \\\\\n",
    "  10 & 11 & 12 & 13 & 14 \\\\\n",
    "\\end{bmatrix}}^{\\displaystyle n}$$\n",
    "\n",
    "$$\n",
    "\\begin{align*}\n",
    "&\\overbrace{\\hphantom{\\begin{bmatrix}\n",
    "  0 & 1 & 2 & 3 & 4\n",
    "\\end{bmatrix}}}^{\\displaystyle n} \\\\\n",
    "\\text{a.base} = &\\begin{bmatrix}\n",
    "  0 & 1 & 2 & 3 & 4 & \\color{red}{5} & 6 & 7 & 8 & 9 & 10 & 11 & 12 & 13 & 14\n",
    "\\end{bmatrix}\n",
    "\\end{align*}\n",
    "$$\n",
    "\n",
    "```python\n",
    ">>> a[1,0]\n",
    "5\n",
    ">>> a.base[5]\n",
    "5\n",
    "```\n",
    "\n",
    "Following this logic of 1 step in first dimension of `a` is $1$ in a.base and 1 step in second dimension is $n$ in `a.base`, we can work out the formula\n",
    "$$a[i,j] = \\text{a.base}[(n \\cdot i) + j]$$"
   ]
  },
  {
   "cell_type": "markdown",
   "id": "fb28f5dd",
   "metadata": {},
   "source": [
    "This intuition caries forward to higher dimensions:\n",
    "```python\n",
    ">>> a = np.arange(24).reshape(2,3,4)\n",
    "array([[[ 0,  1,  2,  3],\n",
    "        [ 4,  5,  6,  7],\n",
    "        [ 8,  9, 10, 11]],\n",
    "\n",
    "       [[12, 13, 14, 15],\n",
    "        [16, 17, 18, 19],\n",
    "        [20, 21, 22, 23]]])\n",
    ">>> a.base\n",
    "array([ 0,  1,  2,  3,  4,  5,  6,  7,  8,  9, 10, 11, 12, 13, 14, 15, 16,\n",
    "       17, 18, 19, 20, 21, 22, 23])\n",
    "```\n",
    "A single step in the third dimension of `a` results in a stride of $3\\times 4$ steps in `a.base`, because we are skipping a size $m \\times n$ matrix\n",
    "\n",
    "\n",
    "$$\n",
    "a =\n",
    "\\begin{bmatrix}\n",
    "  \\overbrace{\\begin{bmatrix}\n",
    "    0 & 1 & 2 & 3 \\\\\n",
    "    4 & 5 & 6 & 7 \\\\\n",
    "    8 & 9 & 10 & 11 \\\\\n",
    "  \\end{bmatrix}}^{\\displaystyle n}\n",
    "  \\left.\\vphantom{\\begin{bmatrix}\n",
    "    0 & 1 & 2 & 3 \\\\\n",
    "    4 & 5 & 6 & 7 \\\\\n",
    "    8 & 9 & 10 & 11 \\\\\n",
    "\\end{bmatrix}}\\right\\}m \\\\\n",
    "  \\begin{bmatrix}\n",
    "    \\color{red}{12} & 13 & 14 & 15 \\\\\n",
    "    16 & 17 & 18 & 19 \\\\\n",
    "    20 & 21 & 22 & 23 \\\\\n",
    "  \\end{bmatrix}\n",
    "\\end{bmatrix}\n",
    "$$\n",
    "\n",
    "$$\n",
    "\\begin{align*}\n",
    "&\\overbrace{\\hphantom{\\begin{bmatrix}\n",
    "  0 & 1 & 2 & 3 & 4 & 5 & 6 & 7 & 8 & 9 & 10 & 11\n",
    "\\end{bmatrix}}}^{\\displaystyle m\\times n} \\\\\n",
    "\\text{a.base} = &\\begin{bmatrix}\n",
    "  0 & 1 & 2 & 3 & 4 & 5 & 6 & 7 & 8 & 9 & 10 & 11 & \\color{red}{12} & 13 & 14 & 15 & 16 & 17 & 18 & 19 & 20 & 21 & 22 & 23\n",
    "\\end{bmatrix}\n",
    "\\end{align*}\n",
    "$$\n",
    "\n",
    "```python\n",
    ">>> a[1,0,0]\n",
    "12\n",
    ">>> a.base[(3*4)]\n",
    "12\n",
    "```\n",
    "From this we can work out,\n",
    "$$ a[i,j,k] = \\text{a.base}[((m\\cdot n) \\cdot i) + (n \\cdot j) + k] $$\n",
    "So the idea is we're multiplying each additional higher dimension by the product of the previous dimensions and then summing"
   ]
  },
  {
   "cell_type": "markdown",
   "id": "80968332",
   "metadata": {},
   "source": [
    "To phrase this more technically, let's take a look at this block borrowed from address calculation section of the `Row- and column-major order` Wikipedia entry:\n",
    "\n",
    ">For a $d$-dimensional $N_1 \\times N_2 \\times \\cdots \\times N_d$ array with dimensions $N_k (k=1...d)$, a given element of this array is specified by a tuple $(n_1, n_2, \\ldots, n_d)$ of $d$ (zero-based) indices $n_k \\in [0,N_k - 1]$.In row-major order, the ''last'' dimension is contiguous, so that the memory-offset of this element is given by:\n",
    "$$\n",
    "n_d + N_d \\cdot (n_{d-1} + N_{d-1} \\cdot (n_{d-2} + N_{d-2} \\cdot (\\cdots + N_2 n_1)\\cdots)))\n",
    "= \\sum_{k=1}^d \\left( \\prod_{\\ell=k+1}^d N_\\ell \\right) n_k\n",
    "$$\n",
    ">In column-major order, the ''first'' dimension is contiguous, so that the memory-offset of this element is given by:\n",
    "$$\n",
    "n_1 + N_1 \\cdot (n_2 + N_2 \\cdot (n_3 + N_3 \\cdot (\\cdots + N_{d-1} n_d)\\cdots)))\n",
    "= \\sum_{k=1}^d \\left( \\prod_{\\ell=1}^{k-1} N_\\ell \\right) n_k\n",
    "$$"
   ]
  },
  {
   "cell_type": "markdown",
   "id": "9f529b7e",
   "metadata": {},
   "source": [
    "Looking just at the `column_major` we see this is the sum of the coordinates times the product of the previous dimensions. If we define $$P_k :=  \\prod_{\\ell=1}^{k-1} N_\\ell$$\n",
    "\n",
    "Then the `column_major` formula becomes\n",
    "$$\n",
    "\\sum_{k=1}^d P_k n_k\n",
    "$$\n",
    "\n",
    "Note: the `row_major` equivalent is just the product of reversed dimension and reversed coordinates\n",
    "\n",
    "We can cache this since the shape and order won't change between indexing (otherwise a new ArrayView object would need to be created)\n",
    "\n",
    "```\n",
    "dim_prod = cumprod(shape)//shape if order is COLUMN_MAJOR else cumprod(reverse_shape)//reverse_shape\n",
    "```"
   ]
  },
  {
   "cell_type": "markdown",
   "id": "a88e7b6d",
   "metadata": {},
   "source": [
    "with `dim_prod` cached, for any given set of coords, our address calculation for the correct index in the base array is\n",
    "```python\n",
    "# column major\n",
    "sum(dim_prod * coords)\n",
    "# row major\n",
    "sum(dim_prod * coords[::-1])\n",
    "```\n",
    "Let's verify this formula matches numpy"
   ]
  },
  {
   "cell_type": "code",
   "execution_count": null,
   "id": "5a3eda4c",
   "metadata": {},
   "outputs": [],
   "source": [
    "base = np.arange(30)\n",
    "# F is column_major\n",
    "f = base.reshape(5, 3, 2, order='F')\n",
    "f_dim_prod = np.cumprod(f.shape)//f.shape\n",
    "print(f\"f_dim_prod = {f_dim_prod}\")\n",
    "print(f\"f =\\n{f}\")"
   ]
  },
  {
   "cell_type": "code",
   "execution_count": null,
   "id": "95019472",
   "metadata": {},
   "outputs": [],
   "source": [
    "# Check for every coordinate our result matches\n",
    "coords = list(product(range(5), range(3), range(2)))\n",
    "print([f[i] for i in coords])\n",
    "print([base[sum(f_dim_prod * i)] for i in coords])"
   ]
  },
  {
   "cell_type": "markdown",
   "id": "660dfd7d",
   "metadata": {},
   "source": [
    "This also works for `row_major` with `dim_prod=cumprod(c.shape[::-1])//c.shape[::-1]` and coords reversed"
   ]
  },
  {
   "cell_type": "code",
   "execution_count": null,
   "id": "fb6c7798",
   "metadata": {},
   "outputs": [],
   "source": [
    "# C is row_major (which is the default for numpy)\n",
    "c = base.reshape(5, 3, 2)\n",
    "c_dim_prod = np.cumprod(c.shape[::-1])//c.shape[::-1]\n",
    "print(f\"c_dim_prod = {c_dim_prod}\")\n",
    "print(f\"c =\\n{c}\")"
   ]
  },
  {
   "cell_type": "code",
   "execution_count": null,
   "id": "8a31b0d0",
   "metadata": {},
   "outputs": [],
   "source": [
    "# Check for every coordinate our result matches\n",
    "print([c[i] for i in coords])\n",
    "print([base[sum(c_dim_prod * i[::-1])] for i in coords])"
   ]
  },
  {
   "cell_type": "markdown",
   "id": "ef170eb3",
   "metadata": {},
   "source": [
    "## Mixed Type indexing\n",
    "The next type of indexing to contend with is when we have slices as indicies (pontentailly mixed with integer indicies). We'll walk through how we calculate the indices into the flat array for these slices in an example"
   ]
  },
  {
   "cell_type": "code",
   "execution_count": null,
   "id": "e4412fac",
   "metadata": {},
   "outputs": [],
   "source": [
    "a = np.arange(27).reshape(3,3,3)\n",
    "a[1:3, 0:3:2, 0:3:2]"
   ]
  },
  {
   "cell_type": "markdown",
   "id": "3ecf0f05",
   "metadata": {},
   "source": [
    "Since `a.shape = (3,3,3)`. We get `dim_prod = (1,3,9)`"
   ]
  },
  {
   "cell_type": "code",
   "execution_count": null,
   "id": "3d9d2ae6",
   "metadata": {},
   "outputs": [],
   "source": [
    "dim_prod = np.cumprod(a.shape[::-1])//a.shape[::-1]\n",
    "print(f\"a.shape = {a.shape}\")\n",
    "print(f\"dim_prod = {dim_prod}\")"
   ]
  },
  {
   "cell_type": "markdown",
   "id": "e7ce0a00",
   "metadata": {},
   "source": [
    "We then calculate the set of indicies desired at every dimension, so"
   ]
  },
  {
   "cell_type": "code",
   "execution_count": null,
   "id": "b7966c64",
   "metadata": {},
   "outputs": [],
   "source": [
    "dim1_coords = np.arange(a.shape[0])[1:3]\n",
    "dim2_coords = np.arange(a.shape[1])[0:3:2]\n",
    "dim3_coords = np.arange(a.shape[2])[0:3:2]\n",
    "print(f\"dim1_coords = {dim1_coords}\")\n",
    "print(f\"dim2_coords = {dim2_coords}\")\n",
    "print(f\"dim3_coords = {dim3_coords}\")"
   ]
  },
  {
   "cell_type": "markdown",
   "id": "44b19396",
   "metadata": {},
   "source": [
    "From here we can calculate the coordinates scaled by the `dim_prod` so only a sum is required"
   ]
  },
  {
   "cell_type": "code",
   "execution_count": null,
   "id": "f6e49c56",
   "metadata": {},
   "outputs": [],
   "source": [
    "# Note we are reversing the dim_prod because we are row_major by default\n",
    "scaled1 = dim3_coords * dim_prod[0]\n",
    "scaled2 = dim2_coords * dim_prod[1]\n",
    "scaled3 = dim1_coords * dim_prod[2]\n",
    "scaled_coords = np.concatenate([scaled1, scaled2, scaled3])\n",
    "print(f\"scaled_coords = {scaled_coords}\")\n",
    "user_dims = [scaled1.size, scaled2.size, scaled3.size]\n",
    "print(f\"user_dims = {user_dims}\")\n",
    "offsets = np.cumsum(user_dims) - user_dims\n",
    "print(f\"offsets = {offsets}\")\n",
    "user_dim_prod = np.cumprod(user_dims[::-1]) // user_dims[::-1]\n",
    "print(f\"user_dim_prod = {user_dim_prod}\")\n",
    "ndims = 3"
   ]
  },
  {
   "cell_type": "markdown",
   "id": "fb60c553",
   "metadata": {},
   "source": [
    "`scaled_coords` is just multiple arrays flattened into one with `offsets` indicating the start positions of those arrays. These arrays contain the coordinates for each dimension scaled by the appropriate `dim_prod`\n",
    "\n",
    "The idea here is to take a cartesian product of the scaled coordinates and sum as we go.\n",
    "$$[0,2] \\times [0, 6] \\times [9, 18]$$\n",
    "\n",
    "We write these values into a defined result array of size $\\prod \\text{userdims}$. Letting `j0, j1,` and `j2` be our index in the first dim, second, and third dim respectively, we can multiply by `user_dim_prod` and sum to find the correct position in the result array\n",
    "\n",
    "$$\\mathtt{Ind} = \\sum_i j_i \\cdot \\text{userdimprod}_i$$ \n",
    "$$\\mathtt{Sum} = \\sum_i \\text{scaledcoords}[\\text{offsets}_i+j_i]$$\n",
    "\n",
    "\n",
    "$$(j_0, j_1, j_2)$$ | `Ind` | `Sum` | `res[Ind] = Sum` | `res`\n",
    ":---: | :---: | :---: | :---: | :---: \n",
    "(0,0,0) | $$0$$ | $$\\sum (0,0,9) = 9$$ | $$\\text{res}[0] = 9$$ | $$[9, 0, 0, 0, 0, 0, 0, 0]$$\n",
    "(0,0,1) | $$4$$ | $$\\sum (0,0,18) = 18$$ | $$\\text{res}[4]= 18$$ | $$[9, 0, 0, 0, 18, 0, 0, 0]$$\n",
    "(0,1,0) | $$2$$ | $$\\sum (0,6,9)  = 15$$ | $$\\text{res}[2] = 15$$ | $$[9, 0, 15, 0, 18, 0, 0, 0]$$\n",
    "(0,1,1) | $$6$$ | $$\\sum (0,6,18) = 24$$ | $$\\text{res}[6] = 24$$ | $$[9, 0, 15, 0, 18, 0, 24, 0]$$\n",
    "(1,0,0) | $$1$$ | $$\\sum (2,0,9)  = 11$$ | $$\\text{res}[1] = 11$$ | $$[9, 11, 15, 0, 18, 0, 24, 0]$$\n",
    "(1,0,1) | $$5$$ | $$\\sum (2,0,18) = 20$$ | $$\\text{res}[5] = 20$$ | $$[9, 11, 15, 0, 18, 20, 24, 0]$$\n",
    "(1,1,0) | $$3$$ | $$\\sum (2,6,9)  = 17$$ | $$\\text{res}[3] = 17$$ | $$[9, 11, 15, 17, 18, 20, 24, 0]$$\n",
    "(1,1,1) | $$7$$ | $$\\sum (2,6,18) = 26$$ | $$\\text{res}[7] = 26$$ | $$[9, 11, 15, 17, 18, 20, 24, 26]$$\n",
    "\n",
    "\n",
    "Now that we have our indicies stored in `res`, we can index into our base array and reshape into `user_dims` to get our answer\n",
    "```python\n",
    ">>> a.base[res].reshape(user_dims) =\n",
    "[[[ 9 11]\n",
    "  [15 17]]\n",
    "\n",
    " [[18 20]\n",
    "  [24 26]]]\n",
    "```"
   ]
  },
  {
   "cell_type": "code",
   "execution_count": null,
   "id": "7df74342",
   "metadata": {},
   "outputs": [],
   "source": [
    "def recurse(depth=0, ind=0, s=0):\n",
    "    for j in range(user_dims[depth]):\n",
    "        if depth == ndims-1:\n",
    "            res[ind + j*user_dim_prod[depth]] = s + scaled_coords[offsets[depth]+j]\n",
    "            print(f\"res[{ind + j*user_dim_prod[depth]}] = {res[ind + j*user_dim_prod[depth]]}\\n===========\\n\")\n",
    "        else:\n",
    "            recurse(depth+1, ind + j*user_dim_prod[depth], s + scaled_coords[offsets[depth]+j])"
   ]
  },
  {
   "cell_type": "code",
   "execution_count": null,
   "id": "1e31e145",
   "metadata": {},
   "outputs": [],
   "source": [
    "res = np.zeros(np.prod(user_dims), dtype=np.int64)\n",
    "recurse()"
   ]
  },
  {
   "cell_type": "code",
   "execution_count": null,
   "id": "78aef53b",
   "metadata": {},
   "outputs": [],
   "source": [
    "print(f\"a[1:3, 0:3:2, 0:3:2] =\\n{a[1:3, 0:3:2, 0:3:2]}\\n\")\n",
    "print(f\"a.base[res].reshape(user_dims) =\\n{a.base[res].reshape(user_dims)}\")"
   ]
  },
  {
   "cell_type": "markdown",
   "id": "046c6128",
   "metadata": {},
   "source": [
    "## Advanced Indexing\n",
    "numpy calls indexing by arrays \"Advanced Indexing\" and this behaves differently than a slice with the equivalent indices when there are more than 2 arrays present"
   ]
  },
  {
   "cell_type": "code",
   "execution_count": null,
   "id": "772f8dbc",
   "metadata": {},
   "outputs": [],
   "source": [
    "n = np.arange(4).reshape(2,2)\n",
    "# sometimes they line up\n",
    "n[:,:]"
   ]
  },
  {
   "cell_type": "code",
   "execution_count": null,
   "id": "5fde3bec",
   "metadata": {},
   "outputs": [],
   "source": [
    "n[:,[0,1]]"
   ]
  },
  {
   "cell_type": "code",
   "execution_count": null,
   "id": "ba86613c",
   "metadata": {},
   "outputs": [],
   "source": [
    "n[[0,1],:]"
   ]
  },
  {
   "cell_type": "code",
   "execution_count": null,
   "id": "f76bb4db",
   "metadata": {},
   "outputs": [],
   "source": [
    "# sometimes they do not\n",
    "n[[0,1],[0,1]]"
   ]
  },
  {
   "cell_type": "markdown",
   "id": "00513d4e",
   "metadata": {},
   "source": [
    "psuedocode for potential solution: (Though `ind` still requires some reworking)\n",
    "```\n",
    "def recurse(depth=0, ind=0, s=0, advanced_ind=-1):\n",
    "    if not advanced[depth] or advanced_ind == -1:\n",
    "        for j in range(user_dims[depth]):\n",
    "            if depth == ndim-1:\n",
    "                res[ind + j*user_dim_prod[depth]] = s + scaled_coords[offsets[depth]+j]\n",
    "            else:\n",
    "                recurse(depth+1,\n",
    "                        ind + j*user_dim_prod[depth],\n",
    "                        s + scaled_coords[offsets[depth]+j],\n",
    "                        advanced_ind if not advanced[depth] else j)\n",
    "    else:\n",
    "        if depth == ndim-1:\n",
    "            res[ind + advanced_ind*user_dim_prod[depth]] = s + scaled_coords[offsets[depth]+advanced_ind]\n",
    "        else:\n",
    "            recurse(depth+1,\n",
    "                    ind + advanced_ind*user_dim_prod[depth],\n",
    "                    s + scaled_coords[offsets[depth]+advanced_ind],\n",
    "                    advanced_ind)\n",
    "```"
   ]
  }
 ],
 "metadata": {
  "interpreter": {
   "hash": "e36da6e4e54bf7ae0dc3d6ad14d2b194dbed5812cb248f2e60ef66ea0a0c4db3"
  },
  "kernelspec": {
   "display_name": "Python 3.7.9 ('ak-work')",
   "language": "python",
   "name": "python3"
  },
  "language_info": {
   "codemirror_mode": {
    "name": "ipython",
    "version": 3
   },
   "file_extension": ".py",
   "mimetype": "text/x-python",
   "name": "python",
   "nbconvert_exporter": "python",
   "pygments_lexer": "ipython3",
   "version": "3.7.9"
  }
 },
 "nbformat": 4,
 "nbformat_minor": 5
}
