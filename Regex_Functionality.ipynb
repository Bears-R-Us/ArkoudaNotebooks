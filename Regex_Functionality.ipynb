{
 "cells": [
  {
   "cell_type": "markdown",
   "id": "e353decd",
   "metadata": {},
   "source": [
    "# Regex Functionality\n",
    "Demonstration of regex functionality in arkouda `Strings`"
   ]
  },
  {
   "cell_type": "markdown",
   "id": "720bf25e",
   "metadata": {},
   "source": [
    "The `CHPL_RE2` flag must be set to use this funtionality. After setting remake Chapel\n",
    "```\n",
    "export CHPL_RE2=bundled\n",
    "```\n",
    "This is for chapel v1.25.0, for v1.24 set the `CHPL_REGEX` flag (`export CHPL_REGEXP=re2`)"
   ]
  },
  {
   "cell_type": "markdown",
   "id": "da5e2fcd",
   "metadata": {},
   "source": [
    "The regex functionality uses Chapel's `regex` module which is built on google's `re2`. `re2` sacrifices some features like lookahead/lookbehind in exchange for guarantees that searches complete in linear time with respect to the size of the input and in a fixed amount of stack space"
   ]
  },
  {
   "cell_type": "code",
   "execution_count": null,
   "id": "686a69ae",
   "metadata": {},
   "outputs": [],
   "source": [
    "import arkouda as ak\n",
    "ak.connect()\n",
    "import re"
   ]
  },
  {
   "cell_type": "code",
   "execution_count": null,
   "id": "a5c5592b",
   "metadata": {},
   "outputs": [],
   "source": [
    "strings = ak.array(['1_2___', '____', '3', '__4___5____6___7'])\n",
    "pattern = '_+'"
   ]
  },
  {
   "cell_type": "markdown",
   "id": "78df3547",
   "metadata": {},
   "source": [
    "## ak.Match object\n",
    "`ak.Match` objects are returned from `Strings.search`, `Strings.match`, and `Strings.fullmatch`"
   ]
  },
  {
   "cell_type": "code",
   "execution_count": null,
   "id": "1a10651f",
   "metadata": {},
   "outputs": [],
   "source": [
    "strings"
   ]
  },
  {
   "cell_type": "code",
   "execution_count": null,
   "id": "a8bd30be",
   "metadata": {},
   "outputs": [],
   "source": [
    "print(f\"strings.search('{pattern}'):\\n{strings.search(pattern)}\\n\")\n",
    "print(f\"strings.match('{pattern}'):\\n{strings.match(pattern)}\\n\")\n",
    "print(f\"strings.fullmatch('{pattern}'):\\n{strings.fullmatch(pattern)}\")"
   ]
  },
  {
   "cell_type": "markdown",
   "id": "8d24c7d3",
   "metadata": {},
   "source": [
    "The `ak.Match` object mimics the `re.Match` object applied to every element in `Strings`"
   ]
  },
  {
   "cell_type": "code",
   "execution_count": null,
   "id": "4bab86e5",
   "metadata": {},
   "outputs": [],
   "source": [
    "ak_search = strings.search(pattern)\n",
    "re_search = [re.search(pattern, strings[i]) for i in range(strings.size)]\n",
    "for i in range(strings.size):\n",
    "    print(f\"ak_search[{i}]: {ak_search[i]}\")\n",
    "    print(f\"re_search[{i}]: {re_search[i]}\\n\")"
   ]
  },
  {
   "cell_type": "code",
   "execution_count": null,
   "id": "a6dba971",
   "metadata": {},
   "outputs": [],
   "source": [
    "print(f\"ak_search.matched(): {ak_search.matched()}\")\n",
    "print(f\"ak_search.start(): {ak_search.start()}\")\n",
    "print(f\"ak_search.end(): {ak_search.end()}\")\n",
    "print(f\"ak_search.find_matches(): {ak_search.find_matches()}\")"
   ]
  },
  {
   "cell_type": "code",
   "execution_count": null,
   "id": "8c4abf11",
   "metadata": {},
   "outputs": [],
   "source": [
    "# check that ak.Match methods line up with re methods applied to every element of Strings\n",
    "matched = ak.all(ak_search.matched() == ak.array([m is not None for m in re_search]))\n",
    "start = ak.all(ak_search.start() == ak.array([m.start() for m in re_search if m is not None]))\n",
    "end = ak.all(ak_search.end() == ak.array([m.end() for m in re_search if m is not None]))\n",
    "find_matches = ak.all(ak_search.find_matches() == ak.array([m.string[m.start():m.end()] for m in re_search if m is not None]))\n",
    "\n",
    "print(f\"matched: {matched}\")\n",
    "print(f\"start: {start}\")\n",
    "print(f\"end: {end}\")\n",
    "print(f\"find_matches: {find_matches}\")"
   ]
  },
  {
   "cell_type": "markdown",
   "id": "1bf0bfde",
   "metadata": {},
   "source": [
    "`ak.Match` doesn't return the matches by default like `re.Match` to avoid flooding the client. The `find_matches` function returns a new `Strings` object containing only the matches. Setting the `return_match_origins` flag will return the indices of the original Strings object where the matches where found"
   ]
  },
  {
   "cell_type": "code",
   "execution_count": null,
   "id": "2c0f3404",
   "metadata": {},
   "outputs": [],
   "source": [
    "print(f\"ak_search.find_matches(return_match_origins=True): {ak_search.find_matches(return_match_origins=True)}\")"
   ]
  },
  {
   "cell_type": "markdown",
   "id": "708f5bb5",
   "metadata": {},
   "source": [
    "`ak.Match` objects support capture groups which can be accessed using `.group()`"
   ]
  },
  {
   "cell_type": "code",
   "execution_count": null,
   "id": "888847d1",
   "metadata": {},
   "outputs": [],
   "source": [
    "tug_of_war = ak.array([\"Isaac Newton, physicist\", '<---calculus--->', 'Gottfried Leibniz, mathematician'])\n",
    "\n",
    "ak_captures = tug_of_war.search(r\"(\\w+) (\\w+)\")\n",
    "print(f\"ak_captures.group() = {ak_captures.group()}\")\n",
    "print(f\"ak_captures.group(1) = {ak_captures.group(1)}\")\n",
    "print(f\"ak_captures.group(2) = {ak_captures.group(2)}\")\n",
    "\n",
    "re_captures = [re.search(\"(\\\\w+) (\\\\w+)\", tug_of_war[i]) for i in range(tug_of_war.size)]\n",
    "print(f\"re agree? {ak.all(ak_captures.group(2) == ak.array([m.group(2) for m in re_captures if m is not None]))}\")"
   ]
  },
  {
   "cell_type": "markdown",
   "id": "49b7c7ec",
   "metadata": {},
   "source": [
    "## Split\n",
    "`split` will return a new `Strings` split by occurrences of `pattern` up to `maxsplit` times. If the `return_segments` flag is set, a mapping between original strings and new array elements will also be returned"
   ]
  },
  {
   "cell_type": "code",
   "execution_count": null,
   "id": "220c4271",
   "metadata": {},
   "outputs": [],
   "source": [
    "strings"
   ]
  },
  {
   "cell_type": "code",
   "execution_count": null,
   "id": "e293a596",
   "metadata": {},
   "outputs": [],
   "source": [
    "pattern = '_+'\n",
    "maxsplit = 2\n",
    "print(f\"strings.split('{pattern}', maxsplit={maxsplit}, return_segments=True):\\n{strings.split(pattern, maxsplit=maxsplit, return_segments=True)}\")"
   ]
  },
  {
   "cell_type": "markdown",
   "id": "1c5c6250",
   "metadata": {},
   "source": [
    "mimics `re.split` functionality applied to each element in `strings`"
   ]
  },
  {
   "cell_type": "code",
   "execution_count": null,
   "id": "291929ea",
   "metadata": {},
   "outputs": [],
   "source": [
    "split, split_map = strings.split(pattern, maxsplit=maxsplit, return_segments=True)\n",
    "for i in range(strings.size):\n",
    "    print(f\"strings[{i}]: '{strings[i]}'\")\n",
    "    print(f\"re.split = {re.split(pattern, strings[i], maxsplit=maxsplit)}\")\n",
    "    print(f\"ak.split = {split[split_map[i]:split_map[i + 1]] if i != strings.size - 1 else split[split_map[i]:]}\\n\")"
   ]
  },
  {
   "cell_type": "markdown",
   "id": "274353cb",
   "metadata": {},
   "source": [
    "## Findall\n",
    "The `findall` function returns a new `Strings` object containing only the matches. Setting the `return_match_origins` flag will return the indices of the original Strings object where the matches where found"
   ]
  },
  {
   "cell_type": "code",
   "execution_count": null,
   "id": "cb730dd5",
   "metadata": {},
   "outputs": [],
   "source": [
    "strings"
   ]
  },
  {
   "cell_type": "code",
   "execution_count": null,
   "id": "d48ce49e",
   "metadata": {},
   "outputs": [],
   "source": [
    "pattern = '_+'\n",
    "print(f\"strings.findall('{pattern}', return_match_origins=True):\\n{strings.findall(pattern, return_match_origins=True)}\")"
   ]
  },
  {
   "cell_type": "code",
   "execution_count": null,
   "id": "cd0ffb8a",
   "metadata": {},
   "outputs": [],
   "source": [
    "# Verify the results of findall match re\n",
    "for i in range(strings.size):\n",
    "    print(re.findall(pattern, strings[i]))"
   ]
  },
  {
   "cell_type": "markdown",
   "id": "cd1bb697",
   "metadata": {},
   "source": [
    "## Sub\n",
    "`sub` returns a new `Strings` obtained by replacing up to `count` of the leftmost non-overlapping occurrences of pattern in string by the replacement `repl`.\n",
    "\n",
    "`subn` returns the string from `sub` but also returns a pdarray containing the number of substitions per string"
   ]
  },
  {
   "cell_type": "code",
   "execution_count": null,
   "id": "898a8cd8",
   "metadata": {},
   "outputs": [],
   "source": [
    "strings"
   ]
  },
  {
   "cell_type": "code",
   "execution_count": null,
   "id": "f5bf3f87",
   "metadata": {},
   "outputs": [],
   "source": [
    "pattern = '_+'\n",
    "repl = '-------'\n",
    "count = 2\n",
    "ak_sub = strings.sub(pattern, repl, count)\n",
    "re_sub = [re.sub(pattern, repl, strings[i], count) for i in range(strings.size)]\n",
    "print(f\"ak_sub: {ak_sub}\")\n",
    "print(f\"re_sub: {re_sub}\")\n",
    "print(f\"re agree? {ak.all(ak_sub == ak.array(re_sub))}\")"
   ]
  },
  {
   "cell_type": "markdown",
   "id": "e64943ae",
   "metadata": {},
   "source": [
    "The default `count=0` replaces all occurences of `pattern` with `repl`"
   ]
  },
  {
   "cell_type": "code",
   "execution_count": null,
   "id": "4e4b815c",
   "metadata": {},
   "outputs": [],
   "source": [
    "strings.subn(pattern, '-')"
   ]
  },
  {
   "cell_type": "markdown",
   "id": "59c3a2b2",
   "metadata": {},
   "source": [
    "## Substring Search\n",
    "Returns a boolean array indicating whether each element `contains`, `startswith`, or `endswith` the regex pattern."
   ]
  },
  {
   "cell_type": "code",
   "execution_count": null,
   "id": "59e53b8e",
   "metadata": {},
   "outputs": [],
   "source": [
    "strings"
   ]
  },
  {
   "cell_type": "code",
   "execution_count": null,
   "id": "3d8fcd60",
   "metadata": {},
   "outputs": [],
   "source": [
    "print(f\"strings.contains('{pattern}, regex=True'):\\n{strings.contains(pattern, regex=True)}\\n\")\n",
    "print(f\"strings.startswith('{pattern}, regex=True'):\\n{strings.startswith(pattern, regex=True)}\\n\")\n",
    "print(f\"strings.endswith('{pattern}, regex=True'):\\n{strings.endswith(pattern, regex=True)}\")"
   ]
  },
  {
   "cell_type": "markdown",
   "id": "c472de88",
   "metadata": {},
   "source": [
    "## Peel\n",
    "Peel off one or more delimited fields from each string (similar to `string.partition`), returning two new arrays of strings"
   ]
  },
  {
   "cell_type": "code",
   "execution_count": null,
   "id": "ac6de3a1",
   "metadata": {},
   "outputs": [],
   "source": [
    "under = ak.array(['one_two', 'three_____four____five', 'six'])\n",
    "under"
   ]
  },
  {
   "cell_type": "code",
   "execution_count": null,
   "id": "700fcce9",
   "metadata": {},
   "outputs": [],
   "source": [
    "print(f\"under.peel('{pattern}', includeDelimiter=True, regex=True):\\n{under.peel(pattern,includeDelimiter=True,regex=True)}\")"
   ]
  },
  {
   "cell_type": "markdown",
   "id": "189d77a4",
   "metadata": {},
   "source": [
    "## Flatten\n",
    "Given an array of strings where each string encodes a variable-length sequence delimited by a common substring, flattening offers a method for unpacking the sequences into a flat array of individual elements"
   ]
  },
  {
   "cell_type": "code",
   "execution_count": null,
   "id": "e6337779",
   "metadata": {},
   "outputs": [],
   "source": [
    "under"
   ]
  },
  {
   "cell_type": "code",
   "execution_count": null,
   "id": "0ed3a00e",
   "metadata": {},
   "outputs": [],
   "source": [
    "print(f\"under.flatten('{pattern}', return_segments=True, regex=True):\\n{under.flatten(pattern, return_segments=True, regex=True)}\")"
   ]
  },
  {
   "cell_type": "markdown",
   "id": "10718171",
   "metadata": {},
   "source": [
    "## Find Locations\n",
    "Finds pattern matches and returns pdarrays containing the number, start postitions, and lengths of matches"
   ]
  },
  {
   "cell_type": "code",
   "execution_count": null,
   "id": "79f73050",
   "metadata": {},
   "outputs": [],
   "source": [
    "strings"
   ]
  },
  {
   "cell_type": "code",
   "execution_count": null,
   "id": "38cd6318",
   "metadata": {},
   "outputs": [],
   "source": [
    "print(f\"strings.find_locations('{pattern}'):\\n{strings.find_locations(pattern)}\")"
   ]
  },
  {
   "cell_type": "code",
   "execution_count": null,
   "id": "ec99616a",
   "metadata": {},
   "outputs": [],
   "source": [
    "pattern = r'\\d'\n",
    "print(f\"strings.find_locations(r'{pattern}'):\\n{strings.find_locations(pattern)}\")"
   ]
  },
  {
   "cell_type": "markdown",
   "id": "7cf5d3d9",
   "metadata": {},
   "source": [
    "`cached_regex_patterns` shows which regex patterns have been cached for that `Strings`"
   ]
  },
  {
   "cell_type": "code",
   "execution_count": null,
   "id": "ec7f47f3",
   "metadata": {},
   "outputs": [],
   "source": [
    "strings.cached_regex_patterns()"
   ]
  },
  {
   "cell_type": "code",
   "execution_count": null,
   "id": "93c26439",
   "metadata": {},
   "outputs": [],
   "source": [
    "strings.purge_cached_regex_patterns()"
   ]
  },
  {
   "cell_type": "code",
   "execution_count": null,
   "id": "3f45e921",
   "metadata": {},
   "outputs": [],
   "source": [
    "strings.cached_regex_patterns()"
   ]
  },
  {
   "cell_type": "markdown",
   "id": "6294dd0e",
   "metadata": {},
   "source": [
    "## shutdown"
   ]
  },
  {
   "cell_type": "code",
   "execution_count": null,
   "id": "eafc275f",
   "metadata": {},
   "outputs": [],
   "source": [
    "ak.shutdown()"
   ]
  }
 ],
 "metadata": {
  "kernelspec": {
   "display_name": "Python 3",
   "language": "python",
   "name": "python3"
  },
  "language_info": {
   "codemirror_mode": {
    "name": "ipython",
    "version": 3
   },
   "file_extension": ".py",
   "mimetype": "text/x-python",
   "name": "python",
   "nbconvert_exporter": "python",
   "pygments_lexer": "ipython3",
   "version": "3.7.9"
  }
 },
 "nbformat": 4,
 "nbformat_minor": 5
}
