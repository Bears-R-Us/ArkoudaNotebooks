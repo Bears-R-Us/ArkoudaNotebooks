{
 "cells": [
  {
   "cell_type": "markdown",
   "metadata": {},
   "source": [
    "# Exploring the New York City Taxi Data with Arkouda + Pandas/NumPy\n",
    "\n",
    "This notebook shows some examples of how to interoperate between Pandas and Arkouda at a small scale on a few-GB workstation. This same notebook would run with a multi-node Arkouda instance on an HPC with TB of data.\n",
    "\n",
    "Arkouda is not trying to replace Pandas but to allow for some Pandas-style operation at a much larger scale. In our experience Pandas can handle dataframes up to about **500 million rows** on a sufficently capable compute server before performance becomes a real issue. Arkouda breaks the shared memory paradigm and scales its operations to distributed dataframes with **hundreds of billions of rows**, maybe even a trillion. In practice we have run Arkouda server operations on columns of one trillion elements running on 512 compute nodes. This yielded a **>20TB dataframe** in Arkouda.\n",
    "\n",
    "**Outline**\n",
    "- Data Preparation\n",
    "  - Get Data\n",
    "  - Convert Data\n",
    "  - Load Data\n",
    "- Data Exploration\n",
    "  - Summarization\n",
    "  - Histograms\n",
    "  - Logical Indexing/Filtering\n",
    "  - Time Data\n",
    "  - Lookup Tables\n",
    "  - GroupBy-Aggregate\n",
    "  - Broadcast\n",
    "  - Integrate with Pandas\n",
    "\n",
    "# Data Preparation\n",
    "\n",
    "## Download New York City Taxi Data\n",
    "----------------------------------\n",
    "[Yellow Trips Data Dictionary](https://www1.nyc.gov/assets/tlc/downloads/pdf/data_dictionary_trip_records_yellow.pdf)\n",
    "\n",
    "[NYC Yellow Taxi Trip Records Jan 2020](https://s3.amazonaws.com/nyc-tlc/trip+data/yellow_tripdata_2020-01.csv)\n",
    "\n",
    "[Green Trips Data Dictionary](https://www1.nyc.gov/assets/tlc/downloads/pdf/data_dictionary_trip_records_green.pdf)\n",
    "\n",
    "[NYC Green  Taxi Trip Records Jan 2020](https://s3.amazonaws.com/nyc-tlc/trip+data/green_tripdata_2020-01.csv)\n",
    "\n",
    "[NYC Taxi Zone Lookup Table](https://s3.amazonaws.com/nyc-tlc/misc/taxi+_zone_lookup.csv)\n",
    "\n",
    "[NYC Taxi Zone Shapefile](https://s3.amazonaws.com/nyc-tlc/misc/taxi_zones.zip)"
   ]
  },
  {
   "cell_type": "markdown",
   "metadata": {},
   "source": [
    "## Convert and Load Data\n",
    "\n",
    "2 methods:\n",
    "* Load in python (e.g. with pandas) and transfer to arkouda\n",
    "  * Good for prototyping with small data\n",
    "* Convert to HDF5 (in separate process) and read directly with arkouda\n",
    "  * Best for large datasets\n",
    "  \n",
    "#### Dtypes Supported in HDF5\n",
    "Arkouda can only read these HDF5 dtypes\n",
    "* int (any width) -> int64\n",
    "* float (any width) -> float64\n",
    "* custom string format -> ak.Strings\n",
    "\n",
    "#### Additional Dtypes in Arkouda\n",
    "Can cast/convert to these after loading raw data\n",
    "* bool\n",
    "* Datetime (from int64)\n",
    "* Timedelta (from int64)\n",
    "\n",
    "#### Prefer Integers!\n",
    "They are fast and versatile (usable with GroupBy, Datetime, Timedelta, bit ops, etc.)"
   ]
  },
  {
   "cell_type": "markdown",
   "metadata": {},
   "source": [
    "### Describe Data Format"
   ]
  },
  {
   "cell_type": "code",
   "execution_count": 1,
   "metadata": {
    "ExecuteTime": {
     "end_time": "2021-04-08T16:38:41.386040Z",
     "start_time": "2021-04-08T16:38:41.269444Z"
    }
   },
   "outputs": [
    {
     "name": "stdout",
     "output_type": "stream",
     "text": [
      "VendorID,lpep_pickup_datetime,lpep_dropoff_datetime,store_and_fwd_flag,RatecodeID,PULocationID,DOLocationID,passenger_count,trip_distance,fare_amount,extra,mta_tax,tip_amount,tolls_amount,ehail_fee,improvement_surcharge,total_amount,payment_type,trip_type,congestion_surcharge\r",
      "\r\n",
      "2,2019-12-18 15:52:30,2019-12-18 15:54:39,N,1,264,264,5,.00,3.5,0.5,0.5,0.01,0,,0.3,4.81,1,1,0\r",
      "\r\n",
      "2,2020-01-01 00:45:58,2020-01-01 00:56:39,N,5,66,65,2,1.28,20,0,0,4.06,0,,0.3,24.36,1,2,0\r",
      "\r\n",
      "2,2020-01-01 00:41:38,2020-01-01 00:52:49,N,1,181,228,1,2.47,10.5,0.5,0.5,3.54,0,,0.3,15.34,1,1,0\r",
      "\r\n",
      "1,2020-01-01 00:52:46,2020-01-01 01:14:21,N,1,129,263,2,6.30,21,3.25,0.5,0,0,,0.3,25.05,2,1,2.75\r",
      "\r\n",
      "1,2020-01-01 00:19:57,2020-01-01 00:30:56,N,1,210,150,1,2.30,10,0.5,0.5,0,0,,0.3,11.3,1,1,0\r",
      "\r\n",
      "1,2020-01-01 00:52:33,2020-01-01 01:09:54,N,1,35,39,1,3.00,13.5,0.5,0.5,0,0,,0.3,14.8,1,1,0\r",
      "\r\n",
      "2,2020-01-01 00:10:18,2020-01-01 00:22:16,N,1,25,61,1,2.77,11,0.5,0.5,0,0,,0.3,12.3,2,1,0\r",
      "\r\n",
      "2,2020-01-01 01:03:14,2020-01-01 01:29:45,N,1,225,89,1,4.98,20.5,0.5,0.5,0,0,,0.3,21.8,2,1,0\r",
      "\r\n",
      "2,2020-01-01 00:04:11,2020-01-01 00:09:48,N,1,129,129,1,.71,5.5,0.5,0.5,0,0,,0.3,6.8,2,1,0\r",
      "\r\n"
     ]
    }
   ],
   "source": [
    "!head /home/reusters/data/green_tripdata_2020-01.csv"
   ]
  },
  {
   "cell_type": "code",
   "execution_count": 2,
   "metadata": {
    "ExecuteTime": {
     "end_time": "2021-04-08T16:38:41.395777Z",
     "start_time": "2021-04-08T16:38:41.388926Z"
    }
   },
   "outputs": [
    {
     "name": "stdout",
     "output_type": "stream",
     "text": [
      "Overwriting NYCTaxi_format.py\n"
     ]
    }
   ],
   "source": [
    "%%file NYCTaxi_format.py\n",
    "\n",
    "import numpy as np\n",
    "\n",
    "OPTIONS = {}\n",
    "\n",
    "def YNint(yn):\n",
    "    return (0, 1)[yn.upper() in 'YES']\n",
    "\n",
    "def nullint(x):\n",
    "    try:\n",
    "        return np.int64(x)\n",
    "    except:\n",
    "        return np.int64(-1)\n",
    "\n",
    "yellow_format = {'sep': ',',\n",
    "                 'header': 0,\n",
    "                 'parse_dates':['tpep_dropoff_datetime', 'tpep_pickup_datetime'],\n",
    "                 'infer_datetime_format': True,\n",
    "                 'converters': {'store_and_fwd_flag': YNint,\n",
    "                                'VendorID': nullint,\n",
    "                                'RatecodeID': nullint,\n",
    "                                'PULocationID': nullint,\n",
    "                                'DOLocationID': nullint,\n",
    "                                'passenger_count': nullint,\n",
    "                                'payment_type': nullint,\n",
    "                                'trip_type': nullint}}\n",
    "\n",
    "OPTIONS['yellow'] = yellow_format\n",
    "\n",
    "green_format = yellow_format.copy()\n",
    "green_format['parse_dates'] = ['lpep_dropoff_datetime', 'lpep_pickup_datetime']\n",
    "OPTIONS['green'] = green_format"
   ]
  },
  {
   "cell_type": "markdown",
   "metadata": {},
   "source": [
    "### Method 1: CSV --> Pandas --> Arkouda"
   ]
  },
  {
   "cell_type": "code",
   "execution_count": 3,
   "metadata": {
    "ExecuteTime": {
     "end_time": "2021-04-08T16:38:42.124150Z",
     "start_time": "2021-04-08T16:38:41.399232Z"
    }
   },
   "outputs": [
    {
     "name": "stderr",
     "output_type": "stream",
     "text": [
      "connected to arkouda server tcp://*:5555\n"
     ]
    },
    {
     "name": "stdout",
     "output_type": "stream",
     "text": [
      "    _         _                   _       \n",
      "   / \\   _ __| | _____  _   _  __| | __ _ \n",
      "  / _ \\ | '__| |/ / _ \\| | | |/ _` |/ _` |\n",
      " / ___ \\| |  |   < (_) | |_| | (_| | (_| |\n",
      "/_/   \\_\\_|  |_|\\_\\___/ \\__,_|\\__,_|\\__,_|\n",
      "                                          \n",
      "\n",
      "Client Version: 2020.07.07\n"
     ]
    }
   ],
   "source": [
    "import pandas as pd\n",
    "import NYCTaxi_format as taxi\n",
    "import arkouda as ak\n",
    "ak.connect(connect_url=\"tcp://localhost:5555\")"
   ]
  },
  {
   "cell_type": "code",
   "execution_count": 4,
   "metadata": {
    "ExecuteTime": {
     "end_time": "2021-04-08T16:38:54.109430Z",
     "start_time": "2021-04-08T16:38:42.128016Z"
    }
   },
   "outputs": [],
   "source": [
    "pdgreen = pd.read_csv('/home/reusters/data/green_tripdata_2020-01.csv', **taxi.OPTIONS['green'])"
   ]
  },
  {
   "cell_type": "code",
   "execution_count": 5,
   "metadata": {
    "ExecuteTime": {
     "end_time": "2021-04-08T16:38:54.117578Z",
     "start_time": "2021-04-08T16:38:54.111669Z"
    }
   },
   "outputs": [],
   "source": [
    "# transfer columns of DataFrame to arkouda\n",
    "def ak_create_akdict_from_df(df):\n",
    "    akdict = {}\n",
    "    for cname in df.keys():\n",
    "        if df[cname].dtype.name == 'object':\n",
    "            akdict[cname] = ak.from_series(df[cname],dtype=np.str)\n",
    "        else:\n",
    "            akdict[cname] = ak.from_series(df[cname])\n",
    "\n",
    "    return akdict"
   ]
  },
  {
   "cell_type": "code",
   "execution_count": 6,
   "metadata": {
    "ExecuteTime": {
     "end_time": "2021-04-08T16:38:56.586414Z",
     "start_time": "2021-04-08T16:38:54.119714Z"
    }
   },
   "outputs": [],
   "source": [
    "green_from_pandas = ak_create_akdict_from_df(pdgreen)"
   ]
  },
  {
   "cell_type": "markdown",
   "metadata": {},
   "source": [
    "### Method 2: CSV --> HDF5 --> Arkouda\n",
    "\n",
    "Arkouda comes with a CSV to HDF5 converter in the repo. It uses the NYCTaxi_format.py file we defined above."
   ]
  },
  {
   "cell_type": "code",
   "execution_count": 7,
   "metadata": {
    "ExecuteTime": {
     "end_time": "2021-04-08T16:39:10.883027Z",
     "start_time": "2021-04-08T16:38:56.589866Z"
    }
   },
   "outputs": [
    {
     "name": "stdout",
     "output_type": "stream",
     "text": [
      "Columns to be extracted:\n",
      "<class 'pandas.core.frame.DataFrame'>\n",
      "RangeIndex: 1000 entries, 0 to 999\n",
      "Data columns (total 20 columns):\n",
      " #   Column                 Non-Null Count  Dtype         \n",
      "---  ------                 --------------  -----         \n",
      " 0   VendorID               1000 non-null   int64         \n",
      " 1   lpep_pickup_datetime   1000 non-null   datetime64[ns]\n",
      " 2   lpep_dropoff_datetime  1000 non-null   datetime64[ns]\n",
      " 3   store_and_fwd_flag     1000 non-null   int64         \n",
      " 4   RatecodeID             1000 non-null   int64         \n",
      " 5   PULocationID           1000 non-null   int64         \n",
      " 6   DOLocationID           1000 non-null   int64         \n",
      " 7   passenger_count        1000 non-null   int64         \n",
      " 8   trip_distance          1000 non-null   float64       \n",
      " 9   fare_amount            1000 non-null   float64       \n",
      " 10  extra                  1000 non-null   float64       \n",
      " 11  mta_tax                1000 non-null   float64       \n",
      " 12  tip_amount             1000 non-null   float64       \n",
      " 13  tolls_amount           1000 non-null   float64       \n",
      " 14  ehail_fee              0 non-null      float64       \n",
      " 15  improvement_surcharge  1000 non-null   float64       \n",
      " 16  total_amount           1000 non-null   float64       \n",
      " 17  payment_type           1000 non-null   int64         \n",
      " 18  trip_type              1000 non-null   int64         \n",
      " 19  congestion_surcharge   1000 non-null   float64       \n",
      "dtypes: datetime64[ns](2), float64(10), int64(8)\n",
      "memory usage: 156.4 KB\n",
      "None\n",
      "100%|█████████████████████████████████████████████| 1/1 [00:13<00:00, 13.35s/it]\n"
     ]
    }
   ],
   "source": [
    "!python3 /home/reusters/arkouda/converter/csv2hdf.py \\\n",
    "--formats-file=/home/reusters/ArkoudaNotebooks/NYCTaxi_format.py \\\n",
    "--format=green \\\n",
    "--outdir=/home/reusters/data/ \\\n",
    "/home/reusters/data/green_tripdata_2020-01.csv"
   ]
  },
  {
   "cell_type": "code",
   "execution_count": 8,
   "metadata": {
    "ExecuteTime": {
     "end_time": "2021-04-08T16:39:10.897996Z",
     "start_time": "2021-04-08T16:39:10.888417Z"
    }
   },
   "outputs": [
    {
     "name": "stderr",
     "output_type": "stream",
     "text": [
      "connected to arkouda server tcp://*:5555\n"
     ]
    }
   ],
   "source": [
    "# Can skip this if already connected above\n",
    "import arkouda as ak\n",
    "ak.connect(connect_url=\"tcp://localhost:5555\")"
   ]
  },
  {
   "cell_type": "code",
   "execution_count": 9,
   "metadata": {
    "ExecuteTime": {
     "end_time": "2021-04-08T16:39:11.342023Z",
     "start_time": "2021-04-08T16:39:10.901361Z"
    }
   },
   "outputs": [],
   "source": [
    "green_from_HDF5 = ak.read_all('/home/reusters/data/green_tripdata_2020-01.hdf')"
   ]
  },
  {
   "cell_type": "markdown",
   "metadata": {},
   "source": [
    "### Same Result from Both Methods"
   ]
  },
  {
   "cell_type": "code",
   "execution_count": 10,
   "metadata": {
    "ExecuteTime": {
     "end_time": "2021-04-08T16:39:11.352396Z",
     "start_time": "2021-04-08T16:39:11.344213Z"
    }
   },
   "outputs": [],
   "source": [
    "def frames_are_equal(a, b):\n",
    "    # Ensure same columns\n",
    "    if a.keys() != b.keys():\n",
    "        return False\n",
    "    # Ensure same column dtypes\n",
    "    if not all(a[k].dtype == b[k].dtype for k in a):\n",
    "        return False\n",
    "    # Compare column values\n",
    "    for k in a:\n",
    "        # Workaround until ak.isna() is implemented\n",
    "        # Because nan != nan\n",
    "        if a[k].dtype == ak.float64:\n",
    "            cmp = ak.cast(a[k], 'int64') == ak.cast(b[k], 'int64')\n",
    "        else:\n",
    "            cmp = a[k] == b[k]\n",
    "        if not cmp.all():\n",
    "            return False\n",
    "    return True"
   ]
  },
  {
   "cell_type": "code",
   "execution_count": 11,
   "metadata": {
    "ExecuteTime": {
     "end_time": "2021-04-08T16:39:11.575019Z",
     "start_time": "2021-04-08T16:39:11.354772Z"
    }
   },
   "outputs": [
    {
     "data": {
      "text/plain": [
       "True"
      ]
     },
     "execution_count": 11,
     "metadata": {},
     "output_type": "execute_result"
    }
   ],
   "source": [
    "frames_are_equal(green_from_HDF5, green_from_pandas)"
   ]
  },
  {
   "cell_type": "code",
   "execution_count": 12,
   "metadata": {
    "ExecuteTime": {
     "end_time": "2021-04-08T16:39:11.581070Z",
     "start_time": "2021-04-08T16:39:11.577179Z"
    }
   },
   "outputs": [],
   "source": [
    "# Proceed with just one, since they are equivalent\n",
    "data = green_from_HDF5"
   ]
  },
  {
   "cell_type": "markdown",
   "metadata": {},
   "source": [
    "### Convert Columns to Specialized Dtypes"
   ]
  },
  {
   "cell_type": "code",
   "execution_count": 13,
   "metadata": {
    "ExecuteTime": {
     "end_time": "2021-04-08T16:39:11.604835Z",
     "start_time": "2021-04-08T16:39:11.584332Z"
    }
   },
   "outputs": [],
   "source": [
    "data['lpep_pickup_datetime'] = ak.Datetime(data['lpep_pickup_datetime'])\n",
    "data['lpep_dropoff_datetime'] = ak.Datetime(data['lpep_dropoff_datetime'])\n",
    "data['store_and_fwd_flag'] = (data['store_and_fwd_flag'] == 1)"
   ]
  },
  {
   "cell_type": "code",
   "execution_count": 14,
   "metadata": {
    "ExecuteTime": {
     "end_time": "2021-04-08T16:39:11.646378Z",
     "start_time": "2021-04-08T16:39:11.607594Z"
    }
   },
   "outputs": [
    {
     "data": {
      "text/plain": [
       "{'DOLocationID': array([264, 65, 228, ..., 241, 17, 124]),\n",
       " 'PULocationID': array([264, 66, 181, ..., 244, 68, 22]),\n",
       " 'RatecodeID': array([1, 5, 1, ..., -1, -1, -1]),\n",
       " 'VendorID': array([2, 2, 2, ..., -1, -1, -1]),\n",
       " 'congestion_surcharge': array([0, 0, 0, ..., nan, nan, nan]),\n",
       " 'ehail_fee': array([nan, nan, nan, ..., nan, nan, nan]),\n",
       " 'extra': array([0.5, 0, 0.5, ..., 2.75, 2.75, 2.75]),\n",
       " 'fare_amount': array([3.5, 20, 10.5, ..., 25.949999999999999, 30.390000000000001, 42.200000000000003]),\n",
       " 'improvement_surcharge': array([0.29999999999999999, 0.29999999999999999, 0.29999999999999999, ..., 0.29999999999999999, 0.29999999999999999, 0.29999999999999999]),\n",
       " 'lpep_dropoff_datetime': Datetime(['2019-12-18 15:54:39',\n",
       "           '2020-01-01 00:56:39',\n",
       "           '2020-01-01 00:52:49',\n",
       "           ... ,\n",
       "           '2020-02-01 00:10:00',\n",
       "           '2020-02-01 00:04:00',\n",
       "           '2020-02-01 00:01:00'],\n",
       "          dtype='datetime64[ns]'),\n",
       " 'lpep_pickup_datetime': Datetime(['2019-12-18 15:52:30',\n",
       "           '2020-01-01 00:45:58',\n",
       "           '2020-01-01 00:41:38',\n",
       "           ... ,\n",
       "           '2020-01-31 23:57:00',\n",
       "           '2020-01-31 23:27:00',\n",
       "           '2020-01-31 23:36:00'],\n",
       "          dtype='datetime64[ns]'),\n",
       " 'mta_tax': array([0.5, 0, 0.5, ..., 0, 0, 0]),\n",
       " 'passenger_count': array([5, 2, 1, ..., -1, -1, -1]),\n",
       " 'payment_type': array([1, 1, 1, ..., -1, -1, -1]),\n",
       " 'store_and_fwd_flag': array([False, False, False, ..., True, True, True]),\n",
       " 'tip_amount': array([0.01, 4.0599999999999996, 3.54, ..., 0, 0, 0]),\n",
       " 'tolls_amount': array([0, 0, 0, ..., 0, 0, 0]),\n",
       " 'total_amount': array([4.8099999999999996, 24.359999999999999, 15.34, ..., 29, 33.439999999999998, 45.25]),\n",
       " 'trip_distance': array([0, 1.28, 2.4700000000000002, ..., 3.3399999999999999, 8.9199999999999999, 13.51]),\n",
       " 'trip_type': array([1, 2, 1, ..., -1, -1, -1])}"
      ]
     },
     "execution_count": 14,
     "metadata": {},
     "output_type": "execute_result"
    }
   ],
   "source": [
    "data"
   ]
  },
  {
   "cell_type": "code",
   "execution_count": 15,
   "metadata": {
    "ExecuteTime": {
     "end_time": "2021-04-08T16:39:11.653964Z",
     "start_time": "2021-04-08T16:39:11.649523Z"
    }
   },
   "outputs": [],
   "source": [
    "rows = data['VendorID'].size\n",
    "numbytes = sum(v.size*v.itemsize for v in data.values())"
   ]
  },
  {
   "cell_type": "code",
   "execution_count": 16,
   "metadata": {
    "ExecuteTime": {
     "end_time": "2021-04-08T16:39:11.661178Z",
     "start_time": "2021-04-08T16:39:11.656482Z"
    }
   },
   "outputs": [
    {
     "name": "stdout",
     "output_type": "stream",
     "text": [
      "447,770 rows\n",
      "68,508,810 bytes\n"
     ]
    }
   ],
   "source": [
    "print(f'{rows:,} rows\\n{numbytes:,} bytes')"
   ]
  },
  {
   "cell_type": "markdown",
   "metadata": {},
   "source": [
    "# Exploration"
   ]
  },
  {
   "cell_type": "markdown",
   "metadata": {},
   "source": [
    "## Descriptive Statistics"
   ]
  },
  {
   "cell_type": "code",
   "execution_count": 17,
   "metadata": {
    "ExecuteTime": {
     "end_time": "2021-04-08T16:39:11.671540Z",
     "start_time": "2021-04-08T16:39:11.663964Z"
    }
   },
   "outputs": [],
   "source": [
    "def describe(x):\n",
    "    fmt = 'mean: {}\\nstd : {}\\nmin : {}\\nmax : {}'\n",
    "    if x.dtype == ak.float64:\n",
    "        fmt = fmt.format(*['{:.2f}' for _ in range(4)])\n",
    "    print(fmt.format(x.mean(), x.std(), x.min(), x.max()))"
   ]
  },
  {
   "cell_type": "code",
   "execution_count": 18,
   "metadata": {
    "ExecuteTime": {
     "end_time": "2021-04-08T16:39:11.704891Z",
     "start_time": "2021-04-08T16:39:11.675717Z"
    }
   },
   "outputs": [
    {
     "name": "stdout",
     "output_type": "stream",
     "text": [
      "mean: 15.84\n",
      "std : 12.69\n",
      "min : -210.00\n",
      "max : 753.00\n"
     ]
    }
   ],
   "source": [
    "describe(data['fare_amount'])"
   ]
  },
  {
   "cell_type": "markdown",
   "metadata": {},
   "source": [
    "## Histograms"
   ]
  },
  {
   "cell_type": "code",
   "execution_count": 19,
   "metadata": {
    "ExecuteTime": {
     "end_time": "2021-04-08T16:39:12.003868Z",
     "start_time": "2021-04-08T16:39:11.707609Z"
    }
   },
   "outputs": [],
   "source": [
    "import numpy as np\n",
    "from matplotlib import pyplot as plt\n",
    "\n",
    "def hist(x, bins, log=True):\n",
    "    assert bins > 0\n",
    "    # Compute histogram counts in arkouda\n",
    "    h = ak.histogram(x, bins)\n",
    "    # Compute bins in numpy\n",
    "    if isinstance(x, ak.Datetime):\n",
    "        # Matplotlib has trouble plotting np.datetime64 and np.timedelta64\n",
    "        bins = ak.date_range(x.min(), x.max(), periods=bins).to_ndarray().astype('int')\n",
    "    elif isinstance(x, ak.Timedelta):\n",
    "        bins = ak.timedelta_range(x.min(), x.max(), periods=bins).to_ndarray().astype('int')\n",
    "    else:\n",
    "        bins = np.linspace(x.min(), x.max(), bins+1)[:-1]\n",
    "    # Bring h over to numpy for plotting\n",
    "    plt.bar(bins, h.to_ndarray(), width=bins[1]-bins[0])\n",
    "    if log:\n",
    "        plt.yscale('log')"
   ]
  },
  {
   "cell_type": "code",
   "execution_count": 20,
   "metadata": {
    "ExecuteTime": {
     "end_time": "2021-04-08T16:39:13.638210Z",
     "start_time": "2021-04-08T16:39:12.006033Z"
    }
   },
   "outputs": [
    {
     "data": {
      "image/png": "[encoded data removed]",
      "text/plain": [
       "<Figure size 432x288 with 1 Axes>"
      ]
     },
     "metadata": {
      "needs_background": "light"
     },
     "output_type": "display_data"
    }
   ],
   "source": [
    "hist(data['fare_amount'], 100)"
   ]
  },
  {
   "cell_type": "markdown",
   "metadata": {},
   "source": [
    "## Logical Indexing (Filters)\n",
    "Find non-negative fares"
   ]
  },
  {
   "cell_type": "code",
   "execution_count": 21,
   "metadata": {
    "ExecuteTime": {
     "end_time": "2021-04-08T16:39:13.650653Z",
     "start_time": "2021-04-08T16:39:13.640631Z"
    }
   },
   "outputs": [
    {
     "name": "stdout",
     "output_type": "stream",
     "text": [
      "99.7% of fares are non-negative\n"
     ]
    }
   ],
   "source": [
    "nonneg = data['fare_amount'] >= 0\n",
    "print(f'{nonneg.sum() / nonneg.size :.1%} of fares are non-negative')"
   ]
  },
  {
   "cell_type": "markdown",
   "metadata": {},
   "source": [
    "Select only non-negative fares for computation"
   ]
  },
  {
   "cell_type": "code",
   "execution_count": 22,
   "metadata": {
    "ExecuteTime": {
     "end_time": "2021-04-08T16:39:13.684438Z",
     "start_time": "2021-04-08T16:39:13.653527Z"
    }
   },
   "outputs": [
    {
     "name": "stdout",
     "output_type": "stream",
     "text": [
      "mean: 15.91\n",
      "std : 12.62\n",
      "min : 0.00\n",
      "max : 753.00\n"
     ]
    }
   ],
   "source": [
    "describe(data['fare_amount'][nonneg])"
   ]
  },
  {
   "cell_type": "markdown",
   "metadata": {},
   "source": [
    "Make new data dict with only non-negative fares"
   ]
  },
  {
   "cell_type": "code",
   "execution_count": 23,
   "metadata": {
    "ExecuteTime": {
     "end_time": "2021-04-08T16:39:13.828353Z",
     "start_time": "2021-04-08T16:39:13.692193Z"
    }
   },
   "outputs": [],
   "source": [
    "data_nonneg = {k:v[nonneg] for k, v in data.items()}"
   ]
  },
  {
   "cell_type": "code",
   "execution_count": 24,
   "metadata": {
    "ExecuteTime": {
     "end_time": "2021-04-08T16:39:13.871327Z",
     "start_time": "2021-04-08T16:39:13.833387Z"
    }
   },
   "outputs": [
    {
     "data": {
      "text/plain": [
       "{'DOLocationID': array([264, 65, 228, ..., 241, 17, 124]),\n",
       " 'PULocationID': array([264, 66, 181, ..., 244, 68, 22]),\n",
       " 'RatecodeID': array([1, 5, 1, ..., -1, -1, -1]),\n",
       " 'VendorID': array([2, 2, 2, ..., -1, -1, -1]),\n",
       " 'congestion_surcharge': array([0, 0, 0, ..., nan, nan, nan]),\n",
       " 'ehail_fee': array([nan, nan, nan, ..., nan, nan, nan]),\n",
       " 'extra': array([0.5, 0, 0.5, ..., 2.75, 2.75, 2.75]),\n",
       " 'fare_amount': array([3.5, 20, 10.5, ..., 25.949999999999999, 30.390000000000001, 42.200000000000003]),\n",
       " 'improvement_surcharge': array([0.29999999999999999, 0.29999999999999999, 0.29999999999999999, ..., 0.29999999999999999, 0.29999999999999999, 0.29999999999999999]),\n",
       " 'lpep_dropoff_datetime': Datetime(['2019-12-18 15:54:39',\n",
       "           '2020-01-01 00:56:39',\n",
       "           '2020-01-01 00:52:49',\n",
       "           ... ,\n",
       "           '2020-02-01 00:10:00',\n",
       "           '2020-02-01 00:04:00',\n",
       "           '2020-02-01 00:01:00'],\n",
       "          dtype='datetime64[ns]'),\n",
       " 'lpep_pickup_datetime': Datetime(['2019-12-18 15:52:30',\n",
       "           '2020-01-01 00:45:58',\n",
       "           '2020-01-01 00:41:38',\n",
       "           ... ,\n",
       "           '2020-01-31 23:57:00',\n",
       "           '2020-01-31 23:27:00',\n",
       "           '2020-01-31 23:36:00'],\n",
       "          dtype='datetime64[ns]'),\n",
       " 'mta_tax': array([0.5, 0, 0.5, ..., 0, 0, 0]),\n",
       " 'passenger_count': array([5, 2, 1, ..., -1, -1, -1]),\n",
       " 'payment_type': array([1, 1, 1, ..., -1, -1, -1]),\n",
       " 'store_and_fwd_flag': array([False, False, False, ..., True, True, True]),\n",
       " 'tip_amount': array([0.01, 4.0599999999999996, 3.54, ..., 0, 0, 0]),\n",
       " 'tolls_amount': array([0, 0, 0, ..., 0, 0, 0]),\n",
       " 'total_amount': array([4.8099999999999996, 24.359999999999999, 15.34, ..., 29, 33.439999999999998, 45.25]),\n",
       " 'trip_distance': array([0, 1.28, 2.4700000000000002, ..., 3.3399999999999999, 8.9199999999999999, 13.51]),\n",
       " 'trip_type': array([1, 2, 1, ..., -1, -1, -1])}"
      ]
     },
     "execution_count": 24,
     "metadata": {},
     "output_type": "execute_result"
    }
   ],
   "source": [
    "data_nonneg"
   ]
  },
  {
   "cell_type": "markdown",
   "metadata": {},
   "source": [
    "## Time Data"
   ]
  },
  {
   "cell_type": "code",
   "execution_count": 25,
   "metadata": {
    "ExecuteTime": {
     "end_time": "2021-04-08T16:39:13.897494Z",
     "start_time": "2021-04-08T16:39:13.874394Z"
    }
   },
   "outputs": [],
   "source": [
    "data['ride_duration'] = data['lpep_dropoff_datetime'] - data['lpep_pickup_datetime']"
   ]
  },
  {
   "cell_type": "code",
   "execution_count": 26,
   "metadata": {
    "ExecuteTime": {
     "end_time": "2021-04-08T16:39:13.918814Z",
     "start_time": "2021-04-08T16:39:13.902325Z"
    }
   },
   "outputs": [
    {
     "data": {
      "text/plain": [
       "Timedelta(['0 days 00:02:09',\n",
       "           '0 days 00:10:41',\n",
       "           '0 days 00:11:11',\n",
       "           ... ,\n",
       "           '0 days 00:13:00',\n",
       "           '0 days 00:37:00',\n",
       "           '0 days 00:25:00'],\n",
       "          dtype='timedelta64[ns]')"
      ]
     },
     "execution_count": 26,
     "metadata": {},
     "output_type": "execute_result"
    }
   ],
   "source": [
    "data['ride_duration']"
   ]
  },
  {
   "cell_type": "code",
   "execution_count": 27,
   "metadata": {
    "ExecuteTime": {
     "end_time": "2021-04-08T16:39:13.933959Z",
     "start_time": "2021-04-08T16:39:13.921169Z"
    }
   },
   "outputs": [
    {
     "data": {
      "text/plain": [
       "(Timedelta('-1 days +23:59:50'), Timedelta('0 days 23:59:34'))"
      ]
     },
     "execution_count": 27,
     "metadata": {},
     "output_type": "execute_result"
    }
   ],
   "source": [
    "data['ride_duration'].min(), data['ride_duration'].max()"
   ]
  },
  {
   "cell_type": "code",
   "execution_count": 28,
   "metadata": {
    "ExecuteTime": {
     "end_time": "2021-04-08T16:39:15.354997Z",
     "start_time": "2021-04-08T16:39:13.937686Z"
    }
   },
   "outputs": [
    {
     "data": {
      "image/png": "[encoded data removed]",
      "text/plain": [
       "<Figure size 432x288 with 1 Axes>"
      ]
     },
     "metadata": {
      "needs_background": "light"
     },
     "output_type": "display_data"
    }
   ],
   "source": [
    "hist(data['ride_duration'], 100)"
   ]
  },
  {
   "cell_type": "markdown",
   "metadata": {},
   "source": [
    "## Taxi Zone Lookup Table"
   ]
  },
  {
   "cell_type": "markdown",
   "metadata": {},
   "source": [
    "### Use Method 1: CSV --> Pandas --> Arkouda"
   ]
  },
  {
   "cell_type": "code",
   "execution_count": 29,
   "metadata": {
    "ExecuteTime": {
     "end_time": "2021-04-08T16:39:15.372526Z",
     "start_time": "2021-04-08T16:39:15.357243Z"
    }
   },
   "outputs": [],
   "source": [
    "def cvt_to_string(v):\n",
    "    try:\n",
    "        if v == '':\n",
    "            return 'N/A'\n",
    "        else:\n",
    "            return str(v)\n",
    "    except:\n",
    "        return 'N/A'\n",
    "\n",
    "# read the taxi-zone-lookup-table\n",
    "cvt = {'Borough':cvt_to_string, 'Zone':cvt_to_string, 'service_zone':cvt_to_string}\n",
    "tzlut = pd.read_csv(\"/home/reusters/data/taxi+_zone_lookup.csv\",converters=cvt)\n",
    "\n",
    "# location id is 1-based, index is 0-based\n",
    "# fix it up to be aligned with index in data frame\n",
    "# which means add row zero\n",
    "top_row = pd.DataFrame({'LocationID': [0], 'Borough': ['N/A'], 'Zone': ['N/A'], 'service_zone': ['N/A']})\n",
    "tzlut = pd.concat([top_row, tzlut]).reset_index(drop = True)"
   ]
  },
  {
   "cell_type": "code",
   "execution_count": 30,
   "metadata": {
    "ExecuteTime": {
     "end_time": "2021-04-08T16:39:15.404385Z",
     "start_time": "2021-04-08T16:39:15.374781Z"
    }
   },
   "outputs": [
    {
     "data": {
      "text/html": [
       "<div>\n",
       "<style scoped>\n",
       "    .dataframe tbody tr th:only-of-type {\n",
       "        vertical-align: middle;\n",
       "    }\n",
       "\n",
       "    .dataframe tbody tr th {\n",
       "        vertical-align: top;\n",
       "    }\n",
       "\n",
       "    .dataframe thead th {\n",
       "        text-align: right;\n",
       "    }\n",
       "</style>\n",
       "<table border=\"1\" class=\"dataframe\">\n",
       "  <thead>\n",
       "    <tr style=\"text-align: right;\">\n",
       "      <th></th>\n",
       "      <th>LocationID</th>\n",
       "      <th>Borough</th>\n",
       "      <th>Zone</th>\n",
       "      <th>service_zone</th>\n",
       "    </tr>\n",
       "  </thead>\n",
       "  <tbody>\n",
       "    <tr>\n",
       "      <th>0</th>\n",
       "      <td>0</td>\n",
       "      <td>N/A</td>\n",
       "      <td>N/A</td>\n",
       "      <td>N/A</td>\n",
       "    </tr>\n",
       "    <tr>\n",
       "      <th>1</th>\n",
       "      <td>1</td>\n",
       "      <td>EWR</td>\n",
       "      <td>Newark Airport</td>\n",
       "      <td>EWR</td>\n",
       "    </tr>\n",
       "    <tr>\n",
       "      <th>2</th>\n",
       "      <td>2</td>\n",
       "      <td>Queens</td>\n",
       "      <td>Jamaica Bay</td>\n",
       "      <td>Boro Zone</td>\n",
       "    </tr>\n",
       "    <tr>\n",
       "      <th>3</th>\n",
       "      <td>3</td>\n",
       "      <td>Bronx</td>\n",
       "      <td>Allerton/Pelham Gardens</td>\n",
       "      <td>Boro Zone</td>\n",
       "    </tr>\n",
       "    <tr>\n",
       "      <th>4</th>\n",
       "      <td>4</td>\n",
       "      <td>Manhattan</td>\n",
       "      <td>Alphabet City</td>\n",
       "      <td>Yellow Zone</td>\n",
       "    </tr>\n",
       "    <tr>\n",
       "      <th>...</th>\n",
       "      <td>...</td>\n",
       "      <td>...</td>\n",
       "      <td>...</td>\n",
       "      <td>...</td>\n",
       "    </tr>\n",
       "    <tr>\n",
       "      <th>261</th>\n",
       "      <td>261</td>\n",
       "      <td>Manhattan</td>\n",
       "      <td>World Trade Center</td>\n",
       "      <td>Yellow Zone</td>\n",
       "    </tr>\n",
       "    <tr>\n",
       "      <th>262</th>\n",
       "      <td>262</td>\n",
       "      <td>Manhattan</td>\n",
       "      <td>Yorkville East</td>\n",
       "      <td>Yellow Zone</td>\n",
       "    </tr>\n",
       "    <tr>\n",
       "      <th>263</th>\n",
       "      <td>263</td>\n",
       "      <td>Manhattan</td>\n",
       "      <td>Yorkville West</td>\n",
       "      <td>Yellow Zone</td>\n",
       "    </tr>\n",
       "    <tr>\n",
       "      <th>264</th>\n",
       "      <td>264</td>\n",
       "      <td>Unknown</td>\n",
       "      <td>NV</td>\n",
       "      <td>N/A</td>\n",
       "    </tr>\n",
       "    <tr>\n",
       "      <th>265</th>\n",
       "      <td>265</td>\n",
       "      <td>Unknown</td>\n",
       "      <td>NA</td>\n",
       "      <td>N/A</td>\n",
       "    </tr>\n",
       "  </tbody>\n",
       "</table>\n",
       "<p>266 rows × 4 columns</p>\n",
       "</div>"
      ],
      "text/plain": [
       "     LocationID    Borough                     Zone service_zone\n",
       "0             0        N/A                      N/A          N/A\n",
       "1             1        EWR           Newark Airport          EWR\n",
       "2             2     Queens              Jamaica Bay    Boro Zone\n",
       "3             3      Bronx  Allerton/Pelham Gardens    Boro Zone\n",
       "4             4  Manhattan            Alphabet City  Yellow Zone\n",
       "..          ...        ...                      ...          ...\n",
       "261         261  Manhattan       World Trade Center  Yellow Zone\n",
       "262         262  Manhattan           Yorkville East  Yellow Zone\n",
       "263         263  Manhattan           Yorkville West  Yellow Zone\n",
       "264         264    Unknown                       NV          N/A\n",
       "265         265    Unknown                       NA          N/A\n",
       "\n",
       "[266 rows x 4 columns]"
      ]
     },
     "execution_count": 30,
     "metadata": {},
     "output_type": "execute_result"
    }
   ],
   "source": [
    "tzlut"
   ]
  },
  {
   "cell_type": "markdown",
   "metadata": {},
   "source": [
    "### Convert dataframe to dictionary of Arkouda arrays"
   ]
  },
  {
   "cell_type": "code",
   "execution_count": 31,
   "metadata": {
    "ExecuteTime": {
     "end_time": "2021-04-08T16:39:15.433231Z",
     "start_time": "2021-04-08T16:39:15.406726Z"
    }
   },
   "outputs": [],
   "source": [
    "# convert data frame with strings and int64 data\n",
    "aktzlut = ak_create_akdict_from_df(tzlut)"
   ]
  },
  {
   "cell_type": "code",
   "execution_count": 32,
   "metadata": {
    "ExecuteTime": {
     "end_time": "2021-04-08T16:39:15.459491Z",
     "start_time": "2021-04-08T16:39:15.435392Z"
    }
   },
   "outputs": [
    {
     "data": {
      "text/plain": [
       "{'LocationID': array([0, 1, 2, ..., 263, 264, 265]),\n",
       " 'Borough': array(['N/A', 'EWR', 'Queens', ... , 'Manhattan', 'Unknown', 'Unknown']),\n",
       " 'Zone': array(['N/A', 'Newark Airport', 'Jamaica Bay', ... , 'Yorkville West', 'NV', 'NA']),\n",
       " 'service_zone': array(['N/A', 'EWR', 'Boro Zone', ... , 'Yellow Zone', 'N/A', 'N/A'])}"
      ]
     },
     "execution_count": 32,
     "metadata": {},
     "output_type": "execute_result"
    }
   ],
   "source": [
    "aktzlut"
   ]
  },
  {
   "cell_type": "markdown",
   "metadata": {},
   "source": [
    "### Apply Lookup Table"
   ]
  },
  {
   "cell_type": "code",
   "execution_count": 33,
   "metadata": {
    "ExecuteTime": {
     "end_time": "2021-04-08T16:39:15.477980Z",
     "start_time": "2021-04-08T16:39:15.461773Z"
    }
   },
   "outputs": [
    {
     "data": {
      "text/plain": [
       "True"
      ]
     },
     "execution_count": 33,
     "metadata": {},
     "output_type": "execute_result"
    }
   ],
   "source": [
    "(aktzlut['LocationID'] == ak.arange(aktzlut['LocationID'].size)).all()"
   ]
  },
  {
   "cell_type": "code",
   "execution_count": 34,
   "metadata": {
    "ExecuteTime": {
     "end_time": "2021-04-08T16:39:15.539682Z",
     "start_time": "2021-04-08T16:39:15.480024Z"
    }
   },
   "outputs": [],
   "source": [
    "data['PUBorough'] = aktzlut['Borough'][data['PULocationID']]\n",
    "data['DOBorough'] = aktzlut['Borough'][data['DOLocationID']]"
   ]
  },
  {
   "cell_type": "code",
   "execution_count": 35,
   "metadata": {
    "ExecuteTime": {
     "end_time": "2021-04-08T16:39:15.618533Z",
     "start_time": "2021-04-08T16:39:15.542083Z"
    }
   },
   "outputs": [],
   "source": [
    "data['PUZone'] = aktzlut['Zone'][data['PULocationID']]\n",
    "data['DOZone'] = aktzlut['Zone'][data['DOLocationID']]"
   ]
  },
  {
   "cell_type": "code",
   "execution_count": 36,
   "metadata": {
    "ExecuteTime": {
     "end_time": "2021-04-08T16:39:15.676161Z",
     "start_time": "2021-04-08T16:39:15.621139Z"
    }
   },
   "outputs": [
    {
     "data": {
      "text/plain": [
       "{'DOLocationID': array([264, 65, 228, ..., 241, 17, 124]),\n",
       " 'PULocationID': array([264, 66, 181, ..., 244, 68, 22]),\n",
       " 'RatecodeID': array([1, 5, 1, ..., -1, -1, -1]),\n",
       " 'VendorID': array([2, 2, 2, ..., -1, -1, -1]),\n",
       " 'congestion_surcharge': array([0, 0, 0, ..., nan, nan, nan]),\n",
       " 'ehail_fee': array([nan, nan, nan, ..., nan, nan, nan]),\n",
       " 'extra': array([0.5, 0, 0.5, ..., 2.75, 2.75, 2.75]),\n",
       " 'fare_amount': array([3.5, 20, 10.5, ..., 25.949999999999999, 30.390000000000001, 42.200000000000003]),\n",
       " 'improvement_surcharge': array([0.29999999999999999, 0.29999999999999999, 0.29999999999999999, ..., 0.29999999999999999, 0.29999999999999999, 0.29999999999999999]),\n",
       " 'lpep_dropoff_datetime': Datetime(['2019-12-18 15:54:39',\n",
       "           '2020-01-01 00:56:39',\n",
       "           '2020-01-01 00:52:49',\n",
       "           ... ,\n",
       "           '2020-02-01 00:10:00',\n",
       "           '2020-02-01 00:04:00',\n",
       "           '2020-02-01 00:01:00'],\n",
       "          dtype='datetime64[ns]'),\n",
       " 'lpep_pickup_datetime': Datetime(['2019-12-18 15:52:30',\n",
       "           '2020-01-01 00:45:58',\n",
       "           '2020-01-01 00:41:38',\n",
       "           ... ,\n",
       "           '2020-01-31 23:57:00',\n",
       "           '2020-01-31 23:27:00',\n",
       "           '2020-01-31 23:36:00'],\n",
       "          dtype='datetime64[ns]'),\n",
       " 'mta_tax': array([0.5, 0, 0.5, ..., 0, 0, 0]),\n",
       " 'passenger_count': array([5, 2, 1, ..., -1, -1, -1]),\n",
       " 'payment_type': array([1, 1, 1, ..., -1, -1, -1]),\n",
       " 'store_and_fwd_flag': array([False, False, False, ..., True, True, True]),\n",
       " 'tip_amount': array([0.01, 4.0599999999999996, 3.54, ..., 0, 0, 0]),\n",
       " 'tolls_amount': array([0, 0, 0, ..., 0, 0, 0]),\n",
       " 'total_amount': array([4.8099999999999996, 24.359999999999999, 15.34, ..., 29, 33.439999999999998, 45.25]),\n",
       " 'trip_distance': array([0, 1.28, 2.4700000000000002, ..., 3.3399999999999999, 8.9199999999999999, 13.51]),\n",
       " 'trip_type': array([1, 2, 1, ..., -1, -1, -1]),\n",
       " 'ride_duration': Timedelta(['0 days 00:02:09',\n",
       "            '0 days 00:10:41',\n",
       "            '0 days 00:11:11',\n",
       "            ... ,\n",
       "            '0 days 00:13:00',\n",
       "            '0 days 00:37:00',\n",
       "            '0 days 00:25:00'],\n",
       "           dtype='timedelta64[ns]'),\n",
       " 'PUBorough': array(['Unknown', 'Brooklyn', 'Brooklyn', ... , 'Manhattan', 'Manhattan', 'Brooklyn']),\n",
       " 'DOBorough': array(['Unknown', 'Brooklyn', 'Brooklyn', ... , 'Bronx', 'Brooklyn', 'Queens']),\n",
       " 'PUZone': array(['NV', 'DUMBO/Vinegar Hill', 'Park Slope', ... , 'Washington Heights South', 'East Chelsea', 'Bensonhurst West']),\n",
       " 'DOZone': array(['NV', 'Downtown Brooklyn/MetroTech', 'Sunset Park West', ... , 'Van Cortlandt Village', 'Bedford', 'Howard Beach'])}"
      ]
     },
     "execution_count": 36,
     "metadata": {},
     "output_type": "execute_result"
    }
   ],
   "source": [
    "data"
   ]
  },
  {
   "cell_type": "markdown",
   "metadata": {},
   "source": [
    "## GroupBy: Construct a Graph\n",
    "\n",
    "Directed graph from PULocationID --> DOLocationID"
   ]
  },
  {
   "cell_type": "code",
   "execution_count": 37,
   "metadata": {
    "ExecuteTime": {
     "end_time": "2021-04-08T16:39:15.734305Z",
     "start_time": "2021-04-08T16:39:15.678197Z"
    }
   },
   "outputs": [],
   "source": [
    "byloc = ak.GroupBy([data['PULocationID'], data['DOLocationID']])"
   ]
  },
  {
   "cell_type": "code",
   "execution_count": 38,
   "metadata": {
    "ExecuteTime": {
     "end_time": "2021-04-08T16:39:15.745517Z",
     "start_time": "2021-04-08T16:39:15.737228Z"
    }
   },
   "outputs": [
    {
     "data": {
      "text/plain": [
       "[array([1, 1, 3, ..., 265, 265, 265]), array([1, 264, 3, ..., 260, 264, 265])]"
      ]
     },
     "execution_count": 38,
     "metadata": {},
     "output_type": "execute_result"
    }
   ],
   "source": [
    "byloc.unique_keys"
   ]
  },
  {
   "cell_type": "markdown",
   "metadata": {},
   "source": [
    "Edge weight is number of rides\n",
    "\n",
    "Aggregation methods of `GroupBy` return tuple of (unique_keys, aggregate_values)"
   ]
  },
  {
   "cell_type": "code",
   "execution_count": 39,
   "metadata": {
    "ExecuteTime": {
     "end_time": "2021-04-08T16:39:15.756406Z",
     "start_time": "2021-04-08T16:39:15.748793Z"
    }
   },
   "outputs": [],
   "source": [
    "(u, v), w = byloc.count()"
   ]
  },
  {
   "cell_type": "code",
   "execution_count": 40,
   "metadata": {
    "ExecuteTime": {
     "end_time": "2021-04-08T16:39:15.772901Z",
     "start_time": "2021-04-08T16:39:15.759285Z"
    }
   },
   "outputs": [
    {
     "data": {
      "text/plain": [
       "(array([1, 1, 3, ..., 265, 265, 265]),\n",
       " array([1, 264, 3, ..., 260, 264, 265]),\n",
       " array([2, 2, 9, ..., 1, 14, 73]))"
      ]
     },
     "execution_count": 40,
     "metadata": {},
     "output_type": "execute_result"
    }
   ],
   "source": [
    "u, v, w"
   ]
  },
  {
   "cell_type": "markdown",
   "metadata": {
    "ExecuteTime": {
     "end_time": "2021-04-08T16:12:55.415753Z",
     "start_time": "2021-04-08T16:12:55.410240Z"
    }
   },
   "source": [
    "## Broadcast: Find Rides with Anomalous Fares\n",
    "\n",
    "Compute mean and std of fare by (pickup, dropoff)"
   ]
  },
  {
   "cell_type": "code",
   "execution_count": 41,
   "metadata": {
    "ExecuteTime": {
     "end_time": "2021-04-08T16:39:15.795843Z",
     "start_time": "2021-04-08T16:39:15.775716Z"
    }
   },
   "outputs": [],
   "source": [
    "_, mf = byloc.mean(data['fare_amount'])"
   ]
  },
  {
   "cell_type": "code",
   "execution_count": 42,
   "metadata": {
    "ExecuteTime": {
     "end_time": "2021-04-08T16:39:15.828384Z",
     "start_time": "2021-04-08T16:39:15.799139Z"
    }
   },
   "outputs": [],
   "source": [
    "sf = (byloc.sum(data['fare_amount']**2)[1] / w) - mf**2"
   ]
  },
  {
   "cell_type": "markdown",
   "metadata": {},
   "source": [
    "Broadcast group values back to ride dataframe to compute z-scores of rides"
   ]
  },
  {
   "cell_type": "code",
   "execution_count": 43,
   "metadata": {
    "ExecuteTime": {
     "end_time": "2021-04-08T16:39:15.860150Z",
     "start_time": "2021-04-08T16:39:15.837010Z"
    }
   },
   "outputs": [],
   "source": [
    "data['fare_mean'] = byloc.broadcast(mf, permute=True)\n",
    "data['fare_std'] = byloc.broadcast(sf, permute=True)"
   ]
  },
  {
   "cell_type": "code",
   "execution_count": 44,
   "metadata": {
    "ExecuteTime": {
     "end_time": "2021-04-08T16:39:15.879447Z",
     "start_time": "2021-04-08T16:39:15.863441Z"
    }
   },
   "outputs": [],
   "source": [
    "data['fare_z'] = (data['fare_amount'] - data['fare_mean']) / (data['fare_std'] + 1)"
   ]
  },
  {
   "cell_type": "code",
   "execution_count": 45,
   "metadata": {
    "ExecuteTime": {
     "end_time": "2021-04-08T16:39:17.251328Z",
     "start_time": "2021-04-08T16:39:15.884539Z"
    }
   },
   "outputs": [
    {
     "data": {
      "image/png": "[encoded data removed]",
      "text/plain": [
       "<Figure size 432x288 with 1 Axes>"
      ]
     },
     "metadata": {
      "needs_background": "light"
     },
     "output_type": "display_data"
    }
   ],
   "source": [
    "hist(data['fare_z'], 100)"
   ]
  },
  {
   "cell_type": "markdown",
   "metadata": {},
   "source": [
    "## Bring Small Result Set Back to Pandas"
   ]
  },
  {
   "cell_type": "code",
   "execution_count": 46,
   "metadata": {
    "ExecuteTime": {
     "end_time": "2021-04-08T16:39:17.418669Z",
     "start_time": "2021-04-08T16:39:17.253726Z"
    }
   },
   "outputs": [],
   "source": [
    "exorbitant = (data['fare_z'] > 5)\n",
    "exdf = pd.DataFrame({k: v[exorbitant].to_ndarray() for k, v in data.items()})"
   ]
  },
  {
   "cell_type": "code",
   "execution_count": 47,
   "metadata": {
    "ExecuteTime": {
     "end_time": "2021-04-08T16:39:17.473626Z",
     "start_time": "2021-04-08T16:39:17.420922Z"
    }
   },
   "outputs": [
    {
     "data": {
      "text/html": [
       "<div>\n",
       "<style scoped>\n",
       "    .dataframe tbody tr th:only-of-type {\n",
       "        vertical-align: middle;\n",
       "    }\n",
       "\n",
       "    .dataframe tbody tr th {\n",
       "        vertical-align: top;\n",
       "    }\n",
       "\n",
       "    .dataframe thead th {\n",
       "        text-align: right;\n",
       "    }\n",
       "</style>\n",
       "<table border=\"1\" class=\"dataframe\">\n",
       "  <thead>\n",
       "    <tr style=\"text-align: right;\">\n",
       "      <th></th>\n",
       "      <th>DOLocationID</th>\n",
       "      <th>PULocationID</th>\n",
       "      <th>RatecodeID</th>\n",
       "      <th>VendorID</th>\n",
       "      <th>congestion_surcharge</th>\n",
       "      <th>ehail_fee</th>\n",
       "      <th>extra</th>\n",
       "      <th>fare_amount</th>\n",
       "      <th>improvement_surcharge</th>\n",
       "      <th>lpep_dropoff_datetime</th>\n",
       "      <th>...</th>\n",
       "      <th>trip_distance</th>\n",
       "      <th>trip_type</th>\n",
       "      <th>ride_duration</th>\n",
       "      <th>PUBorough</th>\n",
       "      <th>DOBorough</th>\n",
       "      <th>PUZone</th>\n",
       "      <th>DOZone</th>\n",
       "      <th>fare_mean</th>\n",
       "      <th>fare_std</th>\n",
       "      <th>fare_z</th>\n",
       "    </tr>\n",
       "  </thead>\n",
       "  <tbody>\n",
       "    <tr>\n",
       "      <th>0</th>\n",
       "      <td>135</td>\n",
       "      <td>95</td>\n",
       "      <td>1</td>\n",
       "      <td>2</td>\n",
       "      <td>0.00</td>\n",
       "      <td>NaN</td>\n",
       "      <td>0.00</td>\n",
       "      <td>68.50</td>\n",
       "      <td>0.3</td>\n",
       "      <td>2020-01-04 13:48:56</td>\n",
       "      <td>...</td>\n",
       "      <td>20.13</td>\n",
       "      <td>1</td>\n",
       "      <td>0 days 01:25:33</td>\n",
       "      <td>Queens</td>\n",
       "      <td>Queens</td>\n",
       "      <td>Forest Hills</td>\n",
       "      <td>Kew Gardens Hills</td>\n",
       "      <td>9.347122</td>\n",
       "      <td>10.239756</td>\n",
       "      <td>5.262826</td>\n",
       "    </tr>\n",
       "    <tr>\n",
       "      <th>1</th>\n",
       "      <td>223</td>\n",
       "      <td>7</td>\n",
       "      <td>1</td>\n",
       "      <td>2</td>\n",
       "      <td>0.00</td>\n",
       "      <td>NaN</td>\n",
       "      <td>0.00</td>\n",
       "      <td>112.50</td>\n",
       "      <td>0.3</td>\n",
       "      <td>2020-01-05 15:52:40</td>\n",
       "      <td>...</td>\n",
       "      <td>18.51</td>\n",
       "      <td>1</td>\n",
       "      <td>0 days 02:52:36</td>\n",
       "      <td>Queens</td>\n",
       "      <td>Queens</td>\n",
       "      <td>Astoria</td>\n",
       "      <td>Steinway</td>\n",
       "      <td>7.941014</td>\n",
       "      <td>13.072258</td>\n",
       "      <td>7.430150</td>\n",
       "    </tr>\n",
       "    <tr>\n",
       "      <th>2</th>\n",
       "      <td>256</td>\n",
       "      <td>255</td>\n",
       "      <td>1</td>\n",
       "      <td>2</td>\n",
       "      <td>0.00</td>\n",
       "      <td>NaN</td>\n",
       "      <td>0.00</td>\n",
       "      <td>32.00</td>\n",
       "      <td>0.3</td>\n",
       "      <td>2020-01-07 10:49:37</td>\n",
       "      <td>...</td>\n",
       "      <td>6.64</td>\n",
       "      <td>1</td>\n",
       "      <td>0 days 00:47:10</td>\n",
       "      <td>Brooklyn</td>\n",
       "      <td>Brooklyn</td>\n",
       "      <td>Williamsburg (North Side)</td>\n",
       "      <td>Williamsburg (South Side)</td>\n",
       "      <td>5.729614</td>\n",
       "      <td>4.128608</td>\n",
       "      <td>5.122323</td>\n",
       "    </tr>\n",
       "    <tr>\n",
       "      <th>3</th>\n",
       "      <td>146</td>\n",
       "      <td>7</td>\n",
       "      <td>1</td>\n",
       "      <td>2</td>\n",
       "      <td>0.00</td>\n",
       "      <td>NaN</td>\n",
       "      <td>0.50</td>\n",
       "      <td>44.00</td>\n",
       "      <td>0.3</td>\n",
       "      <td>2020-01-10 01:02:50</td>\n",
       "      <td>...</td>\n",
       "      <td>14.27</td>\n",
       "      <td>1</td>\n",
       "      <td>0 days 00:41:21</td>\n",
       "      <td>Queens</td>\n",
       "      <td>Queens</td>\n",
       "      <td>Astoria</td>\n",
       "      <td>Long Island City/Queens Plaza</td>\n",
       "      <td>7.048724</td>\n",
       "      <td>5.829702</td>\n",
       "      <td>5.410379</td>\n",
       "    </tr>\n",
       "    <tr>\n",
       "      <th>4</th>\n",
       "      <td>152</td>\n",
       "      <td>166</td>\n",
       "      <td>1</td>\n",
       "      <td>1</td>\n",
       "      <td>0.00</td>\n",
       "      <td>NaN</td>\n",
       "      <td>0.00</td>\n",
       "      <td>50.00</td>\n",
       "      <td>0.3</td>\n",
       "      <td>2020-01-11 15:53:11</td>\n",
       "      <td>...</td>\n",
       "      <td>2.90</td>\n",
       "      <td>1</td>\n",
       "      <td>0 days 01:30:22</td>\n",
       "      <td>Manhattan</td>\n",
       "      <td>Manhattan</td>\n",
       "      <td>Morningside Heights</td>\n",
       "      <td>Manhattanville</td>\n",
       "      <td>5.656181</td>\n",
       "      <td>4.856363</td>\n",
       "      <td>7.571904</td>\n",
       "    </tr>\n",
       "    <tr>\n",
       "      <th>5</th>\n",
       "      <td>166</td>\n",
       "      <td>41</td>\n",
       "      <td>1</td>\n",
       "      <td>1</td>\n",
       "      <td>2.75</td>\n",
       "      <td>NaN</td>\n",
       "      <td>3.75</td>\n",
       "      <td>55.00</td>\n",
       "      <td>0.3</td>\n",
       "      <td>2020-01-11 17:47:01</td>\n",
       "      <td>...</td>\n",
       "      <td>13.60</td>\n",
       "      <td>1</td>\n",
       "      <td>0 days 01:10:40</td>\n",
       "      <td>Manhattan</td>\n",
       "      <td>Manhattan</td>\n",
       "      <td>Central Harlem</td>\n",
       "      <td>Morningside Heights</td>\n",
       "      <td>6.417887</td>\n",
       "      <td>5.278712</td>\n",
       "      <td>7.737592</td>\n",
       "    </tr>\n",
       "    <tr>\n",
       "      <th>6</th>\n",
       "      <td>236</td>\n",
       "      <td>74</td>\n",
       "      <td>2</td>\n",
       "      <td>2</td>\n",
       "      <td>2.75</td>\n",
       "      <td>NaN</td>\n",
       "      <td>0.00</td>\n",
       "      <td>52.00</td>\n",
       "      <td>0.3</td>\n",
       "      <td>2020-01-13 00:00:00</td>\n",
       "      <td>...</td>\n",
       "      <td>1.79</td>\n",
       "      <td>1</td>\n",
       "      <td>0 days 10:31:13</td>\n",
       "      <td>Manhattan</td>\n",
       "      <td>Manhattan</td>\n",
       "      <td>East Harlem North</td>\n",
       "      <td>Upper East Side North</td>\n",
       "      <td>9.758939</td>\n",
       "      <td>5.298839</td>\n",
       "      <td>6.706166</td>\n",
       "    </tr>\n",
       "    <tr>\n",
       "      <th>7</th>\n",
       "      <td>74</td>\n",
       "      <td>41</td>\n",
       "      <td>1</td>\n",
       "      <td>2</td>\n",
       "      <td>0.00</td>\n",
       "      <td>NaN</td>\n",
       "      <td>0.00</td>\n",
       "      <td>41.00</td>\n",
       "      <td>0.3</td>\n",
       "      <td>2020-01-12 16:02:26</td>\n",
       "      <td>...</td>\n",
       "      <td>13.68</td>\n",
       "      <td>1</td>\n",
       "      <td>0 days 00:34:43</td>\n",
       "      <td>Manhattan</td>\n",
       "      <td>Manhattan</td>\n",
       "      <td>Central Harlem</td>\n",
       "      <td>East Harlem North</td>\n",
       "      <td>6.694358</td>\n",
       "      <td>5.477669</td>\n",
       "      <td>5.295986</td>\n",
       "    </tr>\n",
       "    <tr>\n",
       "      <th>8</th>\n",
       "      <td>74</td>\n",
       "      <td>75</td>\n",
       "      <td>2</td>\n",
       "      <td>2</td>\n",
       "      <td>0.00</td>\n",
       "      <td>NaN</td>\n",
       "      <td>0.00</td>\n",
       "      <td>52.00</td>\n",
       "      <td>0.3</td>\n",
       "      <td>2020-01-16 01:30:15</td>\n",
       "      <td>...</td>\n",
       "      <td>0.38</td>\n",
       "      <td>1</td>\n",
       "      <td>0 days 00:00:30</td>\n",
       "      <td>Manhattan</td>\n",
       "      <td>Manhattan</td>\n",
       "      <td>East Harlem South</td>\n",
       "      <td>East Harlem North</td>\n",
       "      <td>6.395680</td>\n",
       "      <td>6.858080</td>\n",
       "      <td>5.803494</td>\n",
       "    </tr>\n",
       "    <tr>\n",
       "      <th>9</th>\n",
       "      <td>166</td>\n",
       "      <td>74</td>\n",
       "      <td>5</td>\n",
       "      <td>2</td>\n",
       "      <td>2.75</td>\n",
       "      <td>NaN</td>\n",
       "      <td>0.00</td>\n",
       "      <td>87.76</td>\n",
       "      <td>0.3</td>\n",
       "      <td>2020-01-26 05:06:39</td>\n",
       "      <td>...</td>\n",
       "      <td>30.45</td>\n",
       "      <td>1</td>\n",
       "      <td>0 days 03:05:02</td>\n",
       "      <td>Manhattan</td>\n",
       "      <td>Manhattan</td>\n",
       "      <td>East Harlem North</td>\n",
       "      <td>Morningside Heights</td>\n",
       "      <td>9.225326</td>\n",
       "      <td>6.543356</td>\n",
       "      <td>10.411106</td>\n",
       "    </tr>\n",
       "    <tr>\n",
       "      <th>10</th>\n",
       "      <td>56</td>\n",
       "      <td>82</td>\n",
       "      <td>1</td>\n",
       "      <td>1</td>\n",
       "      <td>0.00</td>\n",
       "      <td>NaN</td>\n",
       "      <td>0.00</td>\n",
       "      <td>80.00</td>\n",
       "      <td>0.3</td>\n",
       "      <td>2020-01-27 11:18:00</td>\n",
       "      <td>...</td>\n",
       "      <td>16.80</td>\n",
       "      <td>1</td>\n",
       "      <td>0 days 01:59:33</td>\n",
       "      <td>Queens</td>\n",
       "      <td>Queens</td>\n",
       "      <td>Elmhurst</td>\n",
       "      <td>Corona</td>\n",
       "      <td>8.625193</td>\n",
       "      <td>12.764006</td>\n",
       "      <td>5.185613</td>\n",
       "    </tr>\n",
       "    <tr>\n",
       "      <th>11</th>\n",
       "      <td>74</td>\n",
       "      <td>75</td>\n",
       "      <td>-1</td>\n",
       "      <td>-1</td>\n",
       "      <td>NaN</td>\n",
       "      <td>NaN</td>\n",
       "      <td>2.75</td>\n",
       "      <td>48.50</td>\n",
       "      <td>0.3</td>\n",
       "      <td>2020-01-03 17:07:00</td>\n",
       "      <td>...</td>\n",
       "      <td>17.05</td>\n",
       "      <td>-1</td>\n",
       "      <td>0 days 00:51:00</td>\n",
       "      <td>Manhattan</td>\n",
       "      <td>Manhattan</td>\n",
       "      <td>East Harlem South</td>\n",
       "      <td>East Harlem North</td>\n",
       "      <td>6.395680</td>\n",
       "      <td>6.858080</td>\n",
       "      <td>5.358093</td>\n",
       "    </tr>\n",
       "    <tr>\n",
       "      <th>12</th>\n",
       "      <td>74</td>\n",
       "      <td>75</td>\n",
       "      <td>-1</td>\n",
       "      <td>-1</td>\n",
       "      <td>NaN</td>\n",
       "      <td>NaN</td>\n",
       "      <td>0.00</td>\n",
       "      <td>46.66</td>\n",
       "      <td>0.3</td>\n",
       "      <td>2020-01-03 17:07:00</td>\n",
       "      <td>...</td>\n",
       "      <td>17.05</td>\n",
       "      <td>-1</td>\n",
       "      <td>0 days 00:51:00</td>\n",
       "      <td>Manhattan</td>\n",
       "      <td>Manhattan</td>\n",
       "      <td>East Harlem South</td>\n",
       "      <td>East Harlem North</td>\n",
       "      <td>6.395680</td>\n",
       "      <td>6.858080</td>\n",
       "      <td>5.123939</td>\n",
       "    </tr>\n",
       "    <tr>\n",
       "      <th>13</th>\n",
       "      <td>40</td>\n",
       "      <td>33</td>\n",
       "      <td>-1</td>\n",
       "      <td>-1</td>\n",
       "      <td>NaN</td>\n",
       "      <td>NaN</td>\n",
       "      <td>2.75</td>\n",
       "      <td>72.95</td>\n",
       "      <td>0.3</td>\n",
       "      <td>2020-01-07 18:54:00</td>\n",
       "      <td>...</td>\n",
       "      <td>7.53</td>\n",
       "      <td>-1</td>\n",
       "      <td>0 days 00:52:00</td>\n",
       "      <td>Brooklyn</td>\n",
       "      <td>Brooklyn</td>\n",
       "      <td>Brooklyn Heights</td>\n",
       "      <td>Carroll Gardens</td>\n",
       "      <td>6.443925</td>\n",
       "      <td>11.402677</td>\n",
       "      <td>5.362236</td>\n",
       "    </tr>\n",
       "    <tr>\n",
       "      <th>14</th>\n",
       "      <td>236</td>\n",
       "      <td>75</td>\n",
       "      <td>-1</td>\n",
       "      <td>-1</td>\n",
       "      <td>NaN</td>\n",
       "      <td>NaN</td>\n",
       "      <td>5.50</td>\n",
       "      <td>41.04</td>\n",
       "      <td>0.3</td>\n",
       "      <td>2020-01-13 18:08:00</td>\n",
       "      <td>...</td>\n",
       "      <td>15.81</td>\n",
       "      <td>-1</td>\n",
       "      <td>0 days 01:11:00</td>\n",
       "      <td>Manhattan</td>\n",
       "      <td>Manhattan</td>\n",
       "      <td>East Harlem South</td>\n",
       "      <td>Upper East Side North</td>\n",
       "      <td>6.357355</td>\n",
       "      <td>4.381649</td>\n",
       "      <td>6.444613</td>\n",
       "    </tr>\n",
       "  </tbody>\n",
       "</table>\n",
       "<p>15 rows × 28 columns</p>\n",
       "</div>"
      ],
      "text/plain": [
       "    DOLocationID  PULocationID  RatecodeID  VendorID  congestion_surcharge  \\\n",
       "0            135            95           1         2                  0.00   \n",
       "1            223             7           1         2                  0.00   \n",
       "2            256           255           1         2                  0.00   \n",
       "3            146             7           1         2                  0.00   \n",
       "4            152           166           1         1                  0.00   \n",
       "5            166            41           1         1                  2.75   \n",
       "6            236            74           2         2                  2.75   \n",
       "7             74            41           1         2                  0.00   \n",
       "8             74            75           2         2                  0.00   \n",
       "9            166            74           5         2                  2.75   \n",
       "10            56            82           1         1                  0.00   \n",
       "11            74            75          -1        -1                   NaN   \n",
       "12            74            75          -1        -1                   NaN   \n",
       "13            40            33          -1        -1                   NaN   \n",
       "14           236            75          -1        -1                   NaN   \n",
       "\n",
       "    ehail_fee  extra  fare_amount  improvement_surcharge  \\\n",
       "0         NaN   0.00        68.50                    0.3   \n",
       "1         NaN   0.00       112.50                    0.3   \n",
       "2         NaN   0.00        32.00                    0.3   \n",
       "3         NaN   0.50        44.00                    0.3   \n",
       "4         NaN   0.00        50.00                    0.3   \n",
       "5         NaN   3.75        55.00                    0.3   \n",
       "6         NaN   0.00        52.00                    0.3   \n",
       "7         NaN   0.00        41.00                    0.3   \n",
       "8         NaN   0.00        52.00                    0.3   \n",
       "9         NaN   0.00        87.76                    0.3   \n",
       "10        NaN   0.00        80.00                    0.3   \n",
       "11        NaN   2.75        48.50                    0.3   \n",
       "12        NaN   0.00        46.66                    0.3   \n",
       "13        NaN   2.75        72.95                    0.3   \n",
       "14        NaN   5.50        41.04                    0.3   \n",
       "\n",
       "   lpep_dropoff_datetime  ... trip_distance  trip_type   ride_duration  \\\n",
       "0    2020-01-04 13:48:56  ...         20.13          1 0 days 01:25:33   \n",
       "1    2020-01-05 15:52:40  ...         18.51          1 0 days 02:52:36   \n",
       "2    2020-01-07 10:49:37  ...          6.64          1 0 days 00:47:10   \n",
       "3    2020-01-10 01:02:50  ...         14.27          1 0 days 00:41:21   \n",
       "4    2020-01-11 15:53:11  ...          2.90          1 0 days 01:30:22   \n",
       "5    2020-01-11 17:47:01  ...         13.60          1 0 days 01:10:40   \n",
       "6    2020-01-13 00:00:00  ...          1.79          1 0 days 10:31:13   \n",
       "7    2020-01-12 16:02:26  ...         13.68          1 0 days 00:34:43   \n",
       "8    2020-01-16 01:30:15  ...          0.38          1 0 days 00:00:30   \n",
       "9    2020-01-26 05:06:39  ...         30.45          1 0 days 03:05:02   \n",
       "10   2020-01-27 11:18:00  ...         16.80          1 0 days 01:59:33   \n",
       "11   2020-01-03 17:07:00  ...         17.05         -1 0 days 00:51:00   \n",
       "12   2020-01-03 17:07:00  ...         17.05         -1 0 days 00:51:00   \n",
       "13   2020-01-07 18:54:00  ...          7.53         -1 0 days 00:52:00   \n",
       "14   2020-01-13 18:08:00  ...         15.81         -1 0 days 01:11:00   \n",
       "\n",
       "    PUBorough  DOBorough                     PUZone  \\\n",
       "0      Queens     Queens               Forest Hills   \n",
       "1      Queens     Queens                    Astoria   \n",
       "2    Brooklyn   Brooklyn  Williamsburg (North Side)   \n",
       "3      Queens     Queens                    Astoria   \n",
       "4   Manhattan  Manhattan        Morningside Heights   \n",
       "5   Manhattan  Manhattan             Central Harlem   \n",
       "6   Manhattan  Manhattan          East Harlem North   \n",
       "7   Manhattan  Manhattan             Central Harlem   \n",
       "8   Manhattan  Manhattan          East Harlem South   \n",
       "9   Manhattan  Manhattan          East Harlem North   \n",
       "10     Queens     Queens                   Elmhurst   \n",
       "11  Manhattan  Manhattan          East Harlem South   \n",
       "12  Manhattan  Manhattan          East Harlem South   \n",
       "13   Brooklyn   Brooklyn           Brooklyn Heights   \n",
       "14  Manhattan  Manhattan          East Harlem South   \n",
       "\n",
       "                           DOZone  fare_mean   fare_std     fare_z  \n",
       "0               Kew Gardens Hills   9.347122  10.239756   5.262826  \n",
       "1                        Steinway   7.941014  13.072258   7.430150  \n",
       "2       Williamsburg (South Side)   5.729614   4.128608   5.122323  \n",
       "3   Long Island City/Queens Plaza   7.048724   5.829702   5.410379  \n",
       "4                  Manhattanville   5.656181   4.856363   7.571904  \n",
       "5             Morningside Heights   6.417887   5.278712   7.737592  \n",
       "6           Upper East Side North   9.758939   5.298839   6.706166  \n",
       "7               East Harlem North   6.694358   5.477669   5.295986  \n",
       "8               East Harlem North   6.395680   6.858080   5.803494  \n",
       "9             Morningside Heights   9.225326   6.543356  10.411106  \n",
       "10                         Corona   8.625193  12.764006   5.185613  \n",
       "11              East Harlem North   6.395680   6.858080   5.358093  \n",
       "12              East Harlem North   6.395680   6.858080   5.123939  \n",
       "13                Carroll Gardens   6.443925  11.402677   5.362236  \n",
       "14          Upper East Side North   6.357355   4.381649   6.444613  \n",
       "\n",
       "[15 rows x 28 columns]"
      ]
     },
     "execution_count": 47,
     "metadata": {},
     "output_type": "execute_result"
    }
   ],
   "source": [
    "exdf"
   ]
  },
  {
   "cell_type": "code",
   "execution_count": 48,
   "metadata": {
    "ExecuteTime": {
     "end_time": "2021-04-08T16:39:17.512973Z",
     "start_time": "2021-04-08T16:39:17.476035Z"
    }
   },
   "outputs": [
    {
     "data": {
      "text/plain": [
       "{'DOLocationID': 166,\n",
       " 'PULocationID': 74,\n",
       " 'RatecodeID': 5,\n",
       " 'VendorID': 2,\n",
       " 'congestion_surcharge': 2.75,\n",
       " 'ehail_fee': nan,\n",
       " 'extra': 0.0,\n",
       " 'fare_amount': 87.76,\n",
       " 'improvement_surcharge': 0.3,\n",
       " 'lpep_dropoff_datetime': Timestamp('2020-01-26 05:06:39'),\n",
       " 'lpep_pickup_datetime': Timestamp('2020-01-26 02:01:37'),\n",
       " 'mta_tax': 0.0,\n",
       " 'passenger_count': 2,\n",
       " 'payment_type': 2,\n",
       " 'store_and_fwd_flag': False,\n",
       " 'tip_amount': 0.0,\n",
       " 'tolls_amount': 6.12,\n",
       " 'total_amount': 96.93,\n",
       " 'trip_distance': 30.45,\n",
       " 'trip_type': 1,\n",
       " 'ride_duration': Timedelta('0 days 03:05:02'),\n",
       " 'PUBorough': 'Manhattan',\n",
       " 'DOBorough': 'Manhattan',\n",
       " 'PUZone': 'East Harlem North',\n",
       " 'DOZone': 'Morningside Heights',\n",
       " 'fare_mean': 9.225325794291892,\n",
       " 'fare_std': 6.543355857773392,\n",
       " 'fare_z': 10.411105572432794}"
      ]
     },
     "execution_count": 48,
     "metadata": {},
     "output_type": "execute_result"
    }
   ],
   "source": [
    "worst = data['fare_z'].argmax()\n",
    "{k:v[worst] for k, v in data.items()}"
   ]
  },
  {
   "cell_type": "markdown",
   "metadata": {},
   "source": [
    "## Disconnect from the server or shutdown the server"
   ]
  },
  {
   "cell_type": "code",
   "execution_count": 49,
   "metadata": {
    "ExecuteTime": {
     "end_time": "2021-04-08T16:39:17.518485Z",
     "start_time": "2021-04-08T16:39:17.515727Z"
    }
   },
   "outputs": [],
   "source": [
    "# disconnect or shutdown the server\n",
    "#ak.disconnect()\n",
    "#ak.shutdown()"
   ]
  },
  {
   "cell_type": "code",
   "execution_count": null,
   "metadata": {},
   "outputs": [],
   "source": []
  }
 ],
 "metadata": {
  "kernelspec": {
   "display_name": "Python 3",
   "language": "python",
   "name": "python3"
  },
  "language_info": {
   "codemirror_mode": {
    "name": "ipython",
    "version": 3
   },
   "file_extension": ".py",
   "mimetype": "text/x-python",
   "name": "python",
   "nbconvert_exporter": "python",
   "pygments_lexer": "ipython3",
   "version": "3.7.0"
  }
 },
 "nbformat": 4,
 "nbformat_minor": 4
}
