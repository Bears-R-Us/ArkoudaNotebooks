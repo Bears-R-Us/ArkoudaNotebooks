{
 "cells": [
  {
   "cell_type": "code",
   "execution_count": null,
   "id": "30ce30ae-b80f-4218-9498-9fdb275bb8ab",
   "metadata": {},
   "outputs": [],
   "source": [
    "# \n",
    "# This is a simple test to see if arkouda and pytorch can co-exist\n",
    "# This test was run on an Apple Macbook Pro M2 Max using Applie Silcon with '\n",
    "# 12 CPU cores and 38 GPU cores\n",
    "# Pytorch version used was 2.1.0.dev20230831\n",
    "#"
   ]
  },
  {
   "cell_type": "code",
   "execution_count": null,
   "id": "a715cc23-2ce4-425e-9ae5-565b07868dc0",
   "metadata": {},
   "outputs": [],
   "source": [
    "#\n",
    "# Import arkouda and numpy package\n",
    "#\n",
    "import arkouda as ak\n",
    "import pandas as pd\n",
    "import numpy as np"
   ]
  },
  {
   "cell_type": "code",
   "execution_count": null,
   "id": "f8c4f110-e1a5-48c0-9acc-34ece07385cf",
   "metadata": {},
   "outputs": [],
   "source": [
    "ak.connect()"
   ]
  },
  {
   "cell_type": "code",
   "execution_count": null,
   "id": "80be03b4-1809-4df2-837b-0b23c8663ffe",
   "metadata": {},
   "outputs": [],
   "source": [
    "#\n",
    "# Some basic code to interrogate the version of GPU support software that is running\n",
    "#\n",
    "# What version of Python do you have?\n",
    "import sys\n",
    "import platform\n",
    "import torch\n",
    "import pandas as pd\n",
    "import sklearn as sk\n",
    "\n",
    "has_gpu = torch.cuda.is_available()\n",
    "has_mps = getattr(torch,'has_mps',False)\n",
    "device = \"mps\" if getattr(torch,'has_mps',False) \\\n",
    "    else \"gpu\" if torch.cuda.is_available() else \"cpu\"\n",
    "\n",
    "print(f\"Python Platform: {platform.platform()}\")\n",
    "print(f\"PyTorch Version: {torch.__version__}\")\n",
    "print()\n",
    "print(f\"Python {sys.version}\")\n",
    "print(f\"Pandas {pd.__version__}\")\n",
    "print(f\"Scikit-Learn {sk.__version__}\")\n",
    "print(\"GPU is\", \"available\" if has_gpu else \"NOT AVAILABLE\")\n",
    "print(\"MPS (Apple Metal) is\", \"AVAILABLE\" if has_mps else \"NOT AVAILABLE\")\n",
    "print(f\"Target device is {device}\")"
   ]
  },
  {
   "cell_type": "code",
   "execution_count": null,
   "id": "da20f4e4-ec6d-41fd-a730-cde8ee38c0a2",
   "metadata": {},
   "outputs": [],
   "source": [
    "#\n",
    "# Use Pytorch to create a tensor array from numpy\n",
    "#\n",
    "ndarray = np.array([0, 1, 2])\n",
    "t = torch.from_numpy(ndarray)\n",
    "display(t)"
   ]
  },
  {
   "cell_type": "code",
   "execution_count": null,
   "id": "a60f5879-b904-49f1-8837-0c8a690298de",
   "metadata": {},
   "outputs": [],
   "source": [
    "#\n",
    "# Creation arkouda array from python list\n",
    "#\n",
    "a = [0, 1, 2, 3, 4]\n",
    "ak_array = ak.array(a)\n",
    "display(ak_array)"
   ]
  },
  {
   "cell_type": "code",
   "execution_count": null,
   "id": "a468646d-eeda-4f80-b916-8d966ee865a2",
   "metadata": {},
   "outputs": [],
   "source": [
    "#\n",
    "# Take the same arkouda array and create a tensor from it using GPUs\n",
    "#\n",
    "t = torch.from_numpy(ak_array.to_ndarray())\n",
    "display(t)"
   ]
  },
  {
   "cell_type": "code",
   "execution_count": null,
   "id": "85c4859a-90b9-40d5-ad8d-18321a8bf37c",
   "metadata": {},
   "outputs": [],
   "source": [
    "#ak.shutdown()\n",
    "ak.disconnect()"
   ]
  }
 ],
 "metadata": {
  "kernelspec": {
   "display_name": "Python 3.9 (pytorch)",
   "language": "python",
   "name": "pytorch"
  },
  "language_info": {
   "codemirror_mode": {
    "name": "ipython",
    "version": 3
   },
   "file_extension": ".py",
   "mimetype": "text/x-python",
   "name": "python",
   "nbconvert_exporter": "python",
   "pygments_lexer": "ipython3",
   "version": "3.10.12"
  }
 },
 "nbformat": 4,
 "nbformat_minor": 5
}
