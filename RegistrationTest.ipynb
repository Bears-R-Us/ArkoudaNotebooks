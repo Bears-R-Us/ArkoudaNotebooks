{
 "cells": [
  {
   "cell_type": "markdown",
   "metadata": {},
   "source": [
    "## Arkouda example of how to use the registration feature\n",
    "- random pdarrays and Strings are created\n",
    "- then they are registered\n",
    "- then everything else is cleared\n",
    "- server disconnect\n",
    "- server reconnect\n",
    "- reattach to pdarrays and Strings\n",
    "- then they are unregister\n",
    "-\n",
    "\n",
    "Arkouda functions used:\n",
    "- `ak.connect`\n",
    "- `ak.randint`\n",
    "- `ak.random_strings_uniform`\n",
    "- `ak.pdarray.register`\n",
    "- `ak.Strings.register`\n",
    "- `ak.pdarray.attach`\n",
    "- `ak.Strings.attach`\n",
    "- `ak.clear`\n",
    "- `ak.disconnect`\n",
    "- `ak.info`\n"
   ]
  },
  {
   "cell_type": "code",
   "execution_count": null,
   "metadata": {},
   "outputs": [],
   "source": [
    "import arkouda as ak"
   ]
  },
  {
   "cell_type": "code",
   "execution_count": null,
   "metadata": {},
   "outputs": [],
   "source": [
    "# connect to the arkopuda server using the connect_url which the server prints out\n",
    "ak.connect(connect_url=\"tcp://localhost:5555\")"
   ]
  },
  {
   "cell_type": "code",
   "execution_count": null,
   "metadata": {},
   "outputs": [],
   "source": [
    "a = ak.randint(0,10,100)\n",
    "b = ak.randint(0,10,100)\n",
    "s = ak.random_strings_uniform(2, 5, 100)\n",
    "r = ak.random_strings_uniform(2, 5, 100)"
   ]
  },
  {
   "cell_type": "code",
   "execution_count": null,
   "metadata": {},
   "outputs": [],
   "source": [
    "c = a.register('a')\n",
    "d = b.register('b')\n",
    "\n",
    "p = s.register('s')\n",
    "q = r.register('r')"
   ]
  },
  {
   "cell_type": "code",
   "execution_count": null,
   "metadata": {},
   "outputs": [],
   "source": [
    "print('before clear')\n",
    "print(ak.info(ak.AllSymbols))\n",
    "ak.clear()\n",
    "print('after clear')\n",
    "print(ak.info(ak.AllSymbols))\n"
   ]
  },
  {
   "cell_type": "code",
   "execution_count": null,
   "metadata": {},
   "outputs": [],
   "source": [
    "ak.disconnect()"
   ]
  },
  {
   "cell_type": "code",
   "execution_count": null,
   "metadata": {},
   "outputs": [],
   "source": [
    "# connect to the arkopuda server using the connect_url which the server prints out\n",
    "ak.connect(connect_url=\"tcp://localhost:5555\")"
   ]
  },
  {
   "cell_type": "code",
   "execution_count": null,
   "metadata": {},
   "outputs": [],
   "source": [
    "print('after reconnect to server')\n",
    "print(ak.info(ak.AllSymbols))\n"
   ]
  },
  {
   "cell_type": "code",
   "execution_count": null,
   "metadata": {},
   "outputs": [],
   "source": [
    "a = ak.pdarray.attach('a')\n",
    "b = ak.pdarray.attach('b')\n",
    "s = ak.Strings.attach('s')\n",
    "r = ak.Strings.attach('r')"
   ]
  },
  {
   "cell_type": "code",
   "execution_count": null,
   "metadata": {},
   "outputs": [],
   "source": [
    "\n",
    "print(a+b)\n"
   ]
  },
  {
   "cell_type": "code",
   "execution_count": null,
   "metadata": {},
   "outputs": [],
   "source": [
    "\n",
    "print(s.lstick(r, delimiter='.'))\n"
   ]
  },
  {
   "cell_type": "code",
   "execution_count": null,
   "metadata": {},
   "outputs": [],
   "source": []
  },
  {
   "cell_type": "code",
   "execution_count": null,
   "metadata": {},
   "outputs": [],
   "source": []
  }
 ],
 "metadata": {
  "kernelspec": {
   "display_name": "Python 3",
   "language": "python",
   "name": "python3"
  },
  "language_info": {
   "codemirror_mode": {
    "name": "ipython",
    "version": 3
   },
   "file_extension": ".py",
   "mimetype": "text/x-python",
   "name": "python",
   "nbconvert_exporter": "python",
   "pygments_lexer": "ipython3",
   "version": "3.7.6"
  }
 },
 "nbformat": 4,
 "nbformat_minor": 4
}
