{
 "cells": [
  {
   "cell_type": "markdown",
   "metadata": {},
   "source": [
    "# Demonstration of Arkouda DataFrame vs Pandas DataFrame\n",
    "\n",
    "### For the purposes of this NB, Arkouda will be refered to as ak and Pandas will be referred to ad pd\n",
    "\n",
    "Arkouda DataFrame should maintain the same functionality of pandas dataframes\n",
    "\n",
    "Functionality Currently Supported by Both \n",
    "- Drop\n",
    "- Index Reset\n",
    "- Renaming Columns\n",
    "- Head/Tail Functionality\n",
    "- Groupby\n",
    "- Sorting\n",
    "- Permutations\n",
    "\n",
    "Only supported by Arkouda\n",
    "- Filter by Range\n",
    "\n",
    "Pandas Features to add to Arkouda\n",
    "- Missing Groupby Functionality\n",
    "    - First\n",
    "    - Access Group By Name\n",
    "\n",
    "- Reset Index\n",
    "    - Track original indexes\n",
    "\n",
    "- Sorting\n",
    "    - Sort on Rows\n",
    "    - inplace argument - allowing for user to specify if action should update the calling object or return a new object"
   ]
  },
  {
   "cell_type": "markdown",
   "metadata": {},
   "source": [
    "## Import and connect to Arkouda"
   ]
  },
  {
   "cell_type": "code",
   "execution_count": null,
   "metadata": {},
   "outputs": [],
   "source": [
    "import arkouda as ak\n",
    "ak.connect(connect_url=\"tcp://localhost:5555\")"
   ]
  },
  {
   "cell_type": "markdown",
   "metadata": {},
   "source": [
    "## Import Other Requirements"
   ]
  },
  {
   "cell_type": "code",
   "execution_count": null,
   "metadata": {},
   "outputs": [],
   "source": [
    "import pandas as pd\n",
    "import numpy as np\n",
    "\n",
    "#needed to prevent outputs from overwritting eachother\n",
    "from IPython.display import display"
   ]
  },
  {
   "cell_type": "markdown",
   "metadata": {},
   "source": [
    "## Add Reset Functions.\n",
    "These are necessary instead of repeating the code numerous times.\n",
    "\n",
    "You will notice that the create section does not use these, as we are demonstrating the createion of a dataframe there."
   ]
  },
  {
   "cell_type": "code",
   "execution_count": null,
   "metadata": {},
   "outputs": [],
   "source": [
    "def reset_ak_df():\n",
    "    username = ak.array(['Alice', 'Bob', 'Alice', 'Carol', 'Bob', 'Alice'])\n",
    "    userid = ak.array([111, 222, 111, 333, 222, 111])\n",
    "    item = ak.array([0, 0, 1, 1, 2, 0])\n",
    "    day = ak.array([5, 5, 6, 5, 6, 6])\n",
    "    amount = ak.array([0.5, 0.6, 1.1, 1.2, 4.3, 0.6])\n",
    "    df = ak.DataFrame({'userName': username, 'userID': userid,\n",
    "                    'item': item, 'day': day, 'amount': amount})\n",
    "    return df\n",
    "\n",
    "def reset_pd_df():\n",
    "    username_pd = ['Alice', 'Bob', 'Alice', 'Carol', 'Bob', 'Alice']\n",
    "    userid_pd = [111, 222, 111, 333, 222, 111]\n",
    "    item_pd = [0, 0, 1, 1, 2, 0]\n",
    "    day_pd = [5, 5, 6, 5, 6, 6]\n",
    "    amount_pd = [0.5, 0.6, 1.1, 1.2, 4.3, 0.6]\n",
    "    pd_df = pd.DataFrame({'userName': username_pd, 'userID': userid_pd,\n",
    "                    'item': item_pd, 'day': day_pd, 'amount': amount_pd})\n",
    "    return pd_df"
   ]
  },
  {
   "cell_type": "markdown",
   "metadata": {},
   "source": [
    "## DataFrame Creation\n",
    "`ak.DataFrame` and `pd.DataFrame` creation is very similar, but there are a few differences to note.\n",
    "\n",
    "### Key Differences \n",
    "- The main difference to take note of is that `ak` uses `ak.pdarray` for defining column data, while `pd` uses `lists`.\n",
    "- When displaying a `DataFrame`, `ak` displays the shape of the object, `pd` does not. The shape can be easily accessed for `pd.DataFrame` using `pd.shape`."
   ]
  },
  {
   "cell_type": "code",
   "execution_count": null,
   "metadata": {},
   "outputs": [],
   "source": [
    "#Arkouda DataFrame\n",
    "username = ak.array(['Alice', 'Bob', 'Alice', 'Carol', 'Bob', 'Alice'])\n",
    "userid = ak.array([111, 222, 111, 333, 222, 111])\n",
    "item = ak.array([0, 0, 1, 1, 2, 0])\n",
    "day = ak.array([5, 5, 6, 5, 6, 6])\n",
    "amount = ak.array([0.5, 0.6, 1.1, 1.2, 4.3, 0.6])\n",
    "df = ak.DataFrame({'userName': username, 'userID': userid,\n",
    "                   'item': item, 'day': day, 'amount': amount})\n",
    "\n",
    "#Pandas DataFrame\n",
    "username_pd = ['Alice', 'Bob', 'Alice', 'Carol', 'Bob', 'Alice']\n",
    "userid_pd = [111, 222, 111, 333, 222, 111]\n",
    "item_pd = [0, 0, 1, 1, 2, 0]\n",
    "day_pd = [5, 5, 6, 5, 6, 6]\n",
    "amount_pd = [0.5, 0.6, 1.1, 1.2, 4.3, 0.6]\n",
    "pd_df = pd.DataFrame({'userName': username_pd, 'userID': userid_pd,\n",
    "                   'item': item_pd, 'day': day_pd, 'amount': amount_pd})\n",
    "\n",
    "display(df)\n",
    "display(pd_df)"
   ]
  },
  {
   "cell_type": "markdown",
   "metadata": {},
   "source": [
    "## Drop Columns\n",
    "`ak` and `pd` function the same in regards to dropping columns, the output is essentially identical (with the excpetion of the differences noted in the `Creation` section). `pd` has some functionality that is not currently supported in `ak`. The `index` column cannot be dropped.\n",
    "\n",
    "### Pandas Only Functionality\n",
    "- Drop both rows and columns. For both the `axis` paramter indicates which axis to perform the drop on. `0` (Default) drops specified rows. `1` drops specified columns.\n",
    "- Both allow for the `drop` to be performed on the calling object or return a new object. This is done with the boolean parameter `inplace`."
   ]
  },
  {
   "cell_type": "code",
   "execution_count": null,
   "metadata": {},
   "outputs": [],
   "source": [
    "#Drop entire column - arkouda\n",
    "df.drop('userName', axis=1, inplace=True)\n",
    "display(df)\n",
    "\n",
    "#drop entire column - pandas\n",
    "pd_df.drop('userName', axis=1, inplace=True)\n",
    "display(pd_df)"
   ]
  },
  {
   "cell_type": "markdown",
   "metadata": {},
   "source": [
    "## De-duplication\n",
    "De-duplication removes any duplicate rows within the dataset. Both modules return new objects when dropping duplicates."
   ]
  },
  {
   "cell_type": "code",
   "execution_count": null,
   "metadata": {},
   "outputs": [],
   "source": [
    "#create dataframe with duplicate rows - Arkouda\n",
    "username = ak.array(['Alice', 'Bob', 'Alice', 'Carol', 'Bob', 'Alice'])\n",
    "userid = ak.array([111, 222, 111, 333, 222, 111])\n",
    "item = ak.array([0, 1, 0, 2, 1, 0])\n",
    "day = ak.array([5, 5, 5, 5, 5, 5])\n",
    "df = ak.DataFrame({'userName': username, 'userID': userid,\n",
    "                    'item': item, 'day': day})\n",
    "\n",
    "#deduplicate the dataset - Arkouda\n",
    "dedup = df.drop_duplicates()\n",
    "display(dedup)\n",
    "\n",
    "#create DataFrame with duplicate rows - pandas\n",
    "username_pd = ['Alice', 'Bob', 'Alice', 'Carol', 'Bob', 'Alice']\n",
    "userid_pd = [111, 222, 111, 333, 222, 111]\n",
    "item_pd = [0, 1, 0, 2, 1, 0]\n",
    "day_pd = [5, 5, 5, 5, 5, 5]\n",
    "pd_df = pd.DataFrame({'userName': username_pd, 'userID': userid_pd,\n",
    "                    'item': item_pd, 'day': day_pd})\n",
    "\n",
    "#deduplicate the dataset - Pandas\n",
    "dedup_pd = pd_df.drop_duplicates()\n",
    "display(dedup_pd)"
   ]
  },
  {
   "cell_type": "markdown",
   "metadata": {},
   "source": [
    "## Reset Index\n",
    "This functionality rebases the indexes at 0. This ensures that the first row has index 0 and the nth row has index `n-1`. `ak` will automatically perform this action in certain situations."
   ]
  },
  {
   "cell_type": "code",
   "execution_count": null,
   "metadata": {},
   "outputs": [],
   "source": [
    "df = reset_ak_df()\n",
    "#taking a slice with keep indexes as they are \n",
    "slice_df = df[ak.array([1, 3, 5])]\n",
    "\n",
    "#resetting the index will rebase at 0 - Arkouda\n",
    "ak_re_idx = slice_df.reset_index(inplace=False)\n",
    "display(ak_re_idx)\n",
    "\n",
    "#for pandas we reuse the dedup result from pandas in the previous step\n",
    "re_idx = dedup_pd.reset_index(inplace=False)\n",
    "display(re_idx)"
   ]
  },
  {
   "cell_type": "markdown",
   "metadata": {},
   "source": [
    "## Column Renaming"
   ]
  },
  {
   "cell_type": "code",
   "execution_count": null,
   "metadata": {},
   "outputs": [],
   "source": [
    "#rename userName to user_name and userID to user_id - Arkouda\n",
    "renamed_ak = df.rename({'userName':'user_name', 'userID': 'user_id'}, axis=1, inplace=False)\n",
    "display(renamed_ak)\n",
    "\n",
    "#reset back to original pandas dataframe\n",
    "pd_df = reset_pd_df()\n",
    "\n",
    "#rename columns - Pandas\n",
    "renamed_pd = pd_df.rename(columns={'userName':'user_name', 'userID':'user_id'}, inplace=False)\n",
    "display(renamed_pd)"
   ]
  },
  {
   "cell_type": "markdown",
   "metadata": {},
   "source": [
    "## Head/Tail of Dataset\n",
    "Note: `ak.DataFrame.tail()` will perform a `reset_index()` automatically. "
   ]
  },
  {
   "cell_type": "code",
   "execution_count": null,
   "metadata": {},
   "outputs": [],
   "source": [
    "#compute head - arkouda\n",
    "df_head = renamed_ak.head(3)\n",
    "display(df_head)\n",
    "\n",
    "#compute head - pandas\n",
    "pd_head = renamed_pd.head(3)\n",
    "display(pd_head)\n",
    "\n",
    "#tail - Arkouda\n",
    "df_tail = renamed_ak.tail(2)\n",
    "display(df_tail)\n",
    "\n",
    "#tail - pandas\n",
    "pd_tail = renamed_pd.tail(2)\n",
    "display(pd_tail)"
   ]
  },
  {
   "cell_type": "markdown",
   "metadata": {},
   "source": [
    "## GroupBy\n",
    "`GroupBy` is the first instance where `ak` and `pd` outputs differ substaintailly. The sections below go through notes on things to be aware of with each module.\n",
    "\n",
    "### Arkouda\n",
    "- Stores groupings as 2 lists. The first is the value from the column grouped on; this is the key. The second is the number of records with the associated key. These two lists are configured so that the indexes in each array correspond, ie keys[i] is the key with x number of records, where x is the value in count[i].\n",
    "    - When grouping on multiple columns, the keys list will return a list of ak.pdarray. Each of these arrays contain the keys for the columns specified in the groupby call. Think of this as a tuple for your key - [array1, array2, ..., arrayN], the key at index 0 is equivalent to (array1[0], array2[0[, ..., arrayN[0])\n",
    "    - In the example below we are displaying `gb.count()`, which allows us to access the structure described here.\n",
    "- Currently, there is no visual representation equivalent to that of the pandas module.\n",
    "\n",
    "### Pandas\n",
    "- Data is able to be viewed in a format that represents a DataFrame.\n",
    "- More robust access options: first(), last(), get_group()\n",
    "- Options to keep a specific occurence of the record.\n"
   ]
  },
  {
   "cell_type": "code",
   "execution_count": null,
   "metadata": {},
   "outputs": [],
   "source": [
    "#Single Column Group By - Arkouda\n",
    "gb = renamed_ak.GroupBy('user_name')\n",
    "display(gb.count())\n",
    "\n",
    "#Single Column Group By - Pandas \n",
    "pd_gb = renamed_pd.groupby('user_name')\n",
    "display(pd_gb.first())\n",
    "\n",
    "#Multiple Column Grouping - Arkouda\n",
    "gb = renamed_ak.GroupBy(['user_name', 'day'])\n",
    "display(gb.count())\n",
    "\n",
    "#Multiple Column Grouping - Pandas\n",
    "pd_gb = renamed_pd.groupby(['user_name', 'day'])\n",
    "display(pd_gb.first())"
   ]
  },
  {
   "cell_type": "markdown",
   "metadata": {},
   "source": [
    "## Arkouda Arg/Coarg Sorting\n",
    "Returns the permutation of indices that would sort the dataframe.\n",
    "\n",
    "`Coargsort only guaranteed grouping for string values, not lexicographical sorting.`"
   ]
  },
  {
   "cell_type": "code",
   "execution_count": null,
   "metadata": {},
   "outputs": [],
   "source": [
    "#arg/coarg sorting in Arkouda\n",
    "arg_s = renamed_ak.argsort(key='user_name')\n",
    "display(arg_s)\n",
    "\n",
    "coarg_s = renamed_ak.coargsort(keys=['user_id', 'amount'])\n",
    "display(coarg_s)"
   ]
  },
  {
   "cell_type": "markdown",
   "metadata": {},
   "source": [
    "## Sorting\n",
    "This functionality automatically selects to use argsort or coargsort.\n",
    "\n",
    "Single column sorting performed on the user_id column.\n",
    "Multiple column sorting is performed on the user_id and amount columns.\n",
    "\n",
    "### Arkouda Notes\n",
    "- This function relies on argsort and coargsort. However, it goes one step further in applying the permutation to the DataFrame allowing for visualization similar to pandas.\n",
    "\n",
    "### Pandas Notes\n",
    "- Sorting can be done on both the rows and columns. Use the axis parameter to specify."
   ]
  },
  {
   "cell_type": "code",
   "execution_count": null,
   "metadata": {},
   "outputs": [],
   "source": [
    "#Sort values - arkouda\n",
    "s = renamed_ak.sort_values(by='user_id')\n",
    "display(s)\n",
    "s_mult = renamed_ak.sort_values(by=['user_id', 'amount'])\n",
    "display(s_mult)\n",
    "\n",
    "#sort values pandas\n",
    "s_pd = renamed_pd.sort_values(by=['user_id'])\n",
    "display(s_pd)\n",
    "s_pd_mult = renamed_pd.sort_values(by=['user_id', 'amount'])\n",
    "display(s_pd_mult)"
   ]
  },
  {
   "cell_type": "markdown",
   "metadata": {},
   "source": [
    "## Permutations\n",
    "Permutations are essentially ordering the data based on the order of the indexes you supply. `pd` refers to this as reindexing. \n",
    "\n",
    "### Pandas Only Functionality\n",
    "- Allow for the `drop` to be performed on the calling object or return a new object. This is done with the boolean parameter `inplace`"
   ]
  },
  {
   "cell_type": "code",
   "execution_count": null,
   "metadata": {},
   "outputs": [],
   "source": [
    "#apply permutaion - Arkouda\n",
    "renamed_ak.apply_permutation(ak.array([1, 0, 2, 3, 4, 5]))\n",
    "display(renamed_ak)\n",
    "\n",
    "#apply permutation - Pandas\n",
    "perm = renamed_pd.reindex([1, 0, 2, 3, 4, 5])\n",
    "display(perm)"
   ]
  },
  {
   "cell_type": "markdown",
   "metadata": {},
   "source": [
    "## Filter By Range\n",
    "This is only available in `ak`. `ak.DataFrame.filter_by_range()` runs `ak.DataFrame.GroupBy()` on the columns specified and return True/False if the corresponding count falls in the range specified. Returns a list of booleans indicating the status of the key at each index.\n",
    "\n",
    "The example show the groupby results for better understanding."
   ]
  },
  {
   "cell_type": "code",
   "execution_count": null,
   "metadata": {},
   "outputs": [],
   "source": [
    "gb = renamed_ak.GroupBy('user_id')\n",
    "display(gb.count())\n",
    "\n",
    "filter = renamed_ak.filter_by_range(keys=['user_id'], low=1, high=2)\n",
    "display(filter)"
   ]
  }
 ],
 "metadata": {
  "interpreter": {
   "hash": "c9843ec7bf92a92e5648c61892a56b72546cb6f7f783cc4fa72865bc7befe91a"
  },
  "kernelspec": {
   "display_name": "Python 3 (ipykernel)",
   "language": "python",
   "name": "python3"
  },
  "language_info": {
   "codemirror_mode": {
    "name": "ipython",
    "version": 3
   },
   "file_extension": ".py",
   "mimetype": "text/x-python",
   "name": "python",
   "nbconvert_exporter": "python",
   "pygments_lexer": "ipython3",
   "version": "3.10.12"
  }
 },
 "nbformat": 4,
 "nbformat_minor": 4
}
