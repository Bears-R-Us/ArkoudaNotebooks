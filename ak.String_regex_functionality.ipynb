{
 "cells": [
  {
   "cell_type": "markdown",
   "id": "e353decd",
   "metadata": {},
   "source": [
    "# ak.Strings regex functionality\n",
    "Demonstration of regex functionality in Strings"
   ]
  },
  {
   "cell_type": "markdown",
   "id": "720bf25e",
   "metadata": {},
   "source": [
    "Set the `CHPL_RE2` flag and remake chapel\n",
    "```\n",
    "export CHPL_RE2=bundled\n",
    "```\n",
    "This is for chapel v1.25.0, for v1.24 set the `CHPL_REGEX` flag (`export CHPL_REGEXP=re2`)"
   ]
  },
  {
   "cell_type": "markdown",
   "id": "da5e2fcd",
   "metadata": {},
   "source": [
    "The regex functionality uses Chapel's `regex` module which is built on google's `re2`. re2 sacrifices some features like lookahead/lookbehind in exchange for guarantees that searches complete in linear time with respect to the size of the input and in a fixed amount of stack space"
   ]
  },
  {
   "cell_type": "code",
   "execution_count": null,
   "id": "686a69ae",
   "metadata": {},
   "outputs": [],
   "source": [
    "import arkouda as ak\n",
    "ak.connect()"
   ]
  },
  {
   "cell_type": "markdown",
   "id": "59c3a2b2",
   "metadata": {},
   "source": [
    "## substring search\n",
    "Returns a boolean array indicating whether each element `contains`, `startswith`, or `endswith` the regex pattern.\n",
    "\n",
    "`match` returns a boolean array indicating whether the entire element matches the regex pattern"
   ]
  },
  {
   "cell_type": "code",
   "execution_count": null,
   "id": "139810b3",
   "metadata": {},
   "outputs": [],
   "source": [
    "strings = ak.array(['{} string {}'.format(i, i) for i in range(1, 6)])"
   ]
  },
  {
   "cell_type": "code",
   "execution_count": null,
   "id": "23ebb74e",
   "metadata": {},
   "outputs": [],
   "source": [
    "strings"
   ]
  },
  {
   "cell_type": "code",
   "execution_count": null,
   "id": "d6151507",
   "metadata": {},
   "outputs": [],
   "source": [
    "strings.contains('string \\\\d', regex=True)"
   ]
  },
  {
   "cell_type": "code",
   "execution_count": null,
   "id": "9d886a87",
   "metadata": {},
   "outputs": [],
   "source": [
    "strings.startswith('\\\\d str', regex = True)"
   ]
  },
  {
   "cell_type": "code",
   "execution_count": null,
   "id": "528f73f5",
   "metadata": {},
   "outputs": [],
   "source": [
    "strings.endswith('ing \\\\d', regex = True)"
   ]
  },
  {
   "cell_type": "code",
   "execution_count": null,
   "id": "68783bc8",
   "metadata": {},
   "outputs": [],
   "source": [
    "strings.match('\\\\d string \\\\d')"
   ]
  },
  {
   "cell_type": "code",
   "execution_count": null,
   "id": "1495e406",
   "metadata": {},
   "outputs": [],
   "source": [
    "strings.match('ing \\\\d')"
   ]
  },
  {
   "cell_type": "markdown",
   "id": "c472de88",
   "metadata": {},
   "source": [
    "## peel\n",
    "Peel off one or more delimited fields from each string (similar to string.partition), returning two new arrays of strings"
   ]
  },
  {
   "cell_type": "code",
   "execution_count": null,
   "id": "ac6de3a1",
   "metadata": {},
   "outputs": [],
   "source": [
    "under = ak.array(['a_b', 'c___d', 'e__f____g'])"
   ]
  },
  {
   "cell_type": "code",
   "execution_count": null,
   "id": "b691b21e",
   "metadata": {},
   "outputs": [],
   "source": [
    "under"
   ]
  },
  {
   "cell_type": "code",
   "execution_count": null,
   "id": "700fcce9",
   "metadata": {},
   "outputs": [],
   "source": [
    "under.peel('_+', regex=True)"
   ]
  },
  {
   "cell_type": "code",
   "execution_count": null,
   "id": "66193303",
   "metadata": {},
   "outputs": [],
   "source": [
    "under.peel('_+', includeDelimiter=True, regex=True)"
   ]
  },
  {
   "cell_type": "markdown",
   "id": "189d77a4",
   "metadata": {},
   "source": [
    "## flatten\n",
    "Given an array of strings where each string encodes a variable-length sequence delimited by a common substring, flattening offers a method for unpacking the sequences into a flat array of individual elements"
   ]
  },
  {
   "cell_type": "markdown",
   "id": "8f6f8adc",
   "metadata": {},
   "source": [
    "regex flatten functionality"
   ]
  },
  {
   "cell_type": "code",
   "execution_count": null,
   "id": "0ed3a00e",
   "metadata": {},
   "outputs": [],
   "source": [
    "under = ak.array(['one_two', 'three_____four____five', 'six'])"
   ]
  },
  {
   "cell_type": "code",
   "execution_count": null,
   "id": "d8ef4b0d",
   "metadata": {},
   "outputs": [],
   "source": [
    "under.flatten('_+', return_segments=True, regex=True)"
   ]
  },
  {
   "cell_type": "markdown",
   "id": "1e91e00d",
   "metadata": {},
   "source": [
    "compared to existing flatten"
   ]
  },
  {
   "cell_type": "code",
   "execution_count": null,
   "id": "d4cdc53a",
   "metadata": {},
   "outputs": [],
   "source": [
    "orig = ak.array(['one|two', 'three|four|five', 'six'])"
   ]
  },
  {
   "cell_type": "code",
   "execution_count": null,
   "id": "058570da",
   "metadata": {},
   "outputs": [],
   "source": [
    "orig.flatten('|', return_segments=True)"
   ]
  },
  {
   "cell_type": "markdown",
   "id": "10718171",
   "metadata": {},
   "source": [
    "## findall and find_locations\n",
    "find_locations(pattern)\n",
    "\n",
    "    Finds pattern matches and returns pdarrays containing the number, start postitions, and lengths of matches\n",
    "    Results of find_locations are cached in regex_dict\n",
    "\n",
    "findall(pattern, return_match_origins)\n",
    "\n",
    "    Return all non-overlapping matches of pattern in Strings as a new Strings object.\n",
    "    If return_match_origins is True, return a pdarray containing the index of the original string each pattern match is from\n",
    "    Uses the output of find_locations"
   ]
  },
  {
   "cell_type": "code",
   "execution_count": null,
   "id": "1f316c59",
   "metadata": {},
   "outputs": [],
   "source": [
    "under = ak.array(['one_two', 'three_____four____five', 'six'])"
   ]
  },
  {
   "cell_type": "code",
   "execution_count": null,
   "id": "38cd6318",
   "metadata": {},
   "outputs": [],
   "source": [
    "under.find_locations('_+')"
   ]
  },
  {
   "cell_type": "code",
   "execution_count": null,
   "id": "ec7f47f3",
   "metadata": {},
   "outputs": [],
   "source": [
    "under.cached_regex_patterns()"
   ]
  },
  {
   "cell_type": "code",
   "execution_count": null,
   "id": "3bff2209",
   "metadata": {},
   "outputs": [],
   "source": [
    "under.findall('_+', return_match_origins=True)"
   ]
  },
  {
   "cell_type": "markdown",
   "id": "6294dd0e",
   "metadata": {},
   "source": [
    "## shutdown"
   ]
  },
  {
   "cell_type": "code",
   "execution_count": null,
   "id": "eafc275f",
   "metadata": {},
   "outputs": [],
   "source": [
    "ak.shutdown()"
   ]
  }
 ],
 "metadata": {
  "kernelspec": {
   "display_name": "Python 3",
   "language": "python",
   "name": "python3"
  },
  "language_info": {
   "codemirror_mode": {
    "name": "ipython",
    "version": 3
   },
   "file_extension": ".py",
   "mimetype": "text/x-python",
   "name": "python",
   "nbconvert_exporter": "python",
   "pygments_lexer": "ipython3",
   "version": "3.7.9"
  }
 },
 "nbformat": 4,
 "nbformat_minor": 5
}
