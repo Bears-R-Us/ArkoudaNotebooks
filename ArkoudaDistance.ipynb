{
 "cells": [
  {
   "cell_type": "markdown",
   "metadata": {},
   "source": [
    "## Arkouda example of cosine distance and euclidean distance\n",
    "- Two random arkouda int64 pdarrays are created then the distance is measured between them...\n",
    "- The cosine and euclidean distance functions are compared against the scipy variants for correctness\n",
    "\n",
    "Arkouda functions used:\n",
    "- `ak.connect`\n",
    "- `ak.randint`\n",
    "- `ak.sum`\n",
    "- `ak.pdarray.__mul__`\n",
    "- `ak.pdarray.to_ndarray`\n",
    "- `ak.disconnect`\n",
    "- `ak.shutdown`"
   ]
  },
  {
   "cell_type": "code",
   "execution_count": null,
   "metadata": {},
   "outputs": [],
   "source": [
    "import arkouda as ak"
   ]
  },
  {
   "cell_type": "code",
   "execution_count": null,
   "metadata": {},
   "outputs": [],
   "source": [
    "import math\n",
    "from scipy.spatial import distance\n",
    "import numpy as np"
   ]
  },
  {
   "cell_type": "markdown",
   "metadata": {},
   "source": [
    "### Connect to the Arkouda server"
   ]
  },
  {
   "cell_type": "code",
   "execution_count": null,
   "metadata": {},
   "outputs": [],
   "source": [
    "# connect to the arkopuda server using the connect_url which the server prints out\n",
    "ak.connect(connect_url=\"tcp://localhost:5555\")"
   ]
  },
  {
   "cell_type": "markdown",
   "metadata": {},
   "source": [
    "### Create two pdarrays and fill with random integers"
   ]
  },
  {
   "cell_type": "code",
   "execution_count": null,
   "metadata": {},
   "outputs": [],
   "source": [
    "# create two in64 pdarrays and add them\n",
    "a = ak.randint(0,10,100)\n",
    "b = ak.randint(0,10,100)\n",
    "\n",
    "print(a+b)"
   ]
  },
  {
   "cell_type": "markdown",
   "metadata": {},
   "source": [
    "### Check for pdarray"
   ]
  },
  {
   "cell_type": "code",
   "execution_count": null,
   "metadata": {},
   "outputs": [],
   "source": [
    "def ak_check_pda(u):\n",
    "    if not isinstance(u, ak.pdarray):\n",
    "        raise TypeError(\"argument must be a pdarray\")"
   ]
  },
  {
   "cell_type": "markdown",
   "metadata": {},
   "source": [
    "### Dot Product of two Arkouda pdarrays\n",
    "$u \\cdot v = \\sum_i{u_i v_i}$"
   ]
  },
  {
   "cell_type": "code",
   "execution_count": null,
   "metadata": {},
   "outputs": [],
   "source": [
    "# define the dot product or two arkouda pdarrays\n",
    "def ak_dot(u, v):\n",
    "    ak_check_pda(u)\n",
    "    ak_check_pda(v)\n",
    "    return ak.sum(u*v)"
   ]
  },
  {
   "cell_type": "markdown",
   "metadata": {},
   "source": [
    "### Magnatude ($L_2$ norm) of an Arkouda pdarray\n",
    "$\\|u\\|_2 = \\sqrt{\\sum_i{u_i^2}}$"
   ]
  },
  {
   "cell_type": "code",
   "execution_count": null,
   "metadata": {},
   "outputs": [],
   "source": [
    "# define the magnitude/L_2-norm of arkouda pdarray\n",
    "def ak_mag2(u):\n",
    "    ak_check_pda(u)\n",
    "    return math.sqrt(ak_dot(u,u))"
   ]
  },
  {
   "cell_type": "markdown",
   "metadata": {},
   "source": [
    "### Cosine Distance of two Arkouda pdarrays\n",
    "$D_C = 1 - \\cos(\\theta) = 1 - \\frac{u \\cdot v}{\\|u\\|_2\\|v\\|_2} = 1 - \\frac{\\sum_i{u_i v_i}}{\\sqrt{\\sum_i{u_i^2}}\\sqrt{\\sum_i{v_i^2}}}$"
   ]
  },
  {
   "cell_type": "code",
   "execution_count": null,
   "metadata": {},
   "outputs": [],
   "source": [
    "# define the cosine distance of two arkouda pdarrays\n",
    "# should function similarly to scipy.spatial.distance.cosine\n",
    "def ak_cos_dist(u, v):\n",
    "    ak_check_pda(u)\n",
    "    ak_check_pda(v)\n",
    "    return (1.0 - ak_dot(u,v)/(ak_mag2(u)*ak_mag2(v)))"
   ]
  },
  {
   "cell_type": "markdown",
   "metadata": {},
   "source": [
    "### Euclidean Distance of two Arkouda pdarrays\n",
    "$D_E = \\|u-v\\|_2$"
   ]
  },
  {
   "cell_type": "code",
   "execution_count": null,
   "metadata": {},
   "outputs": [],
   "source": [
    "# define the euclidean distance of two arkouda pdarrays\n",
    "# should function similarly to scipy.spatial.distance.euclidean\n",
    "def ak_euc_dist(u, v):\n",
    "    ak_check_pda(u)\n",
    "    ak_check_pda(v)\n",
    "    return (ak_mag2(u-v))"
   ]
  },
  {
   "cell_type": "markdown",
   "metadata": {},
   "source": [
    "### Measure cosine distance and check against scipy"
   ]
  },
  {
   "cell_type": "code",
   "execution_count": null,
   "metadata": {},
   "outputs": [],
   "source": [
    "# check the arkouda version against the scipy version\n",
    "d1 = ak_cos_dist(a,b)\n",
    "d2 = distance.cosine(a.to_ndarray(), b.to_ndarray())\n",
    "print(d1,d2)\n",
    "print(np.allclose(d1,d2))"
   ]
  },
  {
   "cell_type": "markdown",
   "metadata": {},
   "source": [
    "### Measure euclidean distance and check against scipy"
   ]
  },
  {
   "cell_type": "code",
   "execution_count": null,
   "metadata": {},
   "outputs": [],
   "source": [
    "# check the arkouda version against the scipy version\n",
    "d1 = ak_euc_dist(a,b)\n",
    "d2 = distance.euclidean(a.to_ndarray(), b.to_ndarray())\n",
    "print(d1,d2)\n",
    "print(np.allclose(d1,d2))"
   ]
  },
  {
   "cell_type": "markdown",
   "metadata": {},
   "source": [
    "### Disconnect from Arkouda server or Shutdown Arkouda server"
   ]
  },
  {
   "cell_type": "code",
   "execution_count": null,
   "metadata": {},
   "outputs": [],
   "source": [
    "# disconnect from the the arkouda server\n",
    "ak.disconnect()\n",
    "# shutdown the arkouda server\n",
    "#ak.shutdown()"
   ]
  },
  {
   "cell_type": "code",
   "execution_count": null,
   "metadata": {},
   "outputs": [],
   "source": []
  }
 ],
 "metadata": {
  "kernelspec": {
   "display_name": "Python 3",
   "language": "python",
   "name": "python3"
  },
  "language_info": {
   "codemirror_mode": {
    "name": "ipython",
    "version": 3
   },
   "file_extension": ".py",
   "mimetype": "text/x-python",
   "name": "python",
   "nbconvert_exporter": "python",
   "pygments_lexer": "ipython3",
   "version": "3.8.6"
  }
 },
 "nbformat": 4,
 "nbformat_minor": 4
}
