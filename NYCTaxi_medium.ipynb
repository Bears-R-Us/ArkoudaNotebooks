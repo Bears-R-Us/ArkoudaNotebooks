{
 "cells": [
  {
   "cell_type": "markdown",
   "metadata": {},
   "source": [
    "# Exploring the New York City Taxi Data with Arkouda + Pandas/NumPy\n",
    "\n",
    "This notebook shows some examples of how to interoperate between Pandas and Arkouda at a small scale on a few-GB workstation. This same notebook would run with a multi-node Arkouda instance on an HPC with TB of data.\n",
    "\n",
    "Arkouda is not trying to replace Pandas but to allow for some Pandas-style operation at a much larger scale. In our experience Pandas can handle dataframes up to about **500 million rows** on a sufficently capable compute server before performance becomes a real issue. Arkouda breaks the shared memory paradigm and scales its operations to distributed dataframes with **hundreds of billions of rows**, maybe even a trillion. In practice we have run Arkouda server operations on columns of one trillion elements running on 512 compute nodes. This yielded a **>20TB dataframe** in Arkouda.\n",
    "\n",
    "**Outline**\n",
    "- Data Preparation\n",
    "  - Get Data\n",
    "  - Convert Data\n",
    "  - Load Data\n",
    "- Data Exploration\n",
    "  - Summarization\n",
    "  - Histograms\n",
    "  - Logical Indexing/Filtering\n",
    "  - Time Data\n",
    "  - Lookup Tables\n",
    "  - GroupBy-Aggregate\n",
    "  - Broadcast\n",
    "  - Integrate with Pandas\n",
    "\n",
    "# Data Preparation\n",
    "\n",
    "## Download New York City Taxi Data\n",
    "----------------------------------\n",
    "[Yellow Trips Data Dictionary](https://www1.nyc.gov/assets/tlc/downloads/pdf/data_dictionary_trip_records_yellow.pdf)\n",
    "\n",
    "[NYC Yellow Taxi Trip Records Jan 2020](https://s3.amazonaws.com/nyc-tlc/trip+data/yellow_tripdata_2020-01.csv)\n",
    "\n",
    "[Green Trips Data Dictionary](https://www1.nyc.gov/assets/tlc/downloads/pdf/data_dictionary_trip_records_green.pdf)\n",
    "\n",
    "[NYC Green  Taxi Trip Records Jan 2020](https://s3.amazonaws.com/nyc-tlc/trip+data/green_tripdata_2020-01.csv)\n",
    "\n",
    "[NYC Taxi Zone Lookup Table](https://s3.amazonaws.com/nyc-tlc/misc/taxi+_zone_lookup.csv)\n",
    "\n",
    "[NYC Taxi Zone Shapefile](https://s3.amazonaws.com/nyc-tlc/misc/taxi_zones.zip)"
   ]
  },
  {
   "cell_type": "markdown",
   "metadata": {},
   "source": [
    "## Convert and Load Data\n",
    "\n",
    "2 methods:\n",
    "* Load in python (e.g. with pandas) and transfer to arkouda\n",
    "  * Good for prototyping with small data\n",
    "* Convert to HDF5 (in separate process) and read directly with arkouda\n",
    "  * Best for large datasets\n",
    "  \n",
    "#### Dtypes Supported in HDF5\n",
    "Arkouda can only read these HDF5 dtypes\n",
    "* int (any width) -> int64\n",
    "* float (any width) -> float64\n",
    "* custom string format -> ak.Strings\n",
    "\n",
    "#### Additional Dtypes in Arkouda\n",
    "Can cast/convert to these after loading raw data\n",
    "* bool\n",
    "* Datetime (from int64)\n",
    "* Timedelta (from int64)\n",
    "\n",
    "#### Prefer Integers!\n",
    "They are fast and versatile (usable with GroupBy, Datetime, Timedelta, bit ops, etc.)"
   ]
  },
  {
   "cell_type": "markdown",
   "metadata": {},
   "source": [
    "### Describe Data Format"
   ]
  },
  {
   "cell_type": "code",
   "execution_count": 1,
   "metadata": {
    "ExecuteTime": {
     "end_time": "2021-04-08T16:43:34.073044Z",
     "start_time": "2021-04-08T16:43:33.954849Z"
    }
   },
   "outputs": [
    {
     "name": "stdout",
     "output_type": "stream",
     "text": [
      "VendorID,tpep_pickup_datetime,tpep_dropoff_datetime,passenger_count,trip_distance,RatecodeID,store_and_fwd_flag,PULocationID,DOLocationID,payment_type,fare_amount,extra,mta_tax,tip_amount,tolls_amount,improvement_surcharge,total_amount,congestion_surcharge\r",
      "\r\n",
      "1,2020-01-01 00:28:15,2020-01-01 00:33:03,1,1.20,1,N,238,239,1,6,3,0.5,1.47,0,0.3,11.27,2.5\r",
      "\r\n",
      "1,2020-01-01 00:35:39,2020-01-01 00:43:04,1,1.20,1,N,239,238,1,7,3,0.5,1.5,0,0.3,12.3,2.5\r",
      "\r\n",
      "1,2020-01-01 00:47:41,2020-01-01 00:53:52,1,.60,1,N,238,238,1,6,3,0.5,1,0,0.3,10.8,2.5\r",
      "\r\n",
      "1,2020-01-01 00:55:23,2020-01-01 01:00:14,1,.80,1,N,238,151,1,5.5,0.5,0.5,1.36,0,0.3,8.16,0\r",
      "\r\n",
      "2,2020-01-01 00:01:58,2020-01-01 00:04:16,1,.00,1,N,193,193,2,3.5,0.5,0.5,0,0,0.3,4.8,0\r",
      "\r\n",
      "2,2020-01-01 00:09:44,2020-01-01 00:10:37,1,.03,1,N,7,193,2,2.5,0.5,0.5,0,0,0.3,3.8,0\r",
      "\r\n",
      "2,2020-01-01 00:39:25,2020-01-01 00:39:29,1,.00,1,N,193,193,1,2.5,0.5,0.5,0.01,0,0.3,3.81,0\r",
      "\r\n",
      "2,2019-12-18 15:27:49,2019-12-18 15:28:59,1,.00,5,N,193,193,1,0.01,0,0,0,0,0.3,2.81,2.5\r",
      "\r\n",
      "2,2019-12-18 15:30:35,2019-12-18 15:31:35,4,.00,1,N,193,193,1,2.5,0.5,0.5,0,0,0.3,6.3,2.5\r",
      "\r\n"
     ]
    }
   ],
   "source": [
    "!head /home/reusters/data/yellow_tripdata_2020-01.csv"
   ]
  },
  {
   "cell_type": "code",
   "execution_count": 2,
   "metadata": {
    "ExecuteTime": {
     "end_time": "2021-04-08T16:43:40.009687Z",
     "start_time": "2021-04-08T16:43:40.003287Z"
    }
   },
   "outputs": [
    {
     "name": "stdout",
     "output_type": "stream",
     "text": [
      "Overwriting NYCTaxi_format.py\n"
     ]
    }
   ],
   "source": [
    "%%file NYCTaxi_format.py\n",
    "\n",
    "import numpy as np\n",
    "\n",
    "OPTIONS = {}\n",
    "\n",
    "def YNint(yn):\n",
    "    return (0, 1)[yn.upper() in 'YES']\n",
    "\n",
    "def nullint(x):\n",
    "    try:\n",
    "        return np.int64(x)\n",
    "    except:\n",
    "        return np.int64(-1)\n",
    "\n",
    "yellow_format = {'sep': ',',\n",
    "                 'header': 0,\n",
    "                 'parse_dates':['tpep_dropoff_datetime', 'tpep_pickup_datetime'],\n",
    "                 'infer_datetime_format': True,\n",
    "                 'converters': {'store_and_fwd_flag': YNint,\n",
    "                                'VendorID': nullint,\n",
    "                                'RatecodeID': nullint,\n",
    "                                'PULocationID': nullint,\n",
    "                                'DOLocationID': nullint,\n",
    "                                'passenger_count': nullint,\n",
    "                                'payment_type': nullint,\n",
    "                                'trip_type': nullint}}\n",
    "\n",
    "OPTIONS['yellow'] = yellow_format\n",
    "\n",
    "green_format = yellow_format.copy()\n",
    "green_format['parse_dates'] = ['lpep_dropoff_datetime', 'lpep_pickup_datetime']\n",
    "OPTIONS['green'] = green_format"
   ]
  },
  {
   "cell_type": "markdown",
   "metadata": {},
   "source": [
    "### Conversion Method 1: CSV --> Pandas --> Arkouda (NOT SHOWN HERE)\n",
    "\n",
    "See ./NYCTaxi_small.ipynb"
   ]
  },
  {
   "cell_type": "markdown",
   "metadata": {},
   "source": [
    "### Conversion Method 2: CSV --> HDF5 --> Arkouda\n",
    "\n",
    "Arkouda comes with a CSV to HDF5 converter in the repo. It uses the NYCTaxi_format.py file we defined above."
   ]
  },
  {
   "cell_type": "markdown",
   "metadata": {},
   "source": [
    "#### Convert to HDF5"
   ]
  },
  {
   "cell_type": "code",
   "execution_count": 3,
   "metadata": {
    "ExecuteTime": {
     "end_time": "2021-04-08T16:49:34.521700Z",
     "start_time": "2021-04-08T16:47:10.743462Z"
    }
   },
   "outputs": [
    {
     "name": "stdout",
     "output_type": "stream",
     "text": [
      "Columns to be extracted:\n",
      "<class 'pandas.core.frame.DataFrame'>\n",
      "RangeIndex: 1000 entries, 0 to 999\n",
      "Data columns (total 18 columns):\n",
      " #   Column                 Non-Null Count  Dtype         \n",
      "---  ------                 --------------  -----         \n",
      " 0   VendorID               1000 non-null   int64         \n",
      " 1   tpep_pickup_datetime   1000 non-null   datetime64[ns]\n",
      " 2   tpep_dropoff_datetime  1000 non-null   datetime64[ns]\n",
      " 3   passenger_count        1000 non-null   int64         \n",
      " 4   trip_distance          1000 non-null   float64       \n",
      " 5   RatecodeID             1000 non-null   int64         \n",
      " 6   store_and_fwd_flag     1000 non-null   int64         \n",
      " 7   PULocationID           1000 non-null   int64         \n",
      " 8   DOLocationID           1000 non-null   int64         \n",
      " 9   payment_type           1000 non-null   int64         \n",
      " 10  fare_amount            1000 non-null   float64       \n",
      " 11  extra                  1000 non-null   float64       \n",
      " 12  mta_tax                1000 non-null   float64       \n",
      " 13  tip_amount             1000 non-null   float64       \n",
      " 14  tolls_amount           1000 non-null   float64       \n",
      " 15  improvement_surcharge  1000 non-null   float64       \n",
      " 16  total_amount           1000 non-null   float64       \n",
      " 17  congestion_surcharge   1000 non-null   float64       \n",
      "dtypes: datetime64[ns](2), float64(9), int64(7)\n",
      "memory usage: 140.8 KB\n",
      "None\n",
      "100%|████████████████████████████████████████████| 1/1 [02:22<00:00, 142.95s/it]\n"
     ]
    }
   ],
   "source": [
    "!python3 /home/reusters/arkouda/converter/csv2hdf.py \\\n",
    "--formats-file=/home/reusters/ArkoudaNotebooks/NYCTaxi_format.py \\\n",
    "--format=yellow \\\n",
    "--outdir=/home/reusters/data/ \\\n",
    "/home/reusters/data/yellow_tripdata_2020-01.csv"
   ]
  },
  {
   "cell_type": "markdown",
   "metadata": {},
   "source": [
    "#### Read into Arkouda"
   ]
  },
  {
   "cell_type": "code",
   "execution_count": 5,
   "metadata": {
    "ExecuteTime": {
     "end_time": "2021-04-08T16:49:59.800959Z",
     "start_time": "2021-04-08T16:49:59.791741Z"
    }
   },
   "outputs": [
    {
     "name": "stderr",
     "output_type": "stream",
     "text": [
      "connected to arkouda server tcp://*:5555\n"
     ]
    }
   ],
   "source": [
    "# Can skip this if already connected above\n",
    "import arkouda as ak\n",
    "ak.connect(connect_url=\"tcp://localhost:5555\")"
   ]
  },
  {
   "cell_type": "code",
   "execution_count": 6,
   "metadata": {
    "ExecuteTime": {
     "end_time": "2021-04-08T16:50:07.236269Z",
     "start_time": "2021-04-08T16:50:03.935772Z"
    }
   },
   "outputs": [],
   "source": [
    "data = ak.read_all('/home/reusters/data/yellow_tripdata_2020-01.hdf')"
   ]
  },
  {
   "cell_type": "markdown",
   "metadata": {},
   "source": [
    "### Optional: Convert Columns to Specialized Dtypes"
   ]
  },
  {
   "cell_type": "code",
   "execution_count": 7,
   "metadata": {
    "ExecuteTime": {
     "end_time": "2021-04-08T16:50:12.957944Z",
     "start_time": "2021-04-08T16:50:12.865353Z"
    }
   },
   "outputs": [],
   "source": [
    "data['tpep_pickup_datetime'] = ak.Datetime(data['tpep_pickup_datetime'])\n",
    "data['tpep_dropoff_datetime'] = ak.Datetime(data['tpep_dropoff_datetime'])\n",
    "data['store_and_fwd_flag'] = (data['store_and_fwd_flag'] == 1)"
   ]
  },
  {
   "cell_type": "code",
   "execution_count": 8,
   "metadata": {
    "ExecuteTime": {
     "end_time": "2021-04-08T16:50:13.828709Z",
     "start_time": "2021-04-08T16:50:13.787777Z"
    }
   },
   "outputs": [
    {
     "data": {
      "text/plain": [
       "{'DOLocationID': array([239, 238, 238, ..., 169, 42, 205]),\n",
       " 'PULocationID': array([238, 239, 238, ..., 137, 50, 179]),\n",
       " 'RatecodeID': array([1, 1, 1, ..., -1, -1, -1]),\n",
       " 'VendorID': array([1, 1, 1, ..., -1, -1, -1]),\n",
       " 'congestion_surcharge': array([2.5, 2.5, 2.5, ..., 0, 0, 0]),\n",
       " 'extra': array([3, 3, 3, ..., 2.75, 2.75, 2.75]),\n",
       " 'fare_amount': array([6, 7, 6, ..., 48.850000000000001, 27.170000000000002, 54.560000000000002]),\n",
       " 'improvement_surcharge': array([0.29999999999999999, 0.29999999999999999, 0.29999999999999999, ..., 0.29999999999999999, 0.29999999999999999, 0.29999999999999999]),\n",
       " 'mta_tax': array([0.5, 0.5, 0.5, ..., 0, 0, 0.5]),\n",
       " 'passenger_count': array([1, 1, 1, ..., -1, -1, -1]),\n",
       " 'payment_type': array([1, 1, 1, ..., -1, -1, -1]),\n",
       " 'store_and_fwd_flag': array([False, False, False, ..., True, True, True]),\n",
       " 'tip_amount': array([1.47, 1.5, 1, ..., 0, 0, 0]),\n",
       " 'tolls_amount': array([0, 0, 0, ..., 0, 0, 0]),\n",
       " 'total_amount': array([11.27, 12.300000000000001, 10.800000000000001, ..., 51.899999999999999, 30.219999999999999, 58.109999999999999]),\n",
       " 'tpep_dropoff_datetime': Datetime(['2020-01-01 00:33:03',\n",
       "           '2020-01-01 00:43:04',\n",
       "           '2020-01-01 00:53:52',\n",
       "           ... ,\n",
       "           '2020-01-31 23:17:57',\n",
       "           '2020-01-31 22:48:32',\n",
       "           '2020-01-31 23:06:00'],\n",
       "          dtype='datetime64[ns]'),\n",
       " 'tpep_pickup_datetime': Datetime(['2020-01-01 00:28:15',\n",
       "           '2020-01-01 00:35:39',\n",
       "           '2020-01-01 00:47:41',\n",
       "           ... ,\n",
       "           '2020-01-31 22:50:07',\n",
       "           '2020-01-31 22:25:53',\n",
       "           '2020-01-31 22:44:00'],\n",
       "          dtype='datetime64[ns]'),\n",
       " 'trip_distance': array([1.2, 1.2, 0.59999999999999998, ..., 10.51, 5.4900000000000002, 11.6])}"
      ]
     },
     "execution_count": 8,
     "metadata": {},
     "output_type": "execute_result"
    }
   ],
   "source": [
    "data"
   ]
  },
  {
   "cell_type": "code",
   "execution_count": 9,
   "metadata": {
    "ExecuteTime": {
     "end_time": "2021-04-08T16:50:20.199128Z",
     "start_time": "2021-04-08T16:50:20.192894Z"
    }
   },
   "outputs": [],
   "source": [
    "rows = data['VendorID'].size\n",
    "numbytes = sum(v.size*v.itemsize for v in data.values())"
   ]
  },
  {
   "cell_type": "code",
   "execution_count": 10,
   "metadata": {
    "ExecuteTime": {
     "end_time": "2021-04-08T16:50:20.477021Z",
     "start_time": "2021-04-08T16:50:20.472734Z"
    }
   },
   "outputs": [
    {
     "name": "stdout",
     "output_type": "stream",
     "text": [
      "6,405,008 rows\n",
      "877,486,096 bytes\n"
     ]
    }
   ],
   "source": [
    "print(f'{rows:,} rows\\n{numbytes:,} bytes')"
   ]
  },
  {
   "cell_type": "markdown",
   "metadata": {},
   "source": [
    "# Data Exploration"
   ]
  },
  {
   "cell_type": "markdown",
   "metadata": {},
   "source": [
    "## Descriptive Statistics"
   ]
  },
  {
   "cell_type": "code",
   "execution_count": 11,
   "metadata": {
    "ExecuteTime": {
     "end_time": "2021-04-08T16:50:25.872496Z",
     "start_time": "2021-04-08T16:50:25.865641Z"
    }
   },
   "outputs": [],
   "source": [
    "def describe(x):\n",
    "    fmt = 'mean: {}\\nstd : {}\\nmin : {}\\nmax : {}'\n",
    "    if x.dtype == ak.float64:\n",
    "        fmt = fmt.format(*['{:.2f}' for _ in range(4)])\n",
    "    print(fmt.format(x.mean(), x.std(), x.min(), x.max()))"
   ]
  },
  {
   "cell_type": "code",
   "execution_count": 12,
   "metadata": {
    "ExecuteTime": {
     "end_time": "2021-04-08T16:50:26.726390Z",
     "start_time": "2021-04-08T16:50:26.599078Z"
    }
   },
   "outputs": [
    {
     "name": "stdout",
     "output_type": "stream",
     "text": [
      "mean: 12.69\n",
      "std : 12.13\n",
      "min : -1238.00\n",
      "max : 4265.00\n"
     ]
    }
   ],
   "source": [
    "describe(data['fare_amount'])"
   ]
  },
  {
   "cell_type": "markdown",
   "metadata": {},
   "source": [
    "## Histograms"
   ]
  },
  {
   "cell_type": "code",
   "execution_count": 13,
   "metadata": {
    "ExecuteTime": {
     "end_time": "2021-04-08T16:50:32.106860Z",
     "start_time": "2021-04-08T16:50:31.816739Z"
    }
   },
   "outputs": [],
   "source": [
    "import numpy as np\n",
    "from matplotlib import pyplot as plt\n",
    "\n",
    "def hist(x, bins, log=True):\n",
    "    assert bins > 0\n",
    "    # Compute histogram counts in arkouda\n",
    "    h = ak.histogram(x, bins)\n",
    "    # Compute bins in numpy\n",
    "    if isinstance(x, ak.Datetime):\n",
    "        # Matplotlib has trouble plotting np.datetime64 and np.timedelta64\n",
    "        bins = ak.date_range(x.min(), x.max(), periods=bins).to_ndarray().astype('int')\n",
    "    elif isinstance(x, ak.Timedelta):\n",
    "        bins = ak.timedelta_range(x.min(), x.max(), periods=bins).to_ndarray().astype('int')\n",
    "    else:\n",
    "        bins = np.linspace(x.min(), x.max(), bins+1)[:-1]\n",
    "    # Bring h over to numpy for plotting\n",
    "    plt.bar(bins, h.to_ndarray(), width=bins[1]-bins[0])\n",
    "    if log:\n",
    "        plt.yscale('log')"
   ]
  },
  {
   "cell_type": "code",
   "execution_count": 14,
   "metadata": {
    "ExecuteTime": {
     "end_time": "2021-04-08T16:50:34.260217Z",
     "start_time": "2021-04-08T16:50:32.362390Z"
    }
   },
   "outputs": [
    {
     "data": {
      "image/png": "[encoded data removed]",
      "text/plain": [
       "<Figure size 432x288 with 1 Axes>"
      ]
     },
     "metadata": {
      "needs_background": "light"
     },
     "output_type": "display_data"
    }
   ],
   "source": [
    "hist(data['fare_amount'], 100)"
   ]
  },
  {
   "cell_type": "markdown",
   "metadata": {},
   "source": [
    "## Logical Indexing (Filters)\n",
    "Find non-negative fares"
   ]
  },
  {
   "cell_type": "code",
   "execution_count": 15,
   "metadata": {
    "ExecuteTime": {
     "end_time": "2021-04-08T16:50:39.349937Z",
     "start_time": "2021-04-08T16:50:39.332693Z"
    }
   },
   "outputs": [
    {
     "name": "stdout",
     "output_type": "stream",
     "text": [
      "99.7% of fares are non-negative\n"
     ]
    }
   ],
   "source": [
    "nonneg = data['fare_amount'] >= 0\n",
    "print(f'{nonneg.sum() / nonneg.size :.1%} of fares are non-negative')"
   ]
  },
  {
   "cell_type": "markdown",
   "metadata": {},
   "source": [
    "Select only non-negative fares for computation"
   ]
  },
  {
   "cell_type": "code",
   "execution_count": 16,
   "metadata": {
    "ExecuteTime": {
     "end_time": "2021-04-08T16:50:41.648675Z",
     "start_time": "2021-04-08T16:50:41.480705Z"
    }
   },
   "outputs": [
    {
     "name": "stdout",
     "output_type": "stream",
     "text": [
      "mean: 12.77\n",
      "std : 12.01\n",
      "min : 0.00\n",
      "max : 4265.00\n"
     ]
    }
   ],
   "source": [
    "describe(data['fare_amount'][nonneg])"
   ]
  },
  {
   "cell_type": "markdown",
   "metadata": {},
   "source": [
    "Make new data dict with only non-negative fares"
   ]
  },
  {
   "cell_type": "code",
   "execution_count": 17,
   "metadata": {
    "ExecuteTime": {
     "end_time": "2021-04-08T16:50:45.882480Z",
     "start_time": "2021-04-08T16:50:44.995866Z"
    }
   },
   "outputs": [],
   "source": [
    "data_nonneg = {k:v[nonneg] for k, v in data.items()}"
   ]
  },
  {
   "cell_type": "code",
   "execution_count": 18,
   "metadata": {
    "ExecuteTime": {
     "end_time": "2021-04-08T16:50:45.917452Z",
     "start_time": "2021-04-08T16:50:45.885328Z"
    }
   },
   "outputs": [
    {
     "data": {
      "text/plain": [
       "{'DOLocationID': array([239, 238, 238, ..., 169, 42, 205]),\n",
       " 'PULocationID': array([238, 239, 238, ..., 137, 50, 179]),\n",
       " 'RatecodeID': array([1, 1, 1, ..., -1, -1, -1]),\n",
       " 'VendorID': array([1, 1, 1, ..., -1, -1, -1]),\n",
       " 'congestion_surcharge': array([2.5, 2.5, 2.5, ..., 0, 0, 0]),\n",
       " 'extra': array([3, 3, 3, ..., 2.75, 2.75, 2.75]),\n",
       " 'fare_amount': array([6, 7, 6, ..., 48.850000000000001, 27.170000000000002, 54.560000000000002]),\n",
       " 'improvement_surcharge': array([0.29999999999999999, 0.29999999999999999, 0.29999999999999999, ..., 0.29999999999999999, 0.29999999999999999, 0.29999999999999999]),\n",
       " 'mta_tax': array([0.5, 0.5, 0.5, ..., 0, 0, 0.5]),\n",
       " 'passenger_count': array([1, 1, 1, ..., -1, -1, -1]),\n",
       " 'payment_type': array([1, 1, 1, ..., -1, -1, -1]),\n",
       " 'store_and_fwd_flag': array([False, False, False, ..., True, True, True]),\n",
       " 'tip_amount': array([1.47, 1.5, 1, ..., 0, 0, 0]),\n",
       " 'tolls_amount': array([0, 0, 0, ..., 0, 0, 0]),\n",
       " 'total_amount': array([11.27, 12.300000000000001, 10.800000000000001, ..., 51.899999999999999, 30.219999999999999, 58.109999999999999]),\n",
       " 'tpep_dropoff_datetime': Datetime(['2020-01-01 00:33:03',\n",
       "           '2020-01-01 00:43:04',\n",
       "           '2020-01-01 00:53:52',\n",
       "           ... ,\n",
       "           '2020-01-31 23:17:57',\n",
       "           '2020-01-31 22:48:32',\n",
       "           '2020-01-31 23:06:00'],\n",
       "          dtype='datetime64[ns]'),\n",
       " 'tpep_pickup_datetime': Datetime(['2020-01-01 00:28:15',\n",
       "           '2020-01-01 00:35:39',\n",
       "           '2020-01-01 00:47:41',\n",
       "           ... ,\n",
       "           '2020-01-31 22:50:07',\n",
       "           '2020-01-31 22:25:53',\n",
       "           '2020-01-31 22:44:00'],\n",
       "          dtype='datetime64[ns]'),\n",
       " 'trip_distance': array([1.2, 1.2, 0.59999999999999998, ..., 10.51, 5.4900000000000002, 11.6])}"
      ]
     },
     "execution_count": 18,
     "metadata": {},
     "output_type": "execute_result"
    }
   ],
   "source": [
    "data_nonneg"
   ]
  },
  {
   "cell_type": "markdown",
   "metadata": {},
   "source": [
    "## Time Data"
   ]
  },
  {
   "cell_type": "code",
   "execution_count": 19,
   "metadata": {
    "ExecuteTime": {
     "end_time": "2021-04-08T16:50:55.156641Z",
     "start_time": "2021-04-08T16:50:55.103963Z"
    }
   },
   "outputs": [],
   "source": [
    "data['ride_duration'] = data['tpep_dropoff_datetime'] - data['tpep_pickup_datetime']"
   ]
  },
  {
   "cell_type": "code",
   "execution_count": 20,
   "metadata": {
    "ExecuteTime": {
     "end_time": "2021-04-08T16:50:55.622253Z",
     "start_time": "2021-04-08T16:50:55.610110Z"
    }
   },
   "outputs": [
    {
     "data": {
      "text/plain": [
       "Timedelta(['0 days 00:04:48',\n",
       "           '0 days 00:07:25',\n",
       "           '0 days 00:06:11',\n",
       "           ... ,\n",
       "           '0 days 00:27:50',\n",
       "           '0 days 00:22:39',\n",
       "           '0 days 00:22:00'],\n",
       "          dtype='timedelta64[ns]')"
      ]
     },
     "execution_count": 20,
     "metadata": {},
     "output_type": "execute_result"
    }
   ],
   "source": [
    "data['ride_duration']"
   ]
  },
  {
   "cell_type": "code",
   "execution_count": 21,
   "metadata": {
    "ExecuteTime": {
     "end_time": "2021-04-08T16:50:56.637694Z",
     "start_time": "2021-04-08T16:50:56.620483Z"
    }
   },
   "outputs": [
    {
     "data": {
      "text/plain": [
       "(Timedelta('-2 days +01:49:38'), Timedelta('5 days 22:05:07'))"
      ]
     },
     "execution_count": 21,
     "metadata": {},
     "output_type": "execute_result"
    }
   ],
   "source": [
    "data['ride_duration'].min(), data['ride_duration'].max()"
   ]
  },
  {
   "cell_type": "code",
   "execution_count": 22,
   "metadata": {
    "ExecuteTime": {
     "end_time": "2021-04-08T16:50:58.681816Z",
     "start_time": "2021-04-08T16:50:57.254442Z"
    }
   },
   "outputs": [
    {
     "data": {
      "image/png": "[encoded data removed]",
      "text/plain": [
       "<Figure size 432x288 with 1 Axes>"
      ]
     },
     "metadata": {
      "needs_background": "light"
     },
     "output_type": "display_data"
    }
   ],
   "source": [
    "hist(data['ride_duration'], 100)"
   ]
  },
  {
   "cell_type": "markdown",
   "metadata": {},
   "source": [
    "## Taxi Zone Lookup Table"
   ]
  },
  {
   "cell_type": "markdown",
   "metadata": {},
   "source": [
    "### Use Method 1: CSV --> Pandas --> Arkouda"
   ]
  },
  {
   "cell_type": "code",
   "execution_count": 23,
   "metadata": {
    "ExecuteTime": {
     "end_time": "2021-04-08T16:52:04.681279Z",
     "start_time": "2021-04-08T16:52:04.663363Z"
    }
   },
   "outputs": [],
   "source": [
    "import pandas as pd\n",
    "\n",
    "def cvt_to_string(v):\n",
    "    try:\n",
    "        if v == '':\n",
    "            return 'N/A'\n",
    "        else:\n",
    "            return str(v)\n",
    "    except:\n",
    "        return 'N/A'\n",
    "\n",
    "# read the taxi-zone-lookup-table\n",
    "cvt = {'Borough':cvt_to_string, 'Zone':cvt_to_string, 'service_zone':cvt_to_string}\n",
    "tzlut = pd.read_csv(\"/home/reusters/data/taxi+_zone_lookup.csv\",converters=cvt)\n",
    "\n",
    "# location id is 1-based, index is 0-based\n",
    "# fix it up to be aligned with index in data frame\n",
    "# which means add row zero\n",
    "top_row = pd.DataFrame({'LocationID': [0], 'Borough': ['N/A'], 'Zone': ['N/A'], 'service_zone': ['N/A']})\n",
    "tzlut = pd.concat([top_row, tzlut]).reset_index(drop = True)"
   ]
  },
  {
   "cell_type": "code",
   "execution_count": 24,
   "metadata": {
    "ExecuteTime": {
     "end_time": "2021-04-08T16:52:05.482113Z",
     "start_time": "2021-04-08T16:52:05.460669Z"
    }
   },
   "outputs": [
    {
     "data": {
      "text/html": [
       "<div>\n",
       "<style scoped>\n",
       "    .dataframe tbody tr th:only-of-type {\n",
       "        vertical-align: middle;\n",
       "    }\n",
       "\n",
       "    .dataframe tbody tr th {\n",
       "        vertical-align: top;\n",
       "    }\n",
       "\n",
       "    .dataframe thead th {\n",
       "        text-align: right;\n",
       "    }\n",
       "</style>\n",
       "<table border=\"1\" class=\"dataframe\">\n",
       "  <thead>\n",
       "    <tr style=\"text-align: right;\">\n",
       "      <th></th>\n",
       "      <th>LocationID</th>\n",
       "      <th>Borough</th>\n",
       "      <th>Zone</th>\n",
       "      <th>service_zone</th>\n",
       "    </tr>\n",
       "  </thead>\n",
       "  <tbody>\n",
       "    <tr>\n",
       "      <th>0</th>\n",
       "      <td>0</td>\n",
       "      <td>N/A</td>\n",
       "      <td>N/A</td>\n",
       "      <td>N/A</td>\n",
       "    </tr>\n",
       "    <tr>\n",
       "      <th>1</th>\n",
       "      <td>1</td>\n",
       "      <td>EWR</td>\n",
       "      <td>Newark Airport</td>\n",
       "      <td>EWR</td>\n",
       "    </tr>\n",
       "    <tr>\n",
       "      <th>2</th>\n",
       "      <td>2</td>\n",
       "      <td>Queens</td>\n",
       "      <td>Jamaica Bay</td>\n",
       "      <td>Boro Zone</td>\n",
       "    </tr>\n",
       "    <tr>\n",
       "      <th>3</th>\n",
       "      <td>3</td>\n",
       "      <td>Bronx</td>\n",
       "      <td>Allerton/Pelham Gardens</td>\n",
       "      <td>Boro Zone</td>\n",
       "    </tr>\n",
       "    <tr>\n",
       "      <th>4</th>\n",
       "      <td>4</td>\n",
       "      <td>Manhattan</td>\n",
       "      <td>Alphabet City</td>\n",
       "      <td>Yellow Zone</td>\n",
       "    </tr>\n",
       "    <tr>\n",
       "      <th>...</th>\n",
       "      <td>...</td>\n",
       "      <td>...</td>\n",
       "      <td>...</td>\n",
       "      <td>...</td>\n",
       "    </tr>\n",
       "    <tr>\n",
       "      <th>261</th>\n",
       "      <td>261</td>\n",
       "      <td>Manhattan</td>\n",
       "      <td>World Trade Center</td>\n",
       "      <td>Yellow Zone</td>\n",
       "    </tr>\n",
       "    <tr>\n",
       "      <th>262</th>\n",
       "      <td>262</td>\n",
       "      <td>Manhattan</td>\n",
       "      <td>Yorkville East</td>\n",
       "      <td>Yellow Zone</td>\n",
       "    </tr>\n",
       "    <tr>\n",
       "      <th>263</th>\n",
       "      <td>263</td>\n",
       "      <td>Manhattan</td>\n",
       "      <td>Yorkville West</td>\n",
       "      <td>Yellow Zone</td>\n",
       "    </tr>\n",
       "    <tr>\n",
       "      <th>264</th>\n",
       "      <td>264</td>\n",
       "      <td>Unknown</td>\n",
       "      <td>NV</td>\n",
       "      <td>N/A</td>\n",
       "    </tr>\n",
       "    <tr>\n",
       "      <th>265</th>\n",
       "      <td>265</td>\n",
       "      <td>Unknown</td>\n",
       "      <td>NA</td>\n",
       "      <td>N/A</td>\n",
       "    </tr>\n",
       "  </tbody>\n",
       "</table>\n",
       "<p>266 rows × 4 columns</p>\n",
       "</div>"
      ],
      "text/plain": [
       "     LocationID    Borough                     Zone service_zone\n",
       "0             0        N/A                      N/A          N/A\n",
       "1             1        EWR           Newark Airport          EWR\n",
       "2             2     Queens              Jamaica Bay    Boro Zone\n",
       "3             3      Bronx  Allerton/Pelham Gardens    Boro Zone\n",
       "4             4  Manhattan            Alphabet City  Yellow Zone\n",
       "..          ...        ...                      ...          ...\n",
       "261         261  Manhattan       World Trade Center  Yellow Zone\n",
       "262         262  Manhattan           Yorkville East  Yellow Zone\n",
       "263         263  Manhattan           Yorkville West  Yellow Zone\n",
       "264         264    Unknown                       NV          N/A\n",
       "265         265    Unknown                       NA          N/A\n",
       "\n",
       "[266 rows x 4 columns]"
      ]
     },
     "execution_count": 24,
     "metadata": {},
     "output_type": "execute_result"
    }
   ],
   "source": [
    "tzlut"
   ]
  },
  {
   "cell_type": "markdown",
   "metadata": {},
   "source": [
    "### Convert dataframe to dictionary of Arkouda arrays"
   ]
  },
  {
   "cell_type": "code",
   "execution_count": 25,
   "metadata": {
    "ExecuteTime": {
     "end_time": "2021-04-08T16:52:08.343341Z",
     "start_time": "2021-04-08T16:52:08.335936Z"
    }
   },
   "outputs": [],
   "source": [
    "# transfer columns of DataFrame to arkouda\n",
    "def ak_create_akdict_from_df(df):\n",
    "    akdict = {}\n",
    "    for cname in df.keys():\n",
    "        if df[cname].dtype.name == 'object':\n",
    "            akdict[cname] = ak.from_series(df[cname],dtype=np.str)\n",
    "        else:\n",
    "            akdict[cname] = ak.from_series(df[cname])\n",
    "\n",
    "    return akdict"
   ]
  },
  {
   "cell_type": "code",
   "execution_count": 26,
   "metadata": {
    "ExecuteTime": {
     "end_time": "2021-04-08T16:52:10.285573Z",
     "start_time": "2021-04-08T16:52:10.256540Z"
    }
   },
   "outputs": [],
   "source": [
    "# convert data frame with strings and int64 data\n",
    "aktzlut = ak_create_akdict_from_df(tzlut)"
   ]
  },
  {
   "cell_type": "code",
   "execution_count": 27,
   "metadata": {
    "ExecuteTime": {
     "end_time": "2021-04-08T16:52:10.681272Z",
     "start_time": "2021-04-08T16:52:10.659025Z"
    }
   },
   "outputs": [
    {
     "data": {
      "text/plain": [
       "{'LocationID': array([0, 1, 2, ..., 263, 264, 265]),\n",
       " 'Borough': array(['N/A', 'EWR', 'Queens', ... , 'Manhattan', 'Unknown', 'Unknown']),\n",
       " 'Zone': array(['N/A', 'Newark Airport', 'Jamaica Bay', ... , 'Yorkville West', 'NV', 'NA']),\n",
       " 'service_zone': array(['N/A', 'EWR', 'Boro Zone', ... , 'Yellow Zone', 'N/A', 'N/A'])}"
      ]
     },
     "execution_count": 27,
     "metadata": {},
     "output_type": "execute_result"
    }
   ],
   "source": [
    "aktzlut"
   ]
  },
  {
   "cell_type": "markdown",
   "metadata": {},
   "source": [
    "### Apply Lookup Table"
   ]
  },
  {
   "cell_type": "markdown",
   "metadata": {},
   "source": [
    "Ensure LocationID is really a dense, 0-up index"
   ]
  },
  {
   "cell_type": "code",
   "execution_count": 28,
   "metadata": {
    "ExecuteTime": {
     "end_time": "2021-04-08T16:52:14.817439Z",
     "start_time": "2021-04-08T16:52:14.800305Z"
    }
   },
   "outputs": [
    {
     "data": {
      "text/plain": [
       "True"
      ]
     },
     "execution_count": 28,
     "metadata": {},
     "output_type": "execute_result"
    }
   ],
   "source": [
    "(aktzlut['LocationID'] == ak.arange(aktzlut['LocationID'].size)).all()"
   ]
  },
  {
   "cell_type": "code",
   "execution_count": 29,
   "metadata": {
    "ExecuteTime": {
     "end_time": "2021-04-08T16:52:39.081171Z",
     "start_time": "2021-04-08T16:52:38.501737Z"
    }
   },
   "outputs": [],
   "source": [
    "data['PUBorough'] = aktzlut['Borough'][data['PULocationID']]\n",
    "data['DOBorough'] = aktzlut['Borough'][data['DOLocationID']]"
   ]
  },
  {
   "cell_type": "code",
   "execution_count": 30,
   "metadata": {
    "ExecuteTime": {
     "end_time": "2021-04-08T16:52:41.239247Z",
     "start_time": "2021-04-08T16:52:40.480680Z"
    }
   },
   "outputs": [],
   "source": [
    "data['PUZone'] = aktzlut['Zone'][data['PULocationID']]\n",
    "data['DOZone'] = aktzlut['Zone'][data['DOLocationID']]"
   ]
  },
  {
   "cell_type": "code",
   "execution_count": 31,
   "metadata": {
    "ExecuteTime": {
     "end_time": "2021-04-08T16:52:41.990317Z",
     "start_time": "2021-04-08T16:52:41.936342Z"
    }
   },
   "outputs": [
    {
     "data": {
      "text/plain": [
       "{'DOLocationID': array([239, 238, 238, ..., 169, 42, 205]),\n",
       " 'PULocationID': array([238, 239, 238, ..., 137, 50, 179]),\n",
       " 'RatecodeID': array([1, 1, 1, ..., -1, -1, -1]),\n",
       " 'VendorID': array([1, 1, 1, ..., -1, -1, -1]),\n",
       " 'congestion_surcharge': array([2.5, 2.5, 2.5, ..., 0, 0, 0]),\n",
       " 'extra': array([3, 3, 3, ..., 2.75, 2.75, 2.75]),\n",
       " 'fare_amount': array([6, 7, 6, ..., 48.850000000000001, 27.170000000000002, 54.560000000000002]),\n",
       " 'improvement_surcharge': array([0.29999999999999999, 0.29999999999999999, 0.29999999999999999, ..., 0.29999999999999999, 0.29999999999999999, 0.29999999999999999]),\n",
       " 'mta_tax': array([0.5, 0.5, 0.5, ..., 0, 0, 0.5]),\n",
       " 'passenger_count': array([1, 1, 1, ..., -1, -1, -1]),\n",
       " 'payment_type': array([1, 1, 1, ..., -1, -1, -1]),\n",
       " 'store_and_fwd_flag': array([False, False, False, ..., True, True, True]),\n",
       " 'tip_amount': array([1.47, 1.5, 1, ..., 0, 0, 0]),\n",
       " 'tolls_amount': array([0, 0, 0, ..., 0, 0, 0]),\n",
       " 'total_amount': array([11.27, 12.300000000000001, 10.800000000000001, ..., 51.899999999999999, 30.219999999999999, 58.109999999999999]),\n",
       " 'tpep_dropoff_datetime': Datetime(['2020-01-01 00:33:03',\n",
       "           '2020-01-01 00:43:04',\n",
       "           '2020-01-01 00:53:52',\n",
       "           ... ,\n",
       "           '2020-01-31 23:17:57',\n",
       "           '2020-01-31 22:48:32',\n",
       "           '2020-01-31 23:06:00'],\n",
       "          dtype='datetime64[ns]'),\n",
       " 'tpep_pickup_datetime': Datetime(['2020-01-01 00:28:15',\n",
       "           '2020-01-01 00:35:39',\n",
       "           '2020-01-01 00:47:41',\n",
       "           ... ,\n",
       "           '2020-01-31 22:50:07',\n",
       "           '2020-01-31 22:25:53',\n",
       "           '2020-01-31 22:44:00'],\n",
       "          dtype='datetime64[ns]'),\n",
       " 'trip_distance': array([1.2, 1.2, 0.59999999999999998, ..., 10.51, 5.4900000000000002, 11.6]),\n",
       " 'ride_duration': Timedelta(['0 days 00:04:48',\n",
       "            '0 days 00:07:25',\n",
       "            '0 days 00:06:11',\n",
       "            ... ,\n",
       "            '0 days 00:27:50',\n",
       "            '0 days 00:22:39',\n",
       "            '0 days 00:22:00'],\n",
       "           dtype='timedelta64[ns]'),\n",
       " 'PUBorough': array(['Manhattan', 'Manhattan', 'Manhattan', ... , 'Manhattan', 'Manhattan', 'Queens']),\n",
       " 'DOBorough': array(['Manhattan', 'Manhattan', 'Manhattan', ... , 'Bronx', 'Manhattan', 'Queens']),\n",
       " 'PUZone': array(['Upper West Side North', 'Upper West Side South', 'Upper West Side North', ... , 'Kips Bay', 'Clinton West', 'Old Astoria']),\n",
       " 'DOZone': array(['Upper West Side South', 'Upper West Side North', 'Upper West Side North', ... , 'Mount Hope', 'Central Harlem North', 'Saint Albans'])}"
      ]
     },
     "execution_count": 31,
     "metadata": {},
     "output_type": "execute_result"
    }
   ],
   "source": [
    "data"
   ]
  },
  {
   "cell_type": "markdown",
   "metadata": {},
   "source": [
    "## GroupBy: Construct a Graph\n",
    "\n",
    "Directed graph from PULocationID --> DOLocationID"
   ]
  },
  {
   "cell_type": "code",
   "execution_count": 32,
   "metadata": {
    "ExecuteTime": {
     "end_time": "2021-04-08T16:52:49.736456Z",
     "start_time": "2021-04-08T16:52:49.338923Z"
    }
   },
   "outputs": [],
   "source": [
    "byloc = ak.GroupBy([data['PULocationID'], data['DOLocationID']])"
   ]
  },
  {
   "cell_type": "code",
   "execution_count": 33,
   "metadata": {
    "ExecuteTime": {
     "end_time": "2021-04-08T16:52:50.949333Z",
     "start_time": "2021-04-08T16:52:50.943493Z"
    }
   },
   "outputs": [
    {
     "data": {
      "text/plain": [
       "[array([1, 1, 1, ..., 265, 265, 265]), array([1, 50, 68, ..., 263, 264, 265])]"
      ]
     },
     "execution_count": 33,
     "metadata": {},
     "output_type": "execute_result"
    }
   ],
   "source": [
    "byloc.unique_keys"
   ]
  },
  {
   "cell_type": "markdown",
   "metadata": {},
   "source": [
    "Edge weight is number of rides\n",
    "\n",
    "Aggregation methods of `GroupBy` return tuple of (unique_keys, aggregate_values)"
   ]
  },
  {
   "cell_type": "code",
   "execution_count": 34,
   "metadata": {
    "ExecuteTime": {
     "end_time": "2021-04-08T16:52:52.560890Z",
     "start_time": "2021-04-08T16:52:52.556348Z"
    }
   },
   "outputs": [],
   "source": [
    "(u, v), w = byloc.count()"
   ]
  },
  {
   "cell_type": "code",
   "execution_count": 35,
   "metadata": {
    "ExecuteTime": {
     "end_time": "2021-04-08T16:52:55.091161Z",
     "start_time": "2021-04-08T16:52:55.083034Z"
    }
   },
   "outputs": [
    {
     "data": {
      "text/plain": [
       "(array([1, 1, 1, ..., 265, 265, 265]),\n",
       " array([1, 50, 68, ..., 263, 264, 265]),\n",
       " array([638, 1, 1, ..., 4, 317, 2508]))"
      ]
     },
     "execution_count": 35,
     "metadata": {},
     "output_type": "execute_result"
    }
   ],
   "source": [
    "u, v, w"
   ]
  },
  {
   "cell_type": "markdown",
   "metadata": {
    "ExecuteTime": {
     "end_time": "2021-04-08T16:12:55.415753Z",
     "start_time": "2021-04-08T16:12:55.410240Z"
    }
   },
   "source": [
    "## Broadcast: Find Rides with Anomalous Fares\n",
    "\n",
    "Compute mean and std of fare by (pickup, dropoff)"
   ]
  },
  {
   "cell_type": "code",
   "execution_count": 36,
   "metadata": {
    "ExecuteTime": {
     "end_time": "2021-04-08T16:52:58.207886Z",
     "start_time": "2021-04-08T16:52:58.020986Z"
    }
   },
   "outputs": [],
   "source": [
    "_, mf = byloc.mean(data['fare_amount'])"
   ]
  },
  {
   "cell_type": "code",
   "execution_count": 37,
   "metadata": {
    "ExecuteTime": {
     "end_time": "2021-04-08T16:52:58.943101Z",
     "start_time": "2021-04-08T16:52:58.693812Z"
    }
   },
   "outputs": [],
   "source": [
    "sf = (byloc.sum(data['fare_amount']**2)[1] / w) - mf**2"
   ]
  },
  {
   "cell_type": "markdown",
   "metadata": {},
   "source": [
    "Broadcast group values back to ride dataframe to compute z-scores of rides"
   ]
  },
  {
   "cell_type": "code",
   "execution_count": 38,
   "metadata": {
    "ExecuteTime": {
     "end_time": "2021-04-08T16:53:01.358678Z",
     "start_time": "2021-04-08T16:53:01.099534Z"
    }
   },
   "outputs": [],
   "source": [
    "data['fare_mean'] = byloc.broadcast(mf, permute=True)\n",
    "data['fare_std'] = byloc.broadcast(sf, permute=True)"
   ]
  },
  {
   "cell_type": "code",
   "execution_count": 39,
   "metadata": {
    "ExecuteTime": {
     "end_time": "2021-04-08T16:53:01.933622Z",
     "start_time": "2021-04-08T16:53:01.855683Z"
    }
   },
   "outputs": [],
   "source": [
    "data['fare_z'] = (data['fare_amount'] - data['fare_mean']) / (data['fare_std'] + 1)"
   ]
  },
  {
   "cell_type": "code",
   "execution_count": 40,
   "metadata": {
    "ExecuteTime": {
     "end_time": "2021-04-08T16:53:04.292667Z",
     "start_time": "2021-04-08T16:53:03.020455Z"
    }
   },
   "outputs": [
    {
     "data": {
      "image/png": "[encoded data removed]",
      "text/plain": [
       "<Figure size 432x288 with 1 Axes>"
      ]
     },
     "metadata": {
      "needs_background": "light"
     },
     "output_type": "display_data"
    }
   ],
   "source": [
    "hist(data['fare_z'], 100)"
   ]
  },
  {
   "cell_type": "markdown",
   "metadata": {},
   "source": [
    "## Bring Small Result Set Back to Pandas"
   ]
  },
  {
   "cell_type": "code",
   "execution_count": 41,
   "metadata": {
    "ExecuteTime": {
     "end_time": "2021-04-08T16:53:27.613830Z",
     "start_time": "2021-04-08T16:53:26.720578Z"
    }
   },
   "outputs": [],
   "source": [
    "exorbitant = (data['fare_z'] > 15)\n",
    "exdf = pd.DataFrame({k: v[exorbitant].to_ndarray() for k, v in data.items()})"
   ]
  },
  {
   "cell_type": "code",
   "execution_count": 43,
   "metadata": {
    "ExecuteTime": {
     "end_time": "2021-04-08T16:53:47.767093Z",
     "start_time": "2021-04-08T16:53:47.716858Z"
    }
   },
   "outputs": [
    {
     "data": {
      "text/html": [
       "<div>\n",
       "<style scoped>\n",
       "    .dataframe tbody tr th:only-of-type {\n",
       "        vertical-align: middle;\n",
       "    }\n",
       "\n",
       "    .dataframe tbody tr th {\n",
       "        vertical-align: top;\n",
       "    }\n",
       "\n",
       "    .dataframe thead th {\n",
       "        text-align: right;\n",
       "    }\n",
       "</style>\n",
       "<table border=\"1\" class=\"dataframe\">\n",
       "  <thead>\n",
       "    <tr style=\"text-align: right;\">\n",
       "      <th></th>\n",
       "      <th>DOLocationID</th>\n",
       "      <th>PULocationID</th>\n",
       "      <th>RatecodeID</th>\n",
       "      <th>VendorID</th>\n",
       "      <th>congestion_surcharge</th>\n",
       "      <th>extra</th>\n",
       "      <th>fare_amount</th>\n",
       "      <th>improvement_surcharge</th>\n",
       "      <th>mta_tax</th>\n",
       "      <th>passenger_count</th>\n",
       "      <th>...</th>\n",
       "      <th>tpep_pickup_datetime</th>\n",
       "      <th>trip_distance</th>\n",
       "      <th>ride_duration</th>\n",
       "      <th>PUBorough</th>\n",
       "      <th>DOBorough</th>\n",
       "      <th>PUZone</th>\n",
       "      <th>DOZone</th>\n",
       "      <th>fare_mean</th>\n",
       "      <th>fare_std</th>\n",
       "      <th>fare_z</th>\n",
       "    </tr>\n",
       "  </thead>\n",
       "  <tbody>\n",
       "    <tr>\n",
       "      <th>0</th>\n",
       "      <td>239</td>\n",
       "      <td>142</td>\n",
       "      <td>1</td>\n",
       "      <td>1</td>\n",
       "      <td>2.5</td>\n",
       "      <td>2.5</td>\n",
       "      <td>73.5</td>\n",
       "      <td>0.3</td>\n",
       "      <td>0.5</td>\n",
       "      <td>2</td>\n",
       "      <td>...</td>\n",
       "      <td>2020-01-02 10:33:32</td>\n",
       "      <td>14.60</td>\n",
       "      <td>0 days 02:00:23</td>\n",
       "      <td>Manhattan</td>\n",
       "      <td>Manhattan</td>\n",
       "      <td>Lincoln Square East</td>\n",
       "      <td>Upper West Side South</td>\n",
       "      <td>5.967514</td>\n",
       "      <td>3.295863</td>\n",
       "      <td>15.720352</td>\n",
       "    </tr>\n",
       "    <tr>\n",
       "      <th>1</th>\n",
       "      <td>237</td>\n",
       "      <td>141</td>\n",
       "      <td>5</td>\n",
       "      <td>2</td>\n",
       "      <td>2.5</td>\n",
       "      <td>0.0</td>\n",
       "      <td>200.0</td>\n",
       "      <td>0.3</td>\n",
       "      <td>0.0</td>\n",
       "      <td>1</td>\n",
       "      <td>...</td>\n",
       "      <td>2020-01-04 04:40:25</td>\n",
       "      <td>0.11</td>\n",
       "      <td>0 days 00:01:21</td>\n",
       "      <td>Manhattan</td>\n",
       "      <td>Manhattan</td>\n",
       "      <td>Lenox Hill West</td>\n",
       "      <td>Upper East Side South</td>\n",
       "      <td>5.635080</td>\n",
       "      <td>10.946301</td>\n",
       "      <td>16.269883</td>\n",
       "    </tr>\n",
       "    <tr>\n",
       "      <th>2</th>\n",
       "      <td>90</td>\n",
       "      <td>249</td>\n",
       "      <td>5</td>\n",
       "      <td>2</td>\n",
       "      <td>2.5</td>\n",
       "      <td>0.0</td>\n",
       "      <td>93.0</td>\n",
       "      <td>0.0</td>\n",
       "      <td>0.0</td>\n",
       "      <td>1</td>\n",
       "      <td>...</td>\n",
       "      <td>2020-01-07 10:02:11</td>\n",
       "      <td>1.20</td>\n",
       "      <td>0 days 03:41:06</td>\n",
       "      <td>Manhattan</td>\n",
       "      <td>Manhattan</td>\n",
       "      <td>West Village</td>\n",
       "      <td>Flatiron</td>\n",
       "      <td>5.511267</td>\n",
       "      <td>4.614001</td>\n",
       "      <td>15.584024</td>\n",
       "    </tr>\n",
       "    <tr>\n",
       "      <th>3</th>\n",
       "      <td>236</td>\n",
       "      <td>236</td>\n",
       "      <td>5</td>\n",
       "      <td>1</td>\n",
       "      <td>0.0</td>\n",
       "      <td>0.0</td>\n",
       "      <td>500.0</td>\n",
       "      <td>0.3</td>\n",
       "      <td>0.0</td>\n",
       "      <td>1</td>\n",
       "      <td>...</td>\n",
       "      <td>2020-01-09 11:30:33</td>\n",
       "      <td>2.50</td>\n",
       "      <td>0 days 00:00:44</td>\n",
       "      <td>Manhattan</td>\n",
       "      <td>Manhattan</td>\n",
       "      <td>Upper East Side North</td>\n",
       "      <td>Upper East Side North</td>\n",
       "      <td>5.229094</td>\n",
       "      <td>31.379864</td>\n",
       "      <td>15.280203</td>\n",
       "    </tr>\n",
       "    <tr>\n",
       "      <th>4</th>\n",
       "      <td>238</td>\n",
       "      <td>239</td>\n",
       "      <td>5</td>\n",
       "      <td>2</td>\n",
       "      <td>2.5</td>\n",
       "      <td>0.0</td>\n",
       "      <td>200.0</td>\n",
       "      <td>0.3</td>\n",
       "      <td>0.0</td>\n",
       "      <td>1</td>\n",
       "      <td>...</td>\n",
       "      <td>2020-01-16 04:21:37</td>\n",
       "      <td>0.75</td>\n",
       "      <td>0 days 00:13:51</td>\n",
       "      <td>Manhattan</td>\n",
       "      <td>Manhattan</td>\n",
       "      <td>Upper West Side South</td>\n",
       "      <td>Upper West Side North</td>\n",
       "      <td>5.374298</td>\n",
       "      <td>4.976883</td>\n",
       "      <td>32.563077</td>\n",
       "    </tr>\n",
       "  </tbody>\n",
       "</table>\n",
       "<p>5 rows × 26 columns</p>\n",
       "</div>"
      ],
      "text/plain": [
       "   DOLocationID  PULocationID  RatecodeID  VendorID  congestion_surcharge  \\\n",
       "0           239           142           1         1                   2.5   \n",
       "1           237           141           5         2                   2.5   \n",
       "2            90           249           5         2                   2.5   \n",
       "3           236           236           5         1                   0.0   \n",
       "4           238           239           5         2                   2.5   \n",
       "\n",
       "   extra  fare_amount  improvement_surcharge  mta_tax  passenger_count  ...  \\\n",
       "0    2.5         73.5                    0.3      0.5                2  ...   \n",
       "1    0.0        200.0                    0.3      0.0                1  ...   \n",
       "2    0.0         93.0                    0.0      0.0                1  ...   \n",
       "3    0.0        500.0                    0.3      0.0                1  ...   \n",
       "4    0.0        200.0                    0.3      0.0                1  ...   \n",
       "\n",
       "   tpep_pickup_datetime  trip_distance   ride_duration  PUBorough  DOBorough  \\\n",
       "0   2020-01-02 10:33:32          14.60 0 days 02:00:23  Manhattan  Manhattan   \n",
       "1   2020-01-04 04:40:25           0.11 0 days 00:01:21  Manhattan  Manhattan   \n",
       "2   2020-01-07 10:02:11           1.20 0 days 03:41:06  Manhattan  Manhattan   \n",
       "3   2020-01-09 11:30:33           2.50 0 days 00:00:44  Manhattan  Manhattan   \n",
       "4   2020-01-16 04:21:37           0.75 0 days 00:13:51  Manhattan  Manhattan   \n",
       "\n",
       "                  PUZone                 DOZone  fare_mean   fare_std  \\\n",
       "0    Lincoln Square East  Upper West Side South   5.967514   3.295863   \n",
       "1        Lenox Hill West  Upper East Side South   5.635080  10.946301   \n",
       "2           West Village               Flatiron   5.511267   4.614001   \n",
       "3  Upper East Side North  Upper East Side North   5.229094  31.379864   \n",
       "4  Upper West Side South  Upper West Side North   5.374298   4.976883   \n",
       "\n",
       "      fare_z  \n",
       "0  15.720352  \n",
       "1  16.269883  \n",
       "2  15.584024  \n",
       "3  15.280203  \n",
       "4  32.563077  \n",
       "\n",
       "[5 rows x 26 columns]"
      ]
     },
     "execution_count": 43,
     "metadata": {},
     "output_type": "execute_result"
    }
   ],
   "source": [
    "exdf.head(5)"
   ]
  },
  {
   "cell_type": "code",
   "execution_count": 44,
   "metadata": {
    "ExecuteTime": {
     "end_time": "2021-04-08T16:54:19.586958Z",
     "start_time": "2021-04-08T16:54:19.542965Z"
    }
   },
   "outputs": [
    {
     "data": {
      "text/plain": [
       "{'DOLocationID': 238,\n",
       " 'PULocationID': 239,\n",
       " 'RatecodeID': 5,\n",
       " 'VendorID': 2,\n",
       " 'congestion_surcharge': 2.5,\n",
       " 'extra': 0.0,\n",
       " 'fare_amount': 200.0,\n",
       " 'improvement_surcharge': 0.3,\n",
       " 'mta_tax': 0.0,\n",
       " 'passenger_count': 1,\n",
       " 'payment_type': 2,\n",
       " 'store_and_fwd_flag': False,\n",
       " 'tip_amount': 0.0,\n",
       " 'tolls_amount': 0.0,\n",
       " 'total_amount': 202.8,\n",
       " 'tpep_dropoff_datetime': Timestamp('2020-01-16 04:35:28'),\n",
       " 'tpep_pickup_datetime': Timestamp('2020-01-16 04:21:37'),\n",
       " 'trip_distance': 0.75,\n",
       " 'ride_duration': Timedelta('0 days 00:13:51'),\n",
       " 'PUBorough': 'Manhattan',\n",
       " 'DOBorough': 'Manhattan',\n",
       " 'PUZone': 'Upper West Side South',\n",
       " 'DOZone': 'Upper West Side North',\n",
       " 'fare_mean': 5.374297533092999,\n",
       " 'fare_std': 4.976883060492071,\n",
       " 'fare_z': 32.56307685746886}"
      ]
     },
     "execution_count": 44,
     "metadata": {},
     "output_type": "execute_result"
    }
   ],
   "source": [
    "worst = data['fare_z'].argmax()\n",
    "{k:v[worst] for k, v in data.items()}"
   ]
  },
  {
   "cell_type": "markdown",
   "metadata": {},
   "source": [
    "## Disconnect from the server or shutdown the server"
   ]
  },
  {
   "cell_type": "code",
   "execution_count": 49,
   "metadata": {
    "ExecuteTime": {
     "end_time": "2021-04-08T16:39:17.518485Z",
     "start_time": "2021-04-08T16:39:17.515727Z"
    }
   },
   "outputs": [],
   "source": [
    "# disconnect or shutdown the server\n",
    "#ak.disconnect()\n",
    "#ak.shutdown()"
   ]
  }
 ],
 "metadata": {
  "kernelspec": {
   "display_name": "Python 3",
   "language": "python",
   "name": "python3"
  },
  "language_info": {
   "codemirror_mode": {
    "name": "ipython",
    "version": 3
   },
   "file_extension": ".py",
   "mimetype": "text/x-python",
   "name": "python",
   "nbconvert_exporter": "python",
   "pygments_lexer": "ipython3",
   "version": "3.7.0"
  }
 },
 "nbformat": 4,
 "nbformat_minor": 4
}
